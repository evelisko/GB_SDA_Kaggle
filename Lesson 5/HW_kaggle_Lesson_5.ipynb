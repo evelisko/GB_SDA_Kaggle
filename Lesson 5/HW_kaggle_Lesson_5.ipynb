{
 "cells": [
  {
   "cell_type": "markdown",
   "metadata": {},
   "source": [
    "# Урок 5. Feature Engineering, Feature Selection, part I\n",
    "\n",
    "Продолжим работу с данными, которые были использованы в ДЗ 2 и 3, продолжим решать задачу обнаружения мошеннических транзакций, что позволит получить полное решение задачи / полный пайплайн.\n",
    "\n",
    "**Задание 0:** выбрать любую модель машнного обучения и зафиксировать любой тип валидации. Обучить базовую модель и зафиксировать базовое качество модели. В каждом следующем задании нужно будет обучить выбранную модель и оценивать ее качество на зафиксированной схеме валидации. После каждого задания, требуется сделать вывод о достигаемом качестве модели, по сравнению с качестом из предыдущего шага.\n",
    "\n",
    "**Задание 1:** признак `TransactionDT` - это смещение в секундах относительно базовой даты. Базовая дата - `2017-12-01`, преобразовать признак `TransactionDT` в `datetime`, прибавив к базовой дате исходное значение признака. Из полученного признака выделить год, месяц, день недели, час, день.\n",
    "\n",
    "**Задание 2:** сделать конкатенацию признаков\n",
    "* `card1 + card2`;\n",
    "* `card1 + card2 + card_3 + card_5`;\n",
    "* `card1 + card2 + card_3 + card_5 + addr1 + addr2`\n",
    "\n",
    "Рассматривать их как категориальных признаки.\n",
    "\n",
    "**Задание 3:** Сделать `FrequencyEncoder` для признаков `card1 - card6`, `addr1`, `addr2`.\n",
    "\n",
    "**Задание 4:** Создать признаки на основе отношения: `TransactionAmt` к вычисленной статистике. Статистика - среднее значение / стандартное отклонение `TransactionAmt`, сгруппированное по `card1 - card6`, `addr1`, `addr2`, и по признакам, созданным в задании 2.\n",
    "\n",
    "**Задание 5:** Создать признаки на основе отношения: D15 к вычисленной статистике. Статистика - среднее значение / стандартное отклонение D15, сгруппированное по `card1 - card6`, `addr1`, `addr2`, и по признакам, созданным в задании 2.\n",
    "\n",
    "**Задание 6:** выделить дробную часть и целую часть признака `TransactionAmt` в два отдельных признака. После создать отдельных признак - логарифм от `TransactionAmt`\n",
    "\n",
    "**Задание 7 (опция):** выполнить предварительную подготовку / очистку признаков `P_emaildomain` и `R_emaildomain` (что и как делать - остается на ваше усмотрение) и сделать Frequency Encoding для очищенных признаков.\n"
   ]
  },
  {
   "cell_type": "code",
   "execution_count": 124,
   "metadata": {},
   "outputs": [],
   "source": [
    "import numpy as np\n",
    "import pandas as pd\n",
    "import xgboost as xgb\n",
    "import catboost as cb\n",
    "import lightgbm as lgb\n",
    "import matplotlib.pyplot as plt\n",
    "import missingno as msno\n",
    "from sklearn import metrics\n",
    "from datetime import timedelta\n",
    "from datetime import datetime\n",
    "\n",
    "from sklearn.model_selection import train_test_split\n",
    "# from sunbird.categorical_encoding import frequency_encoding\n",
    "from sklearn.metrics import roc_auc_score, f1_score\n",
    "from sklearn.preprocessing import LabelEncoder, OneHotEncoder\n",
    "import seaborn as sns\n",
    "import scipy.stats as st\n",
    "\n",
    "import warnings\n",
    "warnings.simplefilter(\"ignore\")\n",
    "\n",
    "import warnings\n",
    "from tqdm import tqdm\n",
    "from typing import List, Tuple\n",
    "\n",
    "from scipy.stats import ttest_rel\n",
    "\n",
    "# from sklearn.metrics import r2_score\n",
    "from sklearn.ensemble import RandomForestRegressor\n",
    "from sklearn.model_selection import KFold, StratifiedKFold, train_test_split, cross_val_score\n",
    "\n",
    "warnings.simplefilter(\"ignore\")\n",
    "%matplotlib inline"
   ]
  },
  {
   "cell_type": "code",
   "execution_count": 125,
   "metadata": {},
   "outputs": [],
   "source": [
    "public_df = pd.read_csv('../assignment2_data/assignment_2_train.csv')\n",
    "private_df = pd.read_csv('../assignment2_data/assignment_2_test.csv')"
   ]
  },
  {
   "cell_type": "code",
   "execution_count": 126,
   "metadata": {},
   "outputs": [
    {
     "name": "stdout",
     "output_type": "stream",
     "text": [
      "public_df.shape = 180000 rows, 394 cols\n",
      "private_df.shape = 100001 rows, 394 cols\n"
     ]
    }
   ],
   "source": [
    "print(\"public_df.shape = {} rows, {} cols\".format(*public_df.shape))\n",
    "print(\"private_df.shape = {} rows, {} cols\".format(*private_df.shape))"
   ]
  },
  {
   "cell_type": "code",
   "execution_count": 127,
   "metadata": {},
   "outputs": [
    {
     "data": {
      "text/html": [
       "<div>\n",
       "<style scoped>\n",
       "    .dataframe tbody tr th:only-of-type {\n",
       "        vertical-align: middle;\n",
       "    }\n",
       "\n",
       "    .dataframe tbody tr th {\n",
       "        vertical-align: top;\n",
       "    }\n",
       "\n",
       "    .dataframe thead th {\n",
       "        text-align: right;\n",
       "    }\n",
       "</style>\n",
       "<table border=\"1\" class=\"dataframe\">\n",
       "  <thead>\n",
       "    <tr style=\"text-align: right;\">\n",
       "      <th></th>\n",
       "      <th>TransactionID</th>\n",
       "      <th>isFraud</th>\n",
       "      <th>TransactionDT</th>\n",
       "      <th>TransactionAmt</th>\n",
       "      <th>ProductCD</th>\n",
       "      <th>card1</th>\n",
       "      <th>card2</th>\n",
       "      <th>card3</th>\n",
       "      <th>card4</th>\n",
       "      <th>card5</th>\n",
       "      <th>...</th>\n",
       "      <th>V330</th>\n",
       "      <th>V331</th>\n",
       "      <th>V332</th>\n",
       "      <th>V333</th>\n",
       "      <th>V334</th>\n",
       "      <th>V335</th>\n",
       "      <th>V336</th>\n",
       "      <th>V337</th>\n",
       "      <th>V338</th>\n",
       "      <th>V339</th>\n",
       "    </tr>\n",
       "  </thead>\n",
       "  <tbody>\n",
       "    <tr>\n",
       "      <th>0</th>\n",
       "      <td>2987000</td>\n",
       "      <td>0</td>\n",
       "      <td>86400</td>\n",
       "      <td>68.5</td>\n",
       "      <td>W</td>\n",
       "      <td>13926</td>\n",
       "      <td>NaN</td>\n",
       "      <td>150.0</td>\n",
       "      <td>discover</td>\n",
       "      <td>142.0</td>\n",
       "      <td>...</td>\n",
       "      <td>NaN</td>\n",
       "      <td>NaN</td>\n",
       "      <td>NaN</td>\n",
       "      <td>NaN</td>\n",
       "      <td>NaN</td>\n",
       "      <td>NaN</td>\n",
       "      <td>NaN</td>\n",
       "      <td>NaN</td>\n",
       "      <td>NaN</td>\n",
       "      <td>NaN</td>\n",
       "    </tr>\n",
       "    <tr>\n",
       "      <th>1</th>\n",
       "      <td>2987001</td>\n",
       "      <td>0</td>\n",
       "      <td>86401</td>\n",
       "      <td>29.0</td>\n",
       "      <td>W</td>\n",
       "      <td>2755</td>\n",
       "      <td>404.0</td>\n",
       "      <td>150.0</td>\n",
       "      <td>mastercard</td>\n",
       "      <td>102.0</td>\n",
       "      <td>...</td>\n",
       "      <td>NaN</td>\n",
       "      <td>NaN</td>\n",
       "      <td>NaN</td>\n",
       "      <td>NaN</td>\n",
       "      <td>NaN</td>\n",
       "      <td>NaN</td>\n",
       "      <td>NaN</td>\n",
       "      <td>NaN</td>\n",
       "      <td>NaN</td>\n",
       "      <td>NaN</td>\n",
       "    </tr>\n",
       "    <tr>\n",
       "      <th>2</th>\n",
       "      <td>2987002</td>\n",
       "      <td>0</td>\n",
       "      <td>86469</td>\n",
       "      <td>59.0</td>\n",
       "      <td>W</td>\n",
       "      <td>4663</td>\n",
       "      <td>490.0</td>\n",
       "      <td>150.0</td>\n",
       "      <td>visa</td>\n",
       "      <td>166.0</td>\n",
       "      <td>...</td>\n",
       "      <td>NaN</td>\n",
       "      <td>NaN</td>\n",
       "      <td>NaN</td>\n",
       "      <td>NaN</td>\n",
       "      <td>NaN</td>\n",
       "      <td>NaN</td>\n",
       "      <td>NaN</td>\n",
       "      <td>NaN</td>\n",
       "      <td>NaN</td>\n",
       "      <td>NaN</td>\n",
       "    </tr>\n",
       "  </tbody>\n",
       "</table>\n",
       "<p>3 rows × 394 columns</p>\n",
       "</div>"
      ],
      "text/plain": [
       "   TransactionID  isFraud  TransactionDT  TransactionAmt ProductCD  card1  \\\n",
       "0        2987000        0          86400            68.5         W  13926   \n",
       "1        2987001        0          86401            29.0         W   2755   \n",
       "2        2987002        0          86469            59.0         W   4663   \n",
       "\n",
       "   card2  card3       card4  card5  ... V330  V331  V332  V333  V334 V335  \\\n",
       "0    NaN  150.0    discover  142.0  ...  NaN   NaN   NaN   NaN   NaN  NaN   \n",
       "1  404.0  150.0  mastercard  102.0  ...  NaN   NaN   NaN   NaN   NaN  NaN   \n",
       "2  490.0  150.0        visa  166.0  ...  NaN   NaN   NaN   NaN   NaN  NaN   \n",
       "\n",
       "  V336  V337  V338  V339  \n",
       "0  NaN   NaN   NaN   NaN  \n",
       "1  NaN   NaN   NaN   NaN  \n",
       "2  NaN   NaN   NaN   NaN  \n",
       "\n",
       "[3 rows x 394 columns]"
      ]
     },
     "execution_count": 127,
     "metadata": {},
     "output_type": "execute_result"
    }
   ],
   "source": [
    "public_df.head(3)"
   ]
  },
  {
   "cell_type": "code",
   "execution_count": 128,
   "metadata": {},
   "outputs": [
    {
     "data": {
      "text/plain": [
       "180000"
      ]
     },
     "execution_count": 128,
     "metadata": {},
     "output_type": "execute_result"
    }
   ],
   "source": [
    "len(public_df['TransactionID'].value_counts())"
   ]
  },
  {
   "cell_type": "code",
   "execution_count": 129,
   "metadata": {},
   "outputs": [
    {
     "data": {
      "text/html": [
       "<div>\n",
       "<style scoped>\n",
       "    .dataframe tbody tr th:only-of-type {\n",
       "        vertical-align: middle;\n",
       "    }\n",
       "\n",
       "    .dataframe tbody tr th {\n",
       "        vertical-align: top;\n",
       "    }\n",
       "\n",
       "    .dataframe thead th {\n",
       "        text-align: right;\n",
       "    }\n",
       "</style>\n",
       "<table border=\"1\" class=\"dataframe\">\n",
       "  <thead>\n",
       "    <tr style=\"text-align: right;\">\n",
       "      <th></th>\n",
       "      <th>TransactionID</th>\n",
       "      <th>isFraud</th>\n",
       "      <th>TransactionDT</th>\n",
       "      <th>TransactionAmt</th>\n",
       "      <th>addr1</th>\n",
       "      <th>addr2</th>\n",
       "    </tr>\n",
       "  </thead>\n",
       "  <tbody>\n",
       "    <tr>\n",
       "      <th>0</th>\n",
       "      <td>2987000</td>\n",
       "      <td>0</td>\n",
       "      <td>86400</td>\n",
       "      <td>68.50</td>\n",
       "      <td>315.0</td>\n",
       "      <td>87.0</td>\n",
       "    </tr>\n",
       "    <tr>\n",
       "      <th>1</th>\n",
       "      <td>2987001</td>\n",
       "      <td>0</td>\n",
       "      <td>86401</td>\n",
       "      <td>29.00</td>\n",
       "      <td>325.0</td>\n",
       "      <td>87.0</td>\n",
       "    </tr>\n",
       "    <tr>\n",
       "      <th>2</th>\n",
       "      <td>2987002</td>\n",
       "      <td>0</td>\n",
       "      <td>86469</td>\n",
       "      <td>59.00</td>\n",
       "      <td>330.0</td>\n",
       "      <td>87.0</td>\n",
       "    </tr>\n",
       "    <tr>\n",
       "      <th>3</th>\n",
       "      <td>2987003</td>\n",
       "      <td>0</td>\n",
       "      <td>86499</td>\n",
       "      <td>50.00</td>\n",
       "      <td>476.0</td>\n",
       "      <td>87.0</td>\n",
       "    </tr>\n",
       "    <tr>\n",
       "      <th>4</th>\n",
       "      <td>2987004</td>\n",
       "      <td>0</td>\n",
       "      <td>86506</td>\n",
       "      <td>50.00</td>\n",
       "      <td>420.0</td>\n",
       "      <td>87.0</td>\n",
       "    </tr>\n",
       "    <tr>\n",
       "      <th>...</th>\n",
       "      <td>...</td>\n",
       "      <td>...</td>\n",
       "      <td>...</td>\n",
       "      <td>...</td>\n",
       "      <td>...</td>\n",
       "      <td>...</td>\n",
       "    </tr>\n",
       "    <tr>\n",
       "      <th>179995</th>\n",
       "      <td>3166995</td>\n",
       "      <td>0</td>\n",
       "      <td>3958217</td>\n",
       "      <td>39.00</td>\n",
       "      <td>272.0</td>\n",
       "      <td>87.0</td>\n",
       "    </tr>\n",
       "    <tr>\n",
       "      <th>179996</th>\n",
       "      <td>3166996</td>\n",
       "      <td>0</td>\n",
       "      <td>3958237</td>\n",
       "      <td>59.95</td>\n",
       "      <td>315.0</td>\n",
       "      <td>87.0</td>\n",
       "    </tr>\n",
       "    <tr>\n",
       "      <th>179997</th>\n",
       "      <td>3166997</td>\n",
       "      <td>0</td>\n",
       "      <td>3958241</td>\n",
       "      <td>34.00</td>\n",
       "      <td>330.0</td>\n",
       "      <td>87.0</td>\n",
       "    </tr>\n",
       "    <tr>\n",
       "      <th>179998</th>\n",
       "      <td>3166998</td>\n",
       "      <td>0</td>\n",
       "      <td>3958260</td>\n",
       "      <td>59.00</td>\n",
       "      <td>272.0</td>\n",
       "      <td>87.0</td>\n",
       "    </tr>\n",
       "    <tr>\n",
       "      <th>179999</th>\n",
       "      <td>3166999</td>\n",
       "      <td>0</td>\n",
       "      <td>3958317</td>\n",
       "      <td>226.00</td>\n",
       "      <td>123.0</td>\n",
       "      <td>87.0</td>\n",
       "    </tr>\n",
       "  </tbody>\n",
       "</table>\n",
       "<p>180000 rows × 6 columns</p>\n",
       "</div>"
      ],
      "text/plain": [
       "        TransactionID  isFraud  TransactionDT  TransactionAmt  addr1  addr2\n",
       "0             2987000        0          86400           68.50  315.0   87.0\n",
       "1             2987001        0          86401           29.00  325.0   87.0\n",
       "2             2987002        0          86469           59.00  330.0   87.0\n",
       "3             2987003        0          86499           50.00  476.0   87.0\n",
       "4             2987004        0          86506           50.00  420.0   87.0\n",
       "...               ...      ...            ...             ...    ...    ...\n",
       "179995        3166995        0        3958217           39.00  272.0   87.0\n",
       "179996        3166996        0        3958237           59.95  315.0   87.0\n",
       "179997        3166997        0        3958241           34.00  330.0   87.0\n",
       "179998        3166998        0        3958260           59.00  272.0   87.0\n",
       "179999        3166999        0        3958317          226.00  123.0   87.0\n",
       "\n",
       "[180000 rows x 6 columns]"
      ]
     },
     "execution_count": 129,
     "metadata": {},
     "output_type": "execute_result"
    }
   ],
   "source": [
    "public_df[['TransactionID','isFraud','TransactionDT','TransactionAmt','addr1','addr2']]"
   ]
  },
  {
   "cell_type": "markdown",
   "metadata": {},
   "source": [
    "## Задание 0:"
   ]
  },
  {
   "cell_type": "code",
   "execution_count": 130,
   "metadata": {},
   "outputs": [],
   "source": [
    "# Разделим выборки на тренировчную, тестовую и валидационную.\n",
    "\n",
    "x_train, x_test = train_test_split(public_df.drop([\"TransactionID\", \"isFraud\"], axis=1), train_size=0.60, shuffle=False, random_state=1,)\n",
    "y_train, y_test = train_test_split(public_df[\"isFraud\"], train_size=0.60, shuffle=False, random_state=1,) # В данных имеется временная зависимость, поэтому пока перемешивать ничего не будем."
   ]
  },
  {
   "cell_type": "code",
   "execution_count": 131,
   "metadata": {},
   "outputs": [],
   "source": [
    "x_test, x_val = train_test_split(x_test, train_size=0.50, shuffle=False, random_state=1,)\n",
    "y_test, y_val = train_test_split(y_test, train_size=0.50, shuffle=False, random_state=1,)"
   ]
  },
  {
   "cell_type": "code",
   "execution_count": 132,
   "metadata": {},
   "outputs": [
    {
     "name": "stdout",
     "output_type": "stream",
     "text": [
      "x_train.shape = 108000 rows, 392 cols\n",
      "x_val.shape = 36000 rows, 392 cols\n",
      "x_test.shape = 36000 rows, 392 cols\n"
     ]
    }
   ],
   "source": [
    "print(\"x_train.shape = {} rows, {} cols\".format(*x_train.shape))\n",
    "print(\"x_val.shape = {} rows, {} cols\".format(*x_val.shape))\n",
    "print(\"x_test.shape = {} rows, {} cols\".format(*x_test.shape))"
   ]
  },
  {
   "cell_type": "code",
   "execution_count": 133,
   "metadata": {},
   "outputs": [],
   "source": [
    "x_lb = private_df.drop([\"TransactionID\", \"isFraud\"], axis=1)\n",
    "y_lb = private_df[\"isFraud\"]"
   ]
  },
  {
   "cell_type": "code",
   "execution_count": 134,
   "metadata": {},
   "outputs": [
    {
     "name": "stdout",
     "output_type": "stream",
     "text": [
      "x_lb.shape = 100001 rows, 392 cols\n"
     ]
    }
   ],
   "source": [
    "print(\"x_lb.shape = {} rows, {} cols\".format(*x_lb.shape))"
   ]
  },
  {
   "cell_type": "code",
   "execution_count": 135,
   "metadata": {},
   "outputs": [],
   "source": [
    "# Получим список катероиальных и числовых признаков.\n",
    "\n",
    "categorical = []\n",
    "numerical = []\n",
    "for col, value in x_train.iteritems():\n",
    "    if value.dtype == 'object':\n",
    "        categorical.append(col)\n",
    "    else:\n",
    "        numerical.append(col)"
   ]
  },
  {
   "cell_type": "code",
   "execution_count": 136,
   "metadata": {},
   "outputs": [
    {
     "data": {
      "text/html": [
       "<div>\n",
       "<style scoped>\n",
       "    .dataframe tbody tr th:only-of-type {\n",
       "        vertical-align: middle;\n",
       "    }\n",
       "\n",
       "    .dataframe tbody tr th {\n",
       "        vertical-align: top;\n",
       "    }\n",
       "\n",
       "    .dataframe thead th {\n",
       "        text-align: right;\n",
       "    }\n",
       "</style>\n",
       "<table border=\"1\" class=\"dataframe\">\n",
       "  <thead>\n",
       "    <tr style=\"text-align: right;\">\n",
       "      <th></th>\n",
       "      <th>ProductCD</th>\n",
       "      <th>card4</th>\n",
       "      <th>card6</th>\n",
       "      <th>P_emaildomain</th>\n",
       "      <th>R_emaildomain</th>\n",
       "      <th>M1</th>\n",
       "      <th>M2</th>\n",
       "      <th>M3</th>\n",
       "      <th>M4</th>\n",
       "      <th>M5</th>\n",
       "      <th>M6</th>\n",
       "      <th>M7</th>\n",
       "      <th>M8</th>\n",
       "      <th>M9</th>\n",
       "    </tr>\n",
       "  </thead>\n",
       "  <tbody>\n",
       "    <tr>\n",
       "      <th>0</th>\n",
       "      <td>W</td>\n",
       "      <td>discover</td>\n",
       "      <td>credit</td>\n",
       "      <td>NaN</td>\n",
       "      <td>NaN</td>\n",
       "      <td>T</td>\n",
       "      <td>T</td>\n",
       "      <td>T</td>\n",
       "      <td>M2</td>\n",
       "      <td>F</td>\n",
       "      <td>T</td>\n",
       "      <td>NaN</td>\n",
       "      <td>NaN</td>\n",
       "      <td>NaN</td>\n",
       "    </tr>\n",
       "    <tr>\n",
       "      <th>1</th>\n",
       "      <td>W</td>\n",
       "      <td>mastercard</td>\n",
       "      <td>credit</td>\n",
       "      <td>gmail.com</td>\n",
       "      <td>NaN</td>\n",
       "      <td>NaN</td>\n",
       "      <td>NaN</td>\n",
       "      <td>NaN</td>\n",
       "      <td>M0</td>\n",
       "      <td>T</td>\n",
       "      <td>T</td>\n",
       "      <td>NaN</td>\n",
       "      <td>NaN</td>\n",
       "      <td>NaN</td>\n",
       "    </tr>\n",
       "    <tr>\n",
       "      <th>2</th>\n",
       "      <td>W</td>\n",
       "      <td>visa</td>\n",
       "      <td>debit</td>\n",
       "      <td>outlook.com</td>\n",
       "      <td>NaN</td>\n",
       "      <td>T</td>\n",
       "      <td>T</td>\n",
       "      <td>T</td>\n",
       "      <td>M0</td>\n",
       "      <td>F</td>\n",
       "      <td>F</td>\n",
       "      <td>F</td>\n",
       "      <td>F</td>\n",
       "      <td>F</td>\n",
       "    </tr>\n",
       "    <tr>\n",
       "      <th>3</th>\n",
       "      <td>W</td>\n",
       "      <td>mastercard</td>\n",
       "      <td>debit</td>\n",
       "      <td>yahoo.com</td>\n",
       "      <td>NaN</td>\n",
       "      <td>NaN</td>\n",
       "      <td>NaN</td>\n",
       "      <td>NaN</td>\n",
       "      <td>M0</td>\n",
       "      <td>T</td>\n",
       "      <td>F</td>\n",
       "      <td>NaN</td>\n",
       "      <td>NaN</td>\n",
       "      <td>NaN</td>\n",
       "    </tr>\n",
       "    <tr>\n",
       "      <th>4</th>\n",
       "      <td>H</td>\n",
       "      <td>mastercard</td>\n",
       "      <td>credit</td>\n",
       "      <td>gmail.com</td>\n",
       "      <td>NaN</td>\n",
       "      <td>NaN</td>\n",
       "      <td>NaN</td>\n",
       "      <td>NaN</td>\n",
       "      <td>NaN</td>\n",
       "      <td>NaN</td>\n",
       "      <td>NaN</td>\n",
       "      <td>NaN</td>\n",
       "      <td>NaN</td>\n",
       "      <td>NaN</td>\n",
       "    </tr>\n",
       "  </tbody>\n",
       "</table>\n",
       "</div>"
      ],
      "text/plain": [
       "  ProductCD       card4   card6 P_emaildomain R_emaildomain   M1   M2   M3  \\\n",
       "0         W    discover  credit           NaN           NaN    T    T    T   \n",
       "1         W  mastercard  credit     gmail.com           NaN  NaN  NaN  NaN   \n",
       "2         W        visa   debit   outlook.com           NaN    T    T    T   \n",
       "3         W  mastercard   debit     yahoo.com           NaN  NaN  NaN  NaN   \n",
       "4         H  mastercard  credit     gmail.com           NaN  NaN  NaN  NaN   \n",
       "\n",
       "    M4   M5   M6   M7   M8   M9  \n",
       "0   M2    F    T  NaN  NaN  NaN  \n",
       "1   M0    T    T  NaN  NaN  NaN  \n",
       "2   M0    F    F    F    F    F  \n",
       "3   M0    T    F  NaN  NaN  NaN  \n",
       "4  NaN  NaN  NaN  NaN  NaN  NaN  "
      ]
     },
     "execution_count": 136,
     "metadata": {},
     "output_type": "execute_result"
    }
   ],
   "source": [
    "x_train[categorical].head(5)"
   ]
  },
  {
   "cell_type": "code",
   "execution_count": 137,
   "metadata": {},
   "outputs": [],
   "source": [
    "# Выделим числовые и категриальные переменные. \n",
    "\n",
    "x_train[categorical]=x_train[categorical].astype('category')\n",
    "x_test[categorical]=x_test[categorical].astype('category')\n",
    "x_val[categorical]=x_val[categorical].astype('category')\n",
    "x_lb[categorical]=x_lb[categorical].astype('category')"
   ]
  },
  {
   "cell_type": "code",
   "execution_count": 138,
   "metadata": {},
   "outputs": [],
   "source": [
    "params = {\n",
    "    \"boosting_type\": \"gbdt\",\n",
    "    \"objective\": \"binary\",\n",
    "    # \"objective\": \"binary:logistic\",\n",
    "    \"metric\": \"auc\",\n",
    "    \"learning_rate\": 0.1,\n",
    "    \"n_estimators\": 10000,\n",
    "    \"reg_lambda\": 50,\n",
    "    \"max_depth\": 4,\n",
    "    # \"gamma\": 4,\n",
    "    # \"nthread\": 6,\n",
    "    # \"seed\": 27,\n",
    "    'random_state':1    \n",
    "}"
   ]
  },
  {
   "cell_type": "code",
   "execution_count": null,
   "metadata": {},
   "outputs": [],
   "source": [
    "# Написать pip-line для обучения модели. "
   ]
  },
  {
   "cell_type": "code",
   "execution_count": 139,
   "metadata": {},
   "outputs": [
    {
     "name": "stdout",
     "output_type": "stream",
     "text": [
      "[20]\tvalid_0's auc: 0.859651\tvalid_1's auc: 0.859651\n",
      "[40]\tvalid_0's auc: 0.865949\tvalid_1's auc: 0.865949\n",
      "[60]\tvalid_0's auc: 0.8706\tvalid_1's auc: 0.8706\n",
      "[80]\tvalid_0's auc: 0.871479\tvalid_1's auc: 0.871479\n",
      "[100]\tvalid_0's auc: 0.872493\tvalid_1's auc: 0.872493\n",
      "[120]\tvalid_0's auc: 0.873055\tvalid_1's auc: 0.873055\n",
      "[140]\tvalid_0's auc: 0.873847\tvalid_1's auc: 0.873847\n",
      "[160]\tvalid_0's auc: 0.873269\tvalid_1's auc: 0.873269\n",
      "[180]\tvalid_0's auc: 0.87396\tvalid_1's auc: 0.87396\n",
      "[200]\tvalid_0's auc: 0.874522\tvalid_1's auc: 0.874522\n",
      "[220]\tvalid_0's auc: 0.875116\tvalid_1's auc: 0.875116\n",
      "[240]\tvalid_0's auc: 0.875126\tvalid_1's auc: 0.875126\n",
      "[260]\tvalid_0's auc: 0.874849\tvalid_1's auc: 0.874849\n"
     ]
    },
    {
     "data": {
      "text/plain": [
       "LGBMClassifier(max_depth=4, metric='auc', n_estimators=10000,\n",
       "               objective='binary', random_state=1, reg_lambda=50)"
      ]
     },
     "execution_count": 139,
     "metadata": {},
     "output_type": "execute_result"
    }
   ],
   "source": [
    "model = lgb.LGBMClassifier(**params)\n",
    "\n",
    "model.fit(\n",
    "    X=x_train,\n",
    "    y=y_train,\n",
    "    eval_set=[(x_val, y_val), (x_val, y_val)],\n",
    "    early_stopping_rounds=50,\n",
    "    categorical_feature=categorical,\n",
    "    # num_boost_round=10000,\n",
    "    eval_metric=\"auc\",\n",
    "    verbose=20\n",
    ")"
   ]
  },
  {
   "cell_type": "code",
   "execution_count": 140,
   "metadata": {},
   "outputs": [
    {
     "name": "stdout",
     "output_type": "stream",
     "text": [
      "Train-score: 0.711, Val-score: 0.637, Test-score: 0.64\n"
     ]
    }
   ],
   "source": [
    "train_score =  roc_auc_score(y_train, model.predict(x_train))\n",
    "val_score = roc_auc_score(y_val, model.predict(x_val))\n",
    "test_score = roc_auc_score(y_test, model.predict(x_test))\n",
    "\n",
    "print(f\"Train-score: {round(train_score, 3)}, Val-score: {round(val_score, 3)}, Test-score: {round(test_score, 3)}\")"
   ]
  },
  {
   "cell_type": "code",
   "execution_count": 141,
   "metadata": {},
   "outputs": [
    {
     "name": "stdout",
     "output_type": "stream",
     "text": [
      "Train-score: 0.939, Val-score: 0.876, Test-score: 0.894\n"
     ]
    }
   ],
   "source": [
    "train_score =  roc_auc_score(y_train, model.predict_proba(x_train)[:,1])\n",
    "val_score = roc_auc_score(y_val, model.predict_proba(x_val)[:,1])\n",
    "test_score = roc_auc_score(y_test, model.predict_proba(x_test)[:,1])\n",
    "\n",
    "print(f\"Train-score: {round(train_score, 3)}, Val-score: {round(val_score, 3)}, Test-score: {round(test_score, 3)}\")"
   ]
  },
  {
   "cell_type": "markdown",
   "metadata": {},
   "source": [
    "## Задание 1:"
   ]
  },
  {
   "cell_type": "markdown",
   "metadata": {},
   "source": [
    "**Задание 1:** признак `TransactionDT` - это смещение в секундах относительно базовой даты. Базовая дата - `2017-12-01`, преобразовать признак `TransactionDT` в `datetime`, прибавив к базовой дате исходное значение признака. Из полученного признака выделить год, месяц, день недели, час, день."
   ]
  },
  {
   "cell_type": "code",
   "execution_count": 142,
   "metadata": {},
   "outputs": [],
   "source": [
    "def data_time_converter(data):\n",
    "    \n",
    "    data['TransactionDT'] = data['TransactionDT'].apply(lambda x: datetime(2017, 12, 1) + timedelta(seconds=x))\n",
    "    data['Transaction_weekday'] = data['TransactionDT'].apply(lambda x: x.weekday())\n",
    "    data['Transaction_year'] = data['TransactionDT'].apply(lambda x: x.date().year)\n",
    "    data['Transaction_mounth'] = data['TransactionDT'].apply(lambda x: x.date().month)\n",
    "    data['Transaction_day'] = data['TransactionDT'].apply(lambda x: x.date().day)\n",
    "    data['Transaction_hour'] = data['TransactionDT'].apply(lambda x: x.time().hour)\n",
    "    # return data"
   ]
  },
  {
   "cell_type": "code",
   "execution_count": 143,
   "metadata": {},
   "outputs": [],
   "source": [
    "data_time_converter(x_train)\n",
    "data_time_converter(x_test)\n",
    "data_time_converter(x_val)\n",
    "data_time_converter(x_lb)"
   ]
  },
  {
   "cell_type": "code",
   "execution_count": 144,
   "metadata": {},
   "outputs": [
    {
     "data": {
      "image/png": "[encoded data removed]",
      "text/plain": [
       "<Figure size 432x288 with 1 Axes>"
      ]
     },
     "metadata": {
      "needs_background": "light"
     },
     "output_type": "display_data"
    }
   ],
   "source": [
    "plt.hist(x_train.loc[(y_train==0,'Transaction_weekday')], 100)\n",
    "plt.hist(x_train.loc[(y_train==1,'Transaction_weekday')], 100)\n",
    "# plt.hist(train_df.loc[((train_df['isFraud']==1) &  (train_df['TransactionDT'][:10000]),'TransactionDT')], 100)\n",
    "plt.show()"
   ]
  },
  {
   "cell_type": "code",
   "execution_count": 145,
   "metadata": {},
   "outputs": [
    {
     "data": {
      "text/plain": [
       "5    20512\n",
       "6    17416\n",
       "0    13653\n",
       "1    13541\n",
       "4    13531\n",
       "3    13333\n",
       "2    13325\n",
       "Name: Transaction_weekday, dtype: int64"
      ]
     },
     "execution_count": 145,
     "metadata": {},
     "output_type": "execute_result"
    }
   ],
   "source": [
    "x_train.loc[(y_train==0,'Transaction_weekday')].value_counts()"
   ]
  },
  {
   "cell_type": "code",
   "execution_count": 146,
   "metadata": {},
   "outputs": [
    {
     "data": {
      "text/plain": [
       "5    495\n",
       "6    418\n",
       "1    399\n",
       "4    378\n",
       "0    354\n",
       "2    329\n",
       "3    316\n",
       "Name: Transaction_weekday, dtype: int64"
      ]
     },
     "execution_count": 146,
     "metadata": {},
     "output_type": "execute_result"
    }
   ],
   "source": [
    "x_train.loc[(y_train==1,'Transaction_weekday')].value_counts()"
   ]
  },
  {
   "cell_type": "markdown",
   "metadata": {},
   "source": [
    "## Задание 2:"
   ]
  },
  {
   "cell_type": "code",
   "execution_count": 147,
   "metadata": {},
   "outputs": [],
   "source": [
    "# **Задание 2:** сделать конкатенацию признаков\n",
    "# * `card1 + card2`;\n",
    "# * `card1 + card2 + card_3 + card_5`;\n",
    "# * `card1 + card2 + card_3 + card_5 + addr1 + addr2`\n",
    "\n",
    "# Рассматривать их как категориальных признаки."
   ]
  },
  {
   "cell_type": "code",
   "execution_count": 148,
   "metadata": {},
   "outputs": [
    {
     "data": {
      "text/html": [
       "<div>\n",
       "<style scoped>\n",
       "    .dataframe tbody tr th:only-of-type {\n",
       "        vertical-align: middle;\n",
       "    }\n",
       "\n",
       "    .dataframe tbody tr th {\n",
       "        vertical-align: top;\n",
       "    }\n",
       "\n",
       "    .dataframe thead th {\n",
       "        text-align: right;\n",
       "    }\n",
       "</style>\n",
       "<table border=\"1\" class=\"dataframe\">\n",
       "  <thead>\n",
       "    <tr style=\"text-align: right;\">\n",
       "      <th></th>\n",
       "      <th>card1</th>\n",
       "      <th>card2</th>\n",
       "      <th>card3</th>\n",
       "      <th>card5</th>\n",
       "      <th>addr1</th>\n",
       "      <th>addr2</th>\n",
       "    </tr>\n",
       "  </thead>\n",
       "  <tbody>\n",
       "    <tr>\n",
       "      <th>0</th>\n",
       "      <td>13926</td>\n",
       "      <td>NaN</td>\n",
       "      <td>150.0</td>\n",
       "      <td>142.0</td>\n",
       "      <td>315.0</td>\n",
       "      <td>87.0</td>\n",
       "    </tr>\n",
       "    <tr>\n",
       "      <th>1</th>\n",
       "      <td>2755</td>\n",
       "      <td>404.0</td>\n",
       "      <td>150.0</td>\n",
       "      <td>102.0</td>\n",
       "      <td>325.0</td>\n",
       "      <td>87.0</td>\n",
       "    </tr>\n",
       "    <tr>\n",
       "      <th>2</th>\n",
       "      <td>4663</td>\n",
       "      <td>490.0</td>\n",
       "      <td>150.0</td>\n",
       "      <td>166.0</td>\n",
       "      <td>330.0</td>\n",
       "      <td>87.0</td>\n",
       "    </tr>\n",
       "    <tr>\n",
       "      <th>3</th>\n",
       "      <td>18132</td>\n",
       "      <td>567.0</td>\n",
       "      <td>150.0</td>\n",
       "      <td>117.0</td>\n",
       "      <td>476.0</td>\n",
       "      <td>87.0</td>\n",
       "    </tr>\n",
       "    <tr>\n",
       "      <th>4</th>\n",
       "      <td>4497</td>\n",
       "      <td>514.0</td>\n",
       "      <td>150.0</td>\n",
       "      <td>102.0</td>\n",
       "      <td>420.0</td>\n",
       "      <td>87.0</td>\n",
       "    </tr>\n",
       "    <tr>\n",
       "      <th>...</th>\n",
       "      <td>...</td>\n",
       "      <td>...</td>\n",
       "      <td>...</td>\n",
       "      <td>...</td>\n",
       "      <td>...</td>\n",
       "      <td>...</td>\n",
       "    </tr>\n",
       "    <tr>\n",
       "      <th>107995</th>\n",
       "      <td>15885</td>\n",
       "      <td>545.0</td>\n",
       "      <td>185.0</td>\n",
       "      <td>138.0</td>\n",
       "      <td>NaN</td>\n",
       "      <td>NaN</td>\n",
       "    </tr>\n",
       "    <tr>\n",
       "      <th>107996</th>\n",
       "      <td>8920</td>\n",
       "      <td>555.0</td>\n",
       "      <td>150.0</td>\n",
       "      <td>226.0</td>\n",
       "      <td>330.0</td>\n",
       "      <td>87.0</td>\n",
       "    </tr>\n",
       "    <tr>\n",
       "      <th>107997</th>\n",
       "      <td>15063</td>\n",
       "      <td>514.0</td>\n",
       "      <td>150.0</td>\n",
       "      <td>226.0</td>\n",
       "      <td>299.0</td>\n",
       "      <td>87.0</td>\n",
       "    </tr>\n",
       "    <tr>\n",
       "      <th>107998</th>\n",
       "      <td>12484</td>\n",
       "      <td>543.0</td>\n",
       "      <td>150.0</td>\n",
       "      <td>224.0</td>\n",
       "      <td>264.0</td>\n",
       "      <td>87.0</td>\n",
       "    </tr>\n",
       "    <tr>\n",
       "      <th>107999</th>\n",
       "      <td>2616</td>\n",
       "      <td>NaN</td>\n",
       "      <td>150.0</td>\n",
       "      <td>102.0</td>\n",
       "      <td>384.0</td>\n",
       "      <td>87.0</td>\n",
       "    </tr>\n",
       "  </tbody>\n",
       "</table>\n",
       "<p>108000 rows × 6 columns</p>\n",
       "</div>"
      ],
      "text/plain": [
       "        card1  card2  card3  card5  addr1  addr2\n",
       "0       13926    NaN  150.0  142.0  315.0   87.0\n",
       "1        2755  404.0  150.0  102.0  325.0   87.0\n",
       "2        4663  490.0  150.0  166.0  330.0   87.0\n",
       "3       18132  567.0  150.0  117.0  476.0   87.0\n",
       "4        4497  514.0  150.0  102.0  420.0   87.0\n",
       "...       ...    ...    ...    ...    ...    ...\n",
       "107995  15885  545.0  185.0  138.0    NaN    NaN\n",
       "107996   8920  555.0  150.0  226.0  330.0   87.0\n",
       "107997  15063  514.0  150.0  226.0  299.0   87.0\n",
       "107998  12484  543.0  150.0  224.0  264.0   87.0\n",
       "107999   2616    NaN  150.0  102.0  384.0   87.0\n",
       "\n",
       "[108000 rows x 6 columns]"
      ]
     },
     "execution_count": 148,
     "metadata": {},
     "output_type": "execute_result"
    }
   ],
   "source": [
    "x_train[['card1','card2', 'card3','card5', 'addr1','addr2']]"
   ]
  },
  {
   "cell_type": "code",
   "execution_count": 149,
   "metadata": {},
   "outputs": [],
   "source": [
    "def feature_concatinate(data):\n",
    "    data.loc[(data['card1'].isna()),'card1'] = 0  \n",
    "    data.loc[(data['card2'].isna()),'card2'] = 0  \n",
    "    data.loc[(data['card3'].isna()),'card3'] = 0  \n",
    "    data.loc[(data['card5'].isna()),'card5'] = 0  \n",
    "    data.loc[(data['addr1'].isna()),'addr1'] = 0  \n",
    "    data.loc[(data['addr2'].isna()),'addr2'] = 0  \n",
    "    data['card1_2'] = data['card1']+data['card2']\n",
    "    data['card1_5'] = data['card1']+data['card2']+data['card3']+data['card5']\n",
    "    data['card1_ad2'] = data['card1']+data['card2']+data['card3']+data['card5']+data['addr1']+data['addr2']\n",
    "    data[['card1_2','card1_5','card1_ad2']]=data[['card1_2','card1_5','card1_ad2']].astype('category')"
   ]
  },
  {
   "cell_type": "code",
   "execution_count": 150,
   "metadata": {},
   "outputs": [],
   "source": [
    "feature_concatinate(x_train)\n",
    "feature_concatinate(x_test)\n",
    "feature_concatinate(x_val)\n",
    "feature_concatinate(x_lb)"
   ]
  },
  {
   "cell_type": "code",
   "execution_count": 151,
   "metadata": {},
   "outputs": [],
   "source": [
    "# x_train.loc[(x_train['card1'].isna()),'card1'] = 0  \n",
    "# x_train.loc[(x_train['card2'].isna()),'card2'] = 0  \n",
    "# x_train.loc[(x_train['card3'].isna()),'card3'] = 0  \n",
    "# x_train.loc[(x_train['card5'].isna()),'card5'] = 0  \n",
    "# x_train.loc[(x_train['addr1'].isna()),'addr1'] = 0  \n",
    "# x_train.loc[(x_train['addr2'].isna()),'addr2'] = 0  "
   ]
  },
  {
   "cell_type": "code",
   "execution_count": 152,
   "metadata": {},
   "outputs": [],
   "source": [
    "# x_train[['card1','card2', 'addr1','addr2']]"
   ]
  },
  {
   "cell_type": "code",
   "execution_count": 153,
   "metadata": {},
   "outputs": [],
   "source": [
    "# x_train['card_1'] = x_train['card1']+x_train['card2']\n",
    "# x_train['card_2'] = x_train['card1']+x_train['card2']+x_train['card3']+x_train['card5']\n",
    "# x_train['card_3'] = x_train['card1']+x_train['card2']+x_train['card3']+x_train['card5']+x_train['addr1']+x_train['addr2']"
   ]
  },
  {
   "cell_type": "code",
   "execution_count": 154,
   "metadata": {},
   "outputs": [
    {
     "data": {
      "text/html": [
       "<div>\n",
       "<style scoped>\n",
       "    .dataframe tbody tr th:only-of-type {\n",
       "        vertical-align: middle;\n",
       "    }\n",
       "\n",
       "    .dataframe tbody tr th {\n",
       "        vertical-align: top;\n",
       "    }\n",
       "\n",
       "    .dataframe thead th {\n",
       "        text-align: right;\n",
       "    }\n",
       "</style>\n",
       "<table border=\"1\" class=\"dataframe\">\n",
       "  <thead>\n",
       "    <tr style=\"text-align: right;\">\n",
       "      <th></th>\n",
       "      <th>card1_2</th>\n",
       "      <th>card1_5</th>\n",
       "      <th>card1_ad2</th>\n",
       "    </tr>\n",
       "  </thead>\n",
       "  <tbody>\n",
       "    <tr>\n",
       "      <th>0</th>\n",
       "      <td>13926.0</td>\n",
       "      <td>14218.0</td>\n",
       "      <td>14620.0</td>\n",
       "    </tr>\n",
       "    <tr>\n",
       "      <th>1</th>\n",
       "      <td>3159.0</td>\n",
       "      <td>3411.0</td>\n",
       "      <td>3823.0</td>\n",
       "    </tr>\n",
       "    <tr>\n",
       "      <th>2</th>\n",
       "      <td>5153.0</td>\n",
       "      <td>5469.0</td>\n",
       "      <td>5886.0</td>\n",
       "    </tr>\n",
       "    <tr>\n",
       "      <th>3</th>\n",
       "      <td>18699.0</td>\n",
       "      <td>18966.0</td>\n",
       "      <td>19529.0</td>\n",
       "    </tr>\n",
       "    <tr>\n",
       "      <th>4</th>\n",
       "      <td>5011.0</td>\n",
       "      <td>5263.0</td>\n",
       "      <td>5770.0</td>\n",
       "    </tr>\n",
       "    <tr>\n",
       "      <th>...</th>\n",
       "      <td>...</td>\n",
       "      <td>...</td>\n",
       "      <td>...</td>\n",
       "    </tr>\n",
       "    <tr>\n",
       "      <th>107995</th>\n",
       "      <td>16430.0</td>\n",
       "      <td>16753.0</td>\n",
       "      <td>16753.0</td>\n",
       "    </tr>\n",
       "    <tr>\n",
       "      <th>107996</th>\n",
       "      <td>9475.0</td>\n",
       "      <td>9851.0</td>\n",
       "      <td>10268.0</td>\n",
       "    </tr>\n",
       "    <tr>\n",
       "      <th>107997</th>\n",
       "      <td>15577.0</td>\n",
       "      <td>15953.0</td>\n",
       "      <td>16339.0</td>\n",
       "    </tr>\n",
       "    <tr>\n",
       "      <th>107998</th>\n",
       "      <td>13027.0</td>\n",
       "      <td>13401.0</td>\n",
       "      <td>13752.0</td>\n",
       "    </tr>\n",
       "    <tr>\n",
       "      <th>107999</th>\n",
       "      <td>2616.0</td>\n",
       "      <td>2868.0</td>\n",
       "      <td>3339.0</td>\n",
       "    </tr>\n",
       "  </tbody>\n",
       "</table>\n",
       "<p>108000 rows × 3 columns</p>\n",
       "</div>"
      ],
      "text/plain": [
       "        card1_2  card1_5 card1_ad2\n",
       "0       13926.0  14218.0   14620.0\n",
       "1        3159.0   3411.0    3823.0\n",
       "2        5153.0   5469.0    5886.0\n",
       "3       18699.0  18966.0   19529.0\n",
       "4        5011.0   5263.0    5770.0\n",
       "...         ...      ...       ...\n",
       "107995  16430.0  16753.0   16753.0\n",
       "107996   9475.0   9851.0   10268.0\n",
       "107997  15577.0  15953.0   16339.0\n",
       "107998  13027.0  13401.0   13752.0\n",
       "107999   2616.0   2868.0    3339.0\n",
       "\n",
       "[108000 rows x 3 columns]"
      ]
     },
     "execution_count": 154,
     "metadata": {},
     "output_type": "execute_result"
    }
   ],
   "source": [
    "x_train[['card1_2','card1_5','card1_ad2']]"
   ]
  },
  {
   "cell_type": "code",
   "execution_count": 155,
   "metadata": {},
   "outputs": [],
   "source": [
    "# x_train[['card_1','card_2','card_3']]=x_train[['card_1','card_2','card_3']].astype('category')"
   ]
  },
  {
   "cell_type": "markdown",
   "metadata": {},
   "source": [
    "## Задание 3\n",
    "\n",
    "Сделать `FrequencyEncoder` для признаков `card1 - card6`, `addr1`, `addr2`."
   ]
  },
  {
   "cell_type": "code",
   "execution_count": 156,
   "metadata": {},
   "outputs": [],
   "source": [
    "def get_freq_encoder(data,feature_names):\n",
    "    for feature_name in feature_names:\n",
    "        freq_encoder = data[feature_name].value_counts(normalize=True)\n",
    "        data[f\"{feature_name}_freq_enc\"] = data[feature_name].map(freq_encoder)\n",
    "    return data"
   ]
  },
  {
   "cell_type": "code",
   "execution_count": 157,
   "metadata": {},
   "outputs": [],
   "source": [
    "feature_names = ['card1', 'card2', 'card3', 'card4', 'card5', 'card6', 'addr1', 'addr2']\n",
    "\n",
    "x_train = get_freq_encoder(x_train, feature_names)\n",
    "x_test = get_freq_encoder(x_test, feature_names)\n",
    "x_val = get_freq_encoder(x_val, feature_names)\n",
    "x_lb = get_freq_encoder(x_lb, feature_names)"
   ]
  },
  {
   "cell_type": "code",
   "execution_count": null,
   "metadata": {},
   "outputs": [],
   "source": []
  },
  {
   "cell_type": "code",
   "execution_count": null,
   "metadata": {},
   "outputs": [],
   "source": []
  },
  {
   "cell_type": "markdown",
   "metadata": {},
   "source": [
    "## Задание 4\n",
    "\n",
    "Создать признаки на основе отношения: `TransactionAmt` к вычисленной статистике. Статистика - среднее значение / стандартное отклонение `TransactionAmt`, сгруппированное по `card1 - card6`, `addr1`, `addr2`, и по признакам, созданным в задании 2."
   ]
  },
  {
   "cell_type": "code",
   "execution_count": 158,
   "metadata": {},
   "outputs": [
    {
     "data": {
      "text/plain": [
       "count    108000.000000\n",
       "mean        129.381049\n",
       "std         201.289523\n",
       "min           0.292000\n",
       "25%          45.299000\n",
       "50%          75.000000\n",
       "75%         134.970000\n",
       "max        4829.950000\n",
       "Name: TransactionAmt, dtype: float64"
      ]
     },
     "execution_count": 158,
     "metadata": {},
     "output_type": "execute_result"
    }
   ],
   "source": [
    "x_train['TransactionAmt'].describe()"
   ]
  },
  {
   "cell_type": "code",
   "execution_count": 159,
   "metadata": {},
   "outputs": [],
   "source": [
    "# apps_groupby = apps.groupby(\"APPLICATION_NUMBER\", as_index=False)\n",
    "# previous_app_counts = apps_groupby[\"PREV_APPLICATION_NUMBER\"].count()\n",
    "# previous_app_counts = previous_app_counts.rename(columns={\n",
    "#     \"PREV_APPLICATION_NUMBER\": \"PREV_APPS_COUNT\"\n",
    "# })\n",
    "# previous_app_counts.head(n=3)"
   ]
  },
  {
   "cell_type": "code",
   "execution_count": 160,
   "metadata": {},
   "outputs": [],
   "source": [
    "feature_names = ['card1_2','card1_5','card1_ad2', 'card1', 'card2', 'card3', 'card4', 'card5', 'card6', 'addr1', 'addr2']"
   ]
  },
  {
   "cell_type": "code",
   "execution_count": 161,
   "metadata": {},
   "outputs": [],
   "source": [
    "# feature_names = ['card1', 'card2', 'card3', 'card4', 'card5', 'card6', 'addr1', 'addr2']"
   ]
  },
  {
   "cell_type": "code",
   "execution_count": 162,
   "metadata": {},
   "outputs": [],
   "source": [
    "stats = [\"mean\", \"std\"]\n",
    "# feature_numerical = x_train['TransactionAmt'].agg(stats).reset_index()\n",
    "# feature_numerical = feature_numerical.rename(\n",
    "#     columns={name: f\"feature_names_{name.upper()}\" for name in stats}\n",
    "# )\n",
    "# previous_app_numerical.head(n=3)"
   ]
  },
  {
   "cell_type": "code",
   "execution_count": 165,
   "metadata": {},
   "outputs": [],
   "source": [
    "def create_aggs(data, feature, agg_names):\n",
    "    for agg_name in agg_names:\n",
    "        stat = data.groupby(agg_name, as_index=False)\n",
    "        stat_feature_mean = stat[feature].mean()\n",
    "        stat_feature_std = stat[feature].std()\n",
    "\n",
    "        stat_feature_std = stat_feature_std.rename(columns={feature: f'{feature}_{agg_name}_std'})\n",
    "        stat_feature_mean = stat_feature_mean.rename(columns={feature: f'{feature}_{agg_name}_mean'})\n",
    "    \n",
    "        data = data.merge(stat_feature_std, how='left', on=agg_name)\n",
    "        data = data.merge(stat_feature_mean, how='left', on=agg_name)"
   ]
  },
  {
   "cell_type": "code",
   "execution_count": 166,
   "metadata": {},
   "outputs": [],
   "source": [
    "create_aggs(x_train, 'TransactionAmt', feature_names)  # Эту ф-ю нужно разделить для числовых и категориальных."
   ]
  },
  {
   "cell_type": "code",
   "execution_count": 167,
   "metadata": {},
   "outputs": [
    {
     "data": {
      "text/html": [
       "<div>\n",
       "<style scoped>\n",
       "    .dataframe tbody tr th:only-of-type {\n",
       "        vertical-align: middle;\n",
       "    }\n",
       "\n",
       "    .dataframe tbody tr th {\n",
       "        vertical-align: top;\n",
       "    }\n",
       "\n",
       "    .dataframe thead th {\n",
       "        text-align: right;\n",
       "    }\n",
       "</style>\n",
       "<table border=\"1\" class=\"dataframe\">\n",
       "  <thead>\n",
       "    <tr style=\"text-align: right;\">\n",
       "      <th></th>\n",
       "      <th>TransactionDT</th>\n",
       "      <th>TransactionAmt</th>\n",
       "      <th>ProductCD</th>\n",
       "      <th>card1</th>\n",
       "      <th>card2</th>\n",
       "      <th>card3</th>\n",
       "      <th>card4</th>\n",
       "      <th>card5</th>\n",
       "      <th>card6</th>\n",
       "      <th>addr1</th>\n",
       "      <th>...</th>\n",
       "      <th>card1_5</th>\n",
       "      <th>card1_ad2</th>\n",
       "      <th>card1_freq_enc</th>\n",
       "      <th>card2_freq_enc</th>\n",
       "      <th>card3_freq_enc</th>\n",
       "      <th>card4_freq_enc</th>\n",
       "      <th>card5_freq_enc</th>\n",
       "      <th>card6_freq_enc</th>\n",
       "      <th>addr1_freq_enc</th>\n",
       "      <th>addr2_freq_enc</th>\n",
       "    </tr>\n",
       "  </thead>\n",
       "  <tbody>\n",
       "    <tr>\n",
       "      <th>0</th>\n",
       "      <td>2017-12-02 00:00:00</td>\n",
       "      <td>68.5</td>\n",
       "      <td>W</td>\n",
       "      <td>13926</td>\n",
       "      <td>0.0</td>\n",
       "      <td>150.0</td>\n",
       "      <td>discover</td>\n",
       "      <td>142.0</td>\n",
       "      <td>credit</td>\n",
       "      <td>315.0</td>\n",
       "      <td>...</td>\n",
       "      <td>14218.0</td>\n",
       "      <td>14620.0</td>\n",
       "      <td>0.000065</td>\n",
       "      <td>0.013417</td>\n",
       "      <td>0.886120</td>\n",
       "      <td>0.014797</td>\n",
       "      <td>0.000287</td>\n",
       "      <td>0.353813</td>\n",
       "      <td>0.038074</td>\n",
       "      <td>0.883167</td>\n",
       "    </tr>\n",
       "    <tr>\n",
       "      <th>1</th>\n",
       "      <td>2017-12-02 00:00:01</td>\n",
       "      <td>29.0</td>\n",
       "      <td>W</td>\n",
       "      <td>2755</td>\n",
       "      <td>404.0</td>\n",
       "      <td>150.0</td>\n",
       "      <td>mastercard</td>\n",
       "      <td>102.0</td>\n",
       "      <td>credit</td>\n",
       "      <td>325.0</td>\n",
       "      <td>...</td>\n",
       "      <td>3411.0</td>\n",
       "      <td>3823.0</td>\n",
       "      <td>0.001259</td>\n",
       "      <td>0.007361</td>\n",
       "      <td>0.886120</td>\n",
       "      <td>0.294325</td>\n",
       "      <td>0.057676</td>\n",
       "      <td>0.353813</td>\n",
       "      <td>0.068741</td>\n",
       "      <td>0.883167</td>\n",
       "    </tr>\n",
       "    <tr>\n",
       "      <th>2</th>\n",
       "      <td>2017-12-02 00:01:09</td>\n",
       "      <td>59.0</td>\n",
       "      <td>W</td>\n",
       "      <td>4663</td>\n",
       "      <td>490.0</td>\n",
       "      <td>150.0</td>\n",
       "      <td>visa</td>\n",
       "      <td>166.0</td>\n",
       "      <td>debit</td>\n",
       "      <td>330.0</td>\n",
       "      <td>...</td>\n",
       "      <td>5469.0</td>\n",
       "      <td>5886.0</td>\n",
       "      <td>0.001306</td>\n",
       "      <td>0.057324</td>\n",
       "      <td>0.886120</td>\n",
       "      <td>0.656922</td>\n",
       "      <td>0.075361</td>\n",
       "      <td>0.646085</td>\n",
       "      <td>0.042713</td>\n",
       "      <td>0.883167</td>\n",
       "    </tr>\n",
       "    <tr>\n",
       "      <th>3</th>\n",
       "      <td>2017-12-02 00:01:39</td>\n",
       "      <td>50.0</td>\n",
       "      <td>W</td>\n",
       "      <td>18132</td>\n",
       "      <td>567.0</td>\n",
       "      <td>150.0</td>\n",
       "      <td>mastercard</td>\n",
       "      <td>117.0</td>\n",
       "      <td>debit</td>\n",
       "      <td>476.0</td>\n",
       "      <td>...</td>\n",
       "      <td>18966.0</td>\n",
       "      <td>19529.0</td>\n",
       "      <td>0.006269</td>\n",
       "      <td>0.009694</td>\n",
       "      <td>0.886120</td>\n",
       "      <td>0.294325</td>\n",
       "      <td>0.035796</td>\n",
       "      <td>0.646085</td>\n",
       "      <td>0.015583</td>\n",
       "      <td>0.883167</td>\n",
       "    </tr>\n",
       "    <tr>\n",
       "      <th>4</th>\n",
       "      <td>2017-12-02 00:01:46</td>\n",
       "      <td>50.0</td>\n",
       "      <td>H</td>\n",
       "      <td>4497</td>\n",
       "      <td>514.0</td>\n",
       "      <td>150.0</td>\n",
       "      <td>mastercard</td>\n",
       "      <td>102.0</td>\n",
       "      <td>credit</td>\n",
       "      <td>420.0</td>\n",
       "      <td>...</td>\n",
       "      <td>5263.0</td>\n",
       "      <td>5770.0</td>\n",
       "      <td>0.000019</td>\n",
       "      <td>0.034111</td>\n",
       "      <td>0.886120</td>\n",
       "      <td>0.294325</td>\n",
       "      <td>0.057676</td>\n",
       "      <td>0.353813</td>\n",
       "      <td>0.007398</td>\n",
       "      <td>0.883167</td>\n",
       "    </tr>\n",
       "    <tr>\n",
       "      <th>...</th>\n",
       "      <td>...</td>\n",
       "      <td>...</td>\n",
       "      <td>...</td>\n",
       "      <td>...</td>\n",
       "      <td>...</td>\n",
       "      <td>...</td>\n",
       "      <td>...</td>\n",
       "      <td>...</td>\n",
       "      <td>...</td>\n",
       "      <td>...</td>\n",
       "      <td>...</td>\n",
       "      <td>...</td>\n",
       "      <td>...</td>\n",
       "      <td>...</td>\n",
       "      <td>...</td>\n",
       "      <td>...</td>\n",
       "      <td>...</td>\n",
       "      <td>...</td>\n",
       "      <td>...</td>\n",
       "      <td>...</td>\n",
       "      <td>...</td>\n",
       "    </tr>\n",
       "    <tr>\n",
       "      <th>107995</th>\n",
       "      <td>2017-12-25 18:25:32</td>\n",
       "      <td>29.5</td>\n",
       "      <td>C</td>\n",
       "      <td>15885</td>\n",
       "      <td>545.0</td>\n",
       "      <td>185.0</td>\n",
       "      <td>visa</td>\n",
       "      <td>138.0</td>\n",
       "      <td>debit</td>\n",
       "      <td>0.0</td>\n",
       "      <td>...</td>\n",
       "      <td>16753.0</td>\n",
       "      <td>16753.0</td>\n",
       "      <td>0.017269</td>\n",
       "      <td>0.026852</td>\n",
       "      <td>0.096611</td>\n",
       "      <td>0.656922</td>\n",
       "      <td>0.033694</td>\n",
       "      <td>0.646085</td>\n",
       "      <td>0.092204</td>\n",
       "      <td>0.092204</td>\n",
       "    </tr>\n",
       "    <tr>\n",
       "      <th>107996</th>\n",
       "      <td>2017-12-25 18:25:34</td>\n",
       "      <td>117.0</td>\n",
       "      <td>W</td>\n",
       "      <td>8920</td>\n",
       "      <td>555.0</td>\n",
       "      <td>150.0</td>\n",
       "      <td>visa</td>\n",
       "      <td>226.0</td>\n",
       "      <td>debit</td>\n",
       "      <td>330.0</td>\n",
       "      <td>...</td>\n",
       "      <td>9851.0</td>\n",
       "      <td>10268.0</td>\n",
       "      <td>0.000009</td>\n",
       "      <td>0.068120</td>\n",
       "      <td>0.886120</td>\n",
       "      <td>0.656922</td>\n",
       "      <td>0.515046</td>\n",
       "      <td>0.646085</td>\n",
       "      <td>0.042713</td>\n",
       "      <td>0.883167</td>\n",
       "    </tr>\n",
       "    <tr>\n",
       "      <th>107997</th>\n",
       "      <td>2017-12-25 18:25:43</td>\n",
       "      <td>500.0</td>\n",
       "      <td>R</td>\n",
       "      <td>15063</td>\n",
       "      <td>514.0</td>\n",
       "      <td>150.0</td>\n",
       "      <td>visa</td>\n",
       "      <td>226.0</td>\n",
       "      <td>credit</td>\n",
       "      <td>299.0</td>\n",
       "      <td>...</td>\n",
       "      <td>15953.0</td>\n",
       "      <td>16339.0</td>\n",
       "      <td>0.006972</td>\n",
       "      <td>0.034111</td>\n",
       "      <td>0.886120</td>\n",
       "      <td>0.656922</td>\n",
       "      <td>0.515046</td>\n",
       "      <td>0.353813</td>\n",
       "      <td>0.090333</td>\n",
       "      <td>0.883167</td>\n",
       "    </tr>\n",
       "    <tr>\n",
       "      <th>107998</th>\n",
       "      <td>2017-12-25 18:25:44</td>\n",
       "      <td>150.0</td>\n",
       "      <td>H</td>\n",
       "      <td>12484</td>\n",
       "      <td>543.0</td>\n",
       "      <td>150.0</td>\n",
       "      <td>mastercard</td>\n",
       "      <td>224.0</td>\n",
       "      <td>debit</td>\n",
       "      <td>264.0</td>\n",
       "      <td>...</td>\n",
       "      <td>13401.0</td>\n",
       "      <td>13752.0</td>\n",
       "      <td>0.000019</td>\n",
       "      <td>0.007120</td>\n",
       "      <td>0.886120</td>\n",
       "      <td>0.294325</td>\n",
       "      <td>0.122176</td>\n",
       "      <td>0.646085</td>\n",
       "      <td>0.064611</td>\n",
       "      <td>0.883167</td>\n",
       "    </tr>\n",
       "    <tr>\n",
       "      <th>107999</th>\n",
       "      <td>2017-12-25 18:25:47</td>\n",
       "      <td>77.0</td>\n",
       "      <td>W</td>\n",
       "      <td>2616</td>\n",
       "      <td>0.0</td>\n",
       "      <td>150.0</td>\n",
       "      <td>discover</td>\n",
       "      <td>102.0</td>\n",
       "      <td>credit</td>\n",
       "      <td>384.0</td>\n",
       "      <td>...</td>\n",
       "      <td>2868.0</td>\n",
       "      <td>3339.0</td>\n",
       "      <td>0.009556</td>\n",
       "      <td>0.013417</td>\n",
       "      <td>0.886120</td>\n",
       "      <td>0.014797</td>\n",
       "      <td>0.057676</td>\n",
       "      <td>0.353813</td>\n",
       "      <td>0.003546</td>\n",
       "      <td>0.883167</td>\n",
       "    </tr>\n",
       "  </tbody>\n",
       "</table>\n",
       "<p>108000 rows × 408 columns</p>\n",
       "</div>"
      ],
      "text/plain": [
       "             TransactionDT  TransactionAmt ProductCD  card1  card2  card3  \\\n",
       "0      2017-12-02 00:00:00            68.5         W  13926    0.0  150.0   \n",
       "1      2017-12-02 00:00:01            29.0         W   2755  404.0  150.0   \n",
       "2      2017-12-02 00:01:09            59.0         W   4663  490.0  150.0   \n",
       "3      2017-12-02 00:01:39            50.0         W  18132  567.0  150.0   \n",
       "4      2017-12-02 00:01:46            50.0         H   4497  514.0  150.0   \n",
       "...                    ...             ...       ...    ...    ...    ...   \n",
       "107995 2017-12-25 18:25:32            29.5         C  15885  545.0  185.0   \n",
       "107996 2017-12-25 18:25:34           117.0         W   8920  555.0  150.0   \n",
       "107997 2017-12-25 18:25:43           500.0         R  15063  514.0  150.0   \n",
       "107998 2017-12-25 18:25:44           150.0         H  12484  543.0  150.0   \n",
       "107999 2017-12-25 18:25:47            77.0         W   2616    0.0  150.0   \n",
       "\n",
       "             card4  card5   card6  addr1  ...  card1_5  card1_ad2  \\\n",
       "0         discover  142.0  credit  315.0  ...  14218.0    14620.0   \n",
       "1       mastercard  102.0  credit  325.0  ...   3411.0     3823.0   \n",
       "2             visa  166.0   debit  330.0  ...   5469.0     5886.0   \n",
       "3       mastercard  117.0   debit  476.0  ...  18966.0    19529.0   \n",
       "4       mastercard  102.0  credit  420.0  ...   5263.0     5770.0   \n",
       "...            ...    ...     ...    ...  ...      ...        ...   \n",
       "107995        visa  138.0   debit    0.0  ...  16753.0    16753.0   \n",
       "107996        visa  226.0   debit  330.0  ...   9851.0    10268.0   \n",
       "107997        visa  226.0  credit  299.0  ...  15953.0    16339.0   \n",
       "107998  mastercard  224.0   debit  264.0  ...  13401.0    13752.0   \n",
       "107999    discover  102.0  credit  384.0  ...   2868.0     3339.0   \n",
       "\n",
       "        card1_freq_enc card2_freq_enc card3_freq_enc  card4_freq_enc  \\\n",
       "0             0.000065       0.013417       0.886120        0.014797   \n",
       "1             0.001259       0.007361       0.886120        0.294325   \n",
       "2             0.001306       0.057324       0.886120        0.656922   \n",
       "3             0.006269       0.009694       0.886120        0.294325   \n",
       "4             0.000019       0.034111       0.886120        0.294325   \n",
       "...                ...            ...            ...             ...   \n",
       "107995        0.017269       0.026852       0.096611        0.656922   \n",
       "107996        0.000009       0.068120       0.886120        0.656922   \n",
       "107997        0.006972       0.034111       0.886120        0.656922   \n",
       "107998        0.000019       0.007120       0.886120        0.294325   \n",
       "107999        0.009556       0.013417       0.886120        0.014797   \n",
       "\n",
       "        card5_freq_enc  card6_freq_enc  addr1_freq_enc  addr2_freq_enc  \n",
       "0             0.000287        0.353813        0.038074        0.883167  \n",
       "1             0.057676        0.353813        0.068741        0.883167  \n",
       "2             0.075361        0.646085        0.042713        0.883167  \n",
       "3             0.035796        0.646085        0.015583        0.883167  \n",
       "4             0.057676        0.353813        0.007398        0.883167  \n",
       "...                ...             ...             ...             ...  \n",
       "107995        0.033694        0.646085        0.092204        0.092204  \n",
       "107996        0.515046        0.646085        0.042713        0.883167  \n",
       "107997        0.515046        0.353813        0.090333        0.883167  \n",
       "107998        0.122176        0.646085        0.064611        0.883167  \n",
       "107999        0.057676        0.353813        0.003546        0.883167  \n",
       "\n",
       "[108000 rows x 408 columns]"
      ]
     },
     "execution_count": 167,
     "metadata": {},
     "output_type": "execute_result"
    }
   ],
   "source": [
    "x_train"
   ]
  },
  {
   "cell_type": "code",
   "execution_count": null,
   "metadata": {},
   "outputs": [],
   "source": [
    "# теперть, добавим этот параметр к нашей основной таблице."
   ]
  },
  {
   "cell_type": "code",
   "execution_count": 72,
   "metadata": {},
   "outputs": [
    {
     "data": {
      "text/html": [
       "<div>\n",
       "<style scoped>\n",
       "    .dataframe tbody tr th:only-of-type {\n",
       "        vertical-align: middle;\n",
       "    }\n",
       "\n",
       "    .dataframe tbody tr th {\n",
       "        vertical-align: top;\n",
       "    }\n",
       "\n",
       "    .dataframe thead th {\n",
       "        text-align: right;\n",
       "    }\n",
       "</style>\n",
       "<table border=\"1\" class=\"dataframe\">\n",
       "  <thead>\n",
       "    <tr style=\"text-align: right;\">\n",
       "      <th></th>\n",
       "      <th>index</th>\n",
       "      <th>TransactionAmt</th>\n",
       "    </tr>\n",
       "  </thead>\n",
       "  <tbody>\n",
       "    <tr>\n",
       "      <th>0</th>\n",
       "      <td>mean</td>\n",
       "      <td>129.381049</td>\n",
       "    </tr>\n",
       "    <tr>\n",
       "      <th>1</th>\n",
       "      <td>std</td>\n",
       "      <td>201.289523</td>\n",
       "    </tr>\n",
       "  </tbody>\n",
       "</table>\n",
       "</div>"
      ],
      "text/plain": [
       "  index  TransactionAmt\n",
       "0  mean      129.381049\n",
       "1   std      201.289523"
      ]
     },
     "execution_count": 72,
     "metadata": {},
     "output_type": "execute_result"
    }
   ],
   "source": [
    "# feature_numerical"
   ]
  },
  {
   "cell_type": "code",
   "execution_count": null,
   "metadata": {},
   "outputs": [],
   "source": [
    "# добавить ф-ю для расчета модели. "
   ]
  },
  {
   "cell_type": "markdown",
   "metadata": {},
   "source": [
    "## Задание 5 \n",
    "\n",
    "Создать признаки на основе отношения: D15 к вычисленной статистике. Статистика - среднее значение / стандартное отклонение D15, сгруппированное по `card1 - card6`, `addr1`, `addr2`, и по признакам, созданным в задании 2.\n"
   ]
  },
  {
   "cell_type": "code",
   "execution_count": null,
   "metadata": {},
   "outputs": [],
   "source": [
    "create_aggs(x_train, 'D15', feature_names)  # Эту ф-ю нужно разделить для числовых и категориальных."
   ]
  },
  {
   "cell_type": "code",
   "execution_count": null,
   "metadata": {},
   "outputs": [],
   "source": [
    "x_train"
   ]
  },
  {
   "cell_type": "code",
   "execution_count": null,
   "metadata": {},
   "outputs": [],
   "source": []
  },
  {
   "cell_type": "markdown",
   "metadata": {},
   "source": [
    "## Задание 6\n",
    "\n",
    "Выделить дробную часть и целую часть признака `TransactionAmt` в два отдельных признака. После создать отдельных признак - логарифм от `TransactionAmt`\n"
   ]
  },
  {
   "cell_type": "code",
   "execution_count": null,
   "metadata": {},
   "outputs": [],
   "source": [
    "# Создать три разных признака. "
   ]
  },
  {
   "cell_type": "code",
   "execution_count": null,
   "metadata": {},
   "outputs": [],
   "source": [
    "# написать письмо кате. "
   ]
  },
  {
   "cell_type": "code",
   "execution_count": null,
   "metadata": {},
   "outputs": [],
   "source": []
  },
  {
   "cell_type": "markdown",
   "metadata": {},
   "source": [
    "## Задание 7 (опция)\n",
    "\n",
    "Выполнить предварительную подготовку / очистку признаков `P_emaildomain` и `R_emaildomain` (что и как делать - остается на ваше усмотрение) и сделать Frequency Encoding для очищенных признаков.\n"
   ]
  },
  {
   "cell_type": "code",
   "execution_count": null,
   "metadata": {},
   "outputs": [],
   "source": []
  }
 ],
 "metadata": {
  "interpreter": {
   "hash": "da538714de4b70115e547d177ba7403fcac2bb9e900966344e6205f669f7f42f"
  },
  "kernelspec": {
   "display_name": "Python 3.8.11 64-bit ('nlp_env': conda)",
   "name": "python3"
  },
  "language_info": {
   "codemirror_mode": {
    "name": "ipython",
    "version": 3
   },
   "file_extension": ".py",
   "mimetype": "text/x-python",
   "name": "python",
   "nbconvert_exporter": "python",
   "pygments_lexer": "ipython3",
   "version": "3.8.11"
  }
 },
 "nbformat": 4,
 "nbformat_minor": 2
}
