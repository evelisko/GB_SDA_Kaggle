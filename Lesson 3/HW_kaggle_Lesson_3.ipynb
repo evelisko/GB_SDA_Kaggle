{
 "cells": [
  {
   "cell_type": "markdown",
   "metadata": {},
   "source": [
    "# Урок 3. Построение надежных схем валидации решения, оптимизация целевых метрик"
   ]
  },
  {
   "cell_type": "markdown",
   "metadata": {},
   "source": [
    "**Основное задание:**\n",
    "Даны выборки для обучения и для тестирования. Задание заключается в том, чтобы попробовать разные способы валидации, проанализировать плюсы / минусы каждой и сделать выводы о том, какой способ валидации наиболее устойчивый в данной задаче. Метрика качества для оценки прогнозов \\- **ROC-AUC**, название целевой переменной \\- **IsFraud**. Рекомендуется использовать модели градиетного бустинга, реализация любая / гипепараметры любые. **Внимание!** выборка `assignment_2_test.csv` \\- наш аналог лидерборда. Будем моделировать ситуацию отправки решения на лидерборд и сравнить значение метрики на лидерборде и на локальной валидации. **Для других целей использовать выборку запрещено!**.\n",
    "​\n",
    "**Терминалогия, используемая в задании:**\n",
    "\\* обучающая выборка \\- выборка, которая передается в метод `fit` / `train`;\n",
    "\\* валидационная выборка \\- выборка, которая получается при Hold-Out на 2 выборки (`train`, `valid`);\n",
    "\\* тестовая выборка \\- выборка, которая получается при Hold-Out на 3 выборки (`train`, `valid`, `test`);\n",
    "\\* ЛБ \\- лидерборд, выборка `assignment_2_test.csv`.\n",
    "​\n",
    "**Задание 1:** сделать Hold-Out валидацию с разбиением, размер которого будет адеквтаным, по вашему мнению; разбиение проводить по id-транзакции (`TransactionID`), обучать модель градиетного бустинга любой реализации с подбором числа деревьев по early_stopping критерию до достижения сходимости. Оценить качество модели на валидационной выборке, оценить расхождение по сравнению с качеством на обучающей выборке и валидационной выборке. Оценить качество на ЛБ, сравнить с качеством на обучении и валидации. Сделать выводы.\n",
    "​\n",
    "**Задание 2:** сделать Hold-Out валидацию с разбиением на 3 выборки, разбиение проводить по id-транзакции (TransactionID), размер каждой выборки подобрать самостоятельно. Повторить процедуру из п.1. для каждой выборки.\n",
    "​\n",
    "**Задание 3:** построить доверительный интервал на данных из п.2 на основе **бутстреп** выборок, оценить качество модели на ЛБ относительно полученного доверительного интервала. Сделать выводы.\n",
    "​\n",
    "**Задание 4:** выполнить `Adversarial Validation`, подобрать объекты из обучающей выборки, которые сильно похожи на объекты из `assignment_2_test.csv`, и использовать их в качестве валидационного набора. Оценить качество модели на ЛБ, сделать выводы о полученных результатах.\n",
    "​\n",
    "**Задание 5:** сделать KFold / StratifiedKFold валидацию (на ваше усмотрение), оценить получаемые качество и разброс по метрике качества. Сделать выводы об устойчивости кросс-валидации, сходимости оценки на кросс-валидации и отложенном наборе данных; Оценить качество на ЛБ, сделать выводы.\n",
    "​\n",
    "**Задание 6** (опциональное): сделать Hold-Out валидацию по времени (`TransactionDT`), повторить процедуры из п.1 / п.2 (на ваш выбор). Построить доверительный интервал, сравнить качество на ЛБ выборке с полученным доверительным интервалом. Сделать выводы.\n",
    "​\n",
    "**Задание 7** (совсем опциональное): в данном наборе данных у нас есть ID-транзакции (`TransactionID`) и время транзакции (`TransactionDT`), но отсутствует ID-клиента, который совершал транзакции. Кажется, что в этой задаче валидация по клиенту работала бы хорошо. Предложить критерий, по которому можно выделить клиентов и сделать п.5, используя созданное определение клиента, используя валидацию по клиенту (`GroupKFold`)."
   ]
  },
  {
   "cell_type": "code",
   "execution_count": 1,
   "metadata": {},
   "outputs": [],
   "source": [
    "import numpy as np\n",
    "import pandas as pd\n",
    "import xgboost as xgb\n",
    "import catboost as cb\n",
    "import lightgbm as lgb\n",
    "import matplotlib.pyplot as plt\n",
    "import missingno as msno\n",
    "from sklearn import metrics\n",
    "\n",
    "from sklearn.model_selection import train_test_split\n",
    "from sklearn.metrics import roc_auc_score\n",
    "\n",
    "import seaborn as sns\n",
    "import scipy.stats as st\n",
    "\n",
    "import warnings\n",
    "warnings.simplefilter(\"ignore\")\n",
    "\n",
    "import warnings\n",
    "from tqdm import tqdm\n",
    "from typing import List, Tuple\n",
    "\n",
    "import numpy as np\n",
    "import pandas as pd\n",
    "import seaborn as sns\n",
    "import xgboost as xgb\n",
    "import matplotlib.pyplot as plt\n",
    "from scipy.stats import ttest_rel\n",
    "\n",
    "from sklearn.metrics import r2_score\n",
    "from sklearn.ensemble import RandomForestRegressor\n",
    "from sklearn.model_selection import KFold, StratifiedKFold, train_test_split, cross_val_score\n",
    "warnings.simplefilter(\"ignore\")\n",
    "%matplotlib inline"
   ]
  },
  {
   "cell_type": "code",
   "execution_count": 2,
   "metadata": {},
   "outputs": [],
   "source": [
    "# Не успеваю с выполнением этого задания. \n",
    "# Пока  это только заглушка. В течение пары дней постараюсь выложить решение."
   ]
  },
  {
   "cell_type": "markdown",
   "metadata": {},
   "source": [
    "## Задание 1.\n",
    "\n",
    "Cделать Hold-Out валидацию с разбиением, размер которого будет\n",
    " адеквтаным, по вашему мнению; разбиение проводить по id-транзакции (TransactionID),\n",
    " обучать модель градиетного бустинга любой реализации с подбором числа деревьев\n",
    " по early_stopping критерию до достижения сходимости. Оценить качество модели на \n",
    " валидационной выборке, оценить расхождение по сравнению с качеством на обучающей выборке\n",
    " и валидационной выборке. Оценить качество на ЛБ, сравнить с качеством на обучении и валидации.\n",
    " Сделать выводы."
   ]
  },
  {
   "cell_type": "code",
   "execution_count": 3,
   "metadata": {},
   "outputs": [],
   "source": [
    "public_df = pd.read_csv('../assignment2_data/assignment_2_train.csv')\n",
    "private_df = pd.read_csv('../assignment2_data/assignment_2_test.csv')"
   ]
  },
  {
   "cell_type": "code",
   "execution_count": 4,
   "metadata": {},
   "outputs": [
    {
     "name": "stdout",
     "output_type": "stream",
     "text": [
      "open_df.shape = 180000 rows, 394 cols\n",
      "private_df.shape = 100001 rows, 394 cols\n"
     ]
    }
   ],
   "source": [
    "print(\"public_df.shape = {} rows, {} cols\".format(*public_df.shape))\n",
    "print(\"private_df.shape = {} rows, {} cols\".format(*private_df.shape))"
   ]
  },
  {
   "cell_type": "code",
   "execution_count": 5,
   "metadata": {},
   "outputs": [
    {
     "data": {
      "text/html": [
       "<div>\n",
       "<style scoped>\n",
       "    .dataframe tbody tr th:only-of-type {\n",
       "        vertical-align: middle;\n",
       "    }\n",
       "\n",
       "    .dataframe tbody tr th {\n",
       "        vertical-align: top;\n",
       "    }\n",
       "\n",
       "    .dataframe thead th {\n",
       "        text-align: right;\n",
       "    }\n",
       "</style>\n",
       "<table border=\"1\" class=\"dataframe\">\n",
       "  <thead>\n",
       "    <tr style=\"text-align: right;\">\n",
       "      <th></th>\n",
       "      <th>TransactionID</th>\n",
       "      <th>isFraud</th>\n",
       "      <th>TransactionDT</th>\n",
       "      <th>TransactionAmt</th>\n",
       "      <th>ProductCD</th>\n",
       "      <th>card1</th>\n",
       "      <th>card2</th>\n",
       "      <th>card3</th>\n",
       "      <th>card4</th>\n",
       "      <th>card5</th>\n",
       "      <th>...</th>\n",
       "      <th>V330</th>\n",
       "      <th>V331</th>\n",
       "      <th>V332</th>\n",
       "      <th>V333</th>\n",
       "      <th>V334</th>\n",
       "      <th>V335</th>\n",
       "      <th>V336</th>\n",
       "      <th>V337</th>\n",
       "      <th>V338</th>\n",
       "      <th>V339</th>\n",
       "    </tr>\n",
       "  </thead>\n",
       "  <tbody>\n",
       "    <tr>\n",
       "      <th>0</th>\n",
       "      <td>2987000</td>\n",
       "      <td>0</td>\n",
       "      <td>86400</td>\n",
       "      <td>68.5</td>\n",
       "      <td>W</td>\n",
       "      <td>13926</td>\n",
       "      <td>NaN</td>\n",
       "      <td>150.0</td>\n",
       "      <td>discover</td>\n",
       "      <td>142.0</td>\n",
       "      <td>...</td>\n",
       "      <td>NaN</td>\n",
       "      <td>NaN</td>\n",
       "      <td>NaN</td>\n",
       "      <td>NaN</td>\n",
       "      <td>NaN</td>\n",
       "      <td>NaN</td>\n",
       "      <td>NaN</td>\n",
       "      <td>NaN</td>\n",
       "      <td>NaN</td>\n",
       "      <td>NaN</td>\n",
       "    </tr>\n",
       "    <tr>\n",
       "      <th>1</th>\n",
       "      <td>2987001</td>\n",
       "      <td>0</td>\n",
       "      <td>86401</td>\n",
       "      <td>29.0</td>\n",
       "      <td>W</td>\n",
       "      <td>2755</td>\n",
       "      <td>404.0</td>\n",
       "      <td>150.0</td>\n",
       "      <td>mastercard</td>\n",
       "      <td>102.0</td>\n",
       "      <td>...</td>\n",
       "      <td>NaN</td>\n",
       "      <td>NaN</td>\n",
       "      <td>NaN</td>\n",
       "      <td>NaN</td>\n",
       "      <td>NaN</td>\n",
       "      <td>NaN</td>\n",
       "      <td>NaN</td>\n",
       "      <td>NaN</td>\n",
       "      <td>NaN</td>\n",
       "      <td>NaN</td>\n",
       "    </tr>\n",
       "    <tr>\n",
       "      <th>2</th>\n",
       "      <td>2987002</td>\n",
       "      <td>0</td>\n",
       "      <td>86469</td>\n",
       "      <td>59.0</td>\n",
       "      <td>W</td>\n",
       "      <td>4663</td>\n",
       "      <td>490.0</td>\n",
       "      <td>150.0</td>\n",
       "      <td>visa</td>\n",
       "      <td>166.0</td>\n",
       "      <td>...</td>\n",
       "      <td>NaN</td>\n",
       "      <td>NaN</td>\n",
       "      <td>NaN</td>\n",
       "      <td>NaN</td>\n",
       "      <td>NaN</td>\n",
       "      <td>NaN</td>\n",
       "      <td>NaN</td>\n",
       "      <td>NaN</td>\n",
       "      <td>NaN</td>\n",
       "      <td>NaN</td>\n",
       "    </tr>\n",
       "  </tbody>\n",
       "</table>\n",
       "<p>3 rows × 394 columns</p>\n",
       "</div>"
      ],
      "text/plain": [
       "   TransactionID  isFraud  TransactionDT  TransactionAmt ProductCD  card1  \\\n",
       "0        2987000        0          86400            68.5         W  13926   \n",
       "1        2987001        0          86401            29.0         W   2755   \n",
       "2        2987002        0          86469            59.0         W   4663   \n",
       "\n",
       "   card2  card3       card4  card5  ... V330  V331  V332  V333  V334 V335  \\\n",
       "0    NaN  150.0    discover  142.0  ...  NaN   NaN   NaN   NaN   NaN  NaN   \n",
       "1  404.0  150.0  mastercard  102.0  ...  NaN   NaN   NaN   NaN   NaN  NaN   \n",
       "2  490.0  150.0        visa  166.0  ...  NaN   NaN   NaN   NaN   NaN  NaN   \n",
       "\n",
       "  V336  V337  V338  V339  \n",
       "0  NaN   NaN   NaN   NaN  \n",
       "1  NaN   NaN   NaN   NaN  \n",
       "2  NaN   NaN   NaN   NaN  \n",
       "\n",
       "[3 rows x 394 columns]"
      ]
     },
     "execution_count": 5,
     "metadata": {},
     "output_type": "execute_result"
    }
   ],
   "source": [
    "public_df.head(3)"
   ]
  },
  {
   "cell_type": "code",
   "execution_count": 6,
   "metadata": {},
   "outputs": [
    {
     "data": {
      "text/plain": [
       "180000"
      ]
     },
     "execution_count": 6,
     "metadata": {},
     "output_type": "execute_result"
    }
   ],
   "source": [
    "len(public_df['TransactionID'].value_counts())"
   ]
  },
  {
   "cell_type": "code",
   "execution_count": 7,
   "metadata": {},
   "outputs": [
    {
     "data": {
      "text/html": [
       "<div>\n",
       "<style scoped>\n",
       "    .dataframe tbody tr th:only-of-type {\n",
       "        vertical-align: middle;\n",
       "    }\n",
       "\n",
       "    .dataframe tbody tr th {\n",
       "        vertical-align: top;\n",
       "    }\n",
       "\n",
       "    .dataframe thead th {\n",
       "        text-align: right;\n",
       "    }\n",
       "</style>\n",
       "<table border=\"1\" class=\"dataframe\">\n",
       "  <thead>\n",
       "    <tr style=\"text-align: right;\">\n",
       "      <th></th>\n",
       "      <th>TransactionID</th>\n",
       "      <th>isFraud</th>\n",
       "      <th>TransactionDT</th>\n",
       "      <th>TransactionAmt</th>\n",
       "      <th>addr1</th>\n",
       "      <th>addr2</th>\n",
       "    </tr>\n",
       "  </thead>\n",
       "  <tbody>\n",
       "    <tr>\n",
       "      <th>0</th>\n",
       "      <td>2987000</td>\n",
       "      <td>0</td>\n",
       "      <td>86400</td>\n",
       "      <td>68.50</td>\n",
       "      <td>315.0</td>\n",
       "      <td>87.0</td>\n",
       "    </tr>\n",
       "    <tr>\n",
       "      <th>1</th>\n",
       "      <td>2987001</td>\n",
       "      <td>0</td>\n",
       "      <td>86401</td>\n",
       "      <td>29.00</td>\n",
       "      <td>325.0</td>\n",
       "      <td>87.0</td>\n",
       "    </tr>\n",
       "    <tr>\n",
       "      <th>2</th>\n",
       "      <td>2987002</td>\n",
       "      <td>0</td>\n",
       "      <td>86469</td>\n",
       "      <td>59.00</td>\n",
       "      <td>330.0</td>\n",
       "      <td>87.0</td>\n",
       "    </tr>\n",
       "    <tr>\n",
       "      <th>3</th>\n",
       "      <td>2987003</td>\n",
       "      <td>0</td>\n",
       "      <td>86499</td>\n",
       "      <td>50.00</td>\n",
       "      <td>476.0</td>\n",
       "      <td>87.0</td>\n",
       "    </tr>\n",
       "    <tr>\n",
       "      <th>4</th>\n",
       "      <td>2987004</td>\n",
       "      <td>0</td>\n",
       "      <td>86506</td>\n",
       "      <td>50.00</td>\n",
       "      <td>420.0</td>\n",
       "      <td>87.0</td>\n",
       "    </tr>\n",
       "    <tr>\n",
       "      <th>...</th>\n",
       "      <td>...</td>\n",
       "      <td>...</td>\n",
       "      <td>...</td>\n",
       "      <td>...</td>\n",
       "      <td>...</td>\n",
       "      <td>...</td>\n",
       "    </tr>\n",
       "    <tr>\n",
       "      <th>179995</th>\n",
       "      <td>3166995</td>\n",
       "      <td>0</td>\n",
       "      <td>3958217</td>\n",
       "      <td>39.00</td>\n",
       "      <td>272.0</td>\n",
       "      <td>87.0</td>\n",
       "    </tr>\n",
       "    <tr>\n",
       "      <th>179996</th>\n",
       "      <td>3166996</td>\n",
       "      <td>0</td>\n",
       "      <td>3958237</td>\n",
       "      <td>59.95</td>\n",
       "      <td>315.0</td>\n",
       "      <td>87.0</td>\n",
       "    </tr>\n",
       "    <tr>\n",
       "      <th>179997</th>\n",
       "      <td>3166997</td>\n",
       "      <td>0</td>\n",
       "      <td>3958241</td>\n",
       "      <td>34.00</td>\n",
       "      <td>330.0</td>\n",
       "      <td>87.0</td>\n",
       "    </tr>\n",
       "    <tr>\n",
       "      <th>179998</th>\n",
       "      <td>3166998</td>\n",
       "      <td>0</td>\n",
       "      <td>3958260</td>\n",
       "      <td>59.00</td>\n",
       "      <td>272.0</td>\n",
       "      <td>87.0</td>\n",
       "    </tr>\n",
       "    <tr>\n",
       "      <th>179999</th>\n",
       "      <td>3166999</td>\n",
       "      <td>0</td>\n",
       "      <td>3958317</td>\n",
       "      <td>226.00</td>\n",
       "      <td>123.0</td>\n",
       "      <td>87.0</td>\n",
       "    </tr>\n",
       "  </tbody>\n",
       "</table>\n",
       "<p>180000 rows × 6 columns</p>\n",
       "</div>"
      ],
      "text/plain": [
       "        TransactionID  isFraud  TransactionDT  TransactionAmt  addr1  addr2\n",
       "0             2987000        0          86400           68.50  315.0   87.0\n",
       "1             2987001        0          86401           29.00  325.0   87.0\n",
       "2             2987002        0          86469           59.00  330.0   87.0\n",
       "3             2987003        0          86499           50.00  476.0   87.0\n",
       "4             2987004        0          86506           50.00  420.0   87.0\n",
       "...               ...      ...            ...             ...    ...    ...\n",
       "179995        3166995        0        3958217           39.00  272.0   87.0\n",
       "179996        3166996        0        3958237           59.95  315.0   87.0\n",
       "179997        3166997        0        3958241           34.00  330.0   87.0\n",
       "179998        3166998        0        3958260           59.00  272.0   87.0\n",
       "179999        3166999        0        3958317          226.00  123.0   87.0\n",
       "\n",
       "[180000 rows x 6 columns]"
      ]
     },
     "execution_count": 7,
     "metadata": {},
     "output_type": "execute_result"
    }
   ],
   "source": [
    "public_df[['TransactionID','isFraud','TransactionDT','TransactionAmt','addr1','addr2']]"
   ]
  },
  {
   "cell_type": "code",
   "execution_count": 8,
   "metadata": {},
   "outputs": [
    {
     "data": {
      "text/plain": [
       "299.0    15678\n",
       "325.0    12846\n",
       "204.0    12729\n",
       "264.0    11592\n",
       "330.0     7419\n",
       "         ...  \n",
       "185.0        1\n",
       "233.0        1\n",
       "133.0        1\n",
       "183.0        1\n",
       "522.0        1\n",
       "Name: addr1, Length: 269, dtype: int64"
      ]
     },
     "execution_count": 8,
     "metadata": {},
     "output_type": "execute_result"
    }
   ],
   "source": [
    "public_df['addr1'].value_counts()"
   ]
  },
  {
   "cell_type": "code",
   "execution_count": 9,
   "metadata": {},
   "outputs": [
    {
     "data": {
      "text/plain": [
       "87.0     157732\n",
       "60.0       2107\n",
       "96.0        347\n",
       "32.0         61\n",
       "16.0         43\n",
       "31.0         42\n",
       "65.0         28\n",
       "26.0         20\n",
       "19.0         19\n",
       "69.0         16\n",
       "102.0        11\n",
       "59.0         10\n",
       "29.0          9\n",
       "98.0          8\n",
       "17.0          7\n",
       "57.0          7\n",
       "71.0          7\n",
       "13.0          7\n",
       "72.0          6\n",
       "88.0          5\n",
       "68.0          5\n",
       "52.0          5\n",
       "21.0          5\n",
       "48.0          4\n",
       "24.0          3\n",
       "101.0         3\n",
       "47.0          3\n",
       "78.0          3\n",
       "39.0          3\n",
       "44.0          3\n",
       "34.0          3\n",
       "10.0          3\n",
       "23.0          2\n",
       "86.0          2\n",
       "30.0          2\n",
       "76.0          2\n",
       "54.0          2\n",
       "43.0          2\n",
       "97.0          2\n",
       "63.0          2\n",
       "66.0          2\n",
       "62.0          2\n",
       "73.0          1\n",
       "50.0          1\n",
       "83.0          1\n",
       "70.0          1\n",
       "75.0          1\n",
       "15.0          1\n",
       "49.0          1\n",
       "14.0          1\n",
       "35.0          1\n",
       "25.0          1\n",
       "22.0          1\n",
       "27.0          1\n",
       "Name: addr2, dtype: int64"
      ]
     },
     "execution_count": 9,
     "metadata": {},
     "output_type": "execute_result"
    }
   ],
   "source": [
    "public_df['addr2'].value_counts()"
   ]
  },
  {
   "cell_type": "code",
   "execution_count": 10,
   "metadata": {},
   "outputs": [],
   "source": [
    "# Разделим выборки на тренировчную, тестовую и валидационную."
   ]
  },
  {
   "cell_type": "code",
   "execution_count": 11,
   "metadata": {},
   "outputs": [],
   "source": [
    "x_train, x_test = train_test_split(public_df.drop([\"TransactionID\", \"isFraud\"], axis=1), train_size=0.60, shuffle=False, random_state=1,)\n",
    "y_train, y_test = train_test_split(public_df[\"isFraud\"], train_size=0.60, shuffle=False, random_state=1,) # В данных имеется временная зависимость, поэтому пока перемешивать ничего не будем."
   ]
  },
  {
   "cell_type": "code",
   "execution_count": 12,
   "metadata": {},
   "outputs": [
    {
     "name": "stdout",
     "output_type": "stream",
     "text": [
      "x_train.shape = 108000 rows, 392 cols\n",
      "x_test.shape = 72000 rows, 392 cols\n"
     ]
    }
   ],
   "source": [
    "# numerical_features = x_train.select_dtypes(exclude=[\"object\"])\n",
    "# numerical_features = numerical_features.columns.tolist()\n",
    "\n",
    "# x_train = x_train[numerical_features]\n",
    "# x_test = x_test[numerical_features]\n",
    "\n",
    "print(\"x_train.shape = {} rows, {} cols\".format(*x_train.shape))\n",
    "print(\"x_test.shape = {} rows, {} cols\".format(*x_test.shape))"
   ]
  },
  {
   "cell_type": "code",
   "execution_count": 13,
   "metadata": {},
   "outputs": [],
   "source": [
    "# Получим список катероиальных и числовых признаков.\n",
    "\n",
    "categorical = []\n",
    "numerical = []\n",
    "for col, value in x_train.iteritems():\n",
    "    if value.dtype == 'object':\n",
    "        categorical.append(col)\n",
    "    else:\n",
    "        numerical.append(col)"
   ]
  },
  {
   "cell_type": "code",
   "execution_count": 14,
   "metadata": {},
   "outputs": [
    {
     "data": {
      "text/html": [
       "<div>\n",
       "<style scoped>\n",
       "    .dataframe tbody tr th:only-of-type {\n",
       "        vertical-align: middle;\n",
       "    }\n",
       "\n",
       "    .dataframe tbody tr th {\n",
       "        vertical-align: top;\n",
       "    }\n",
       "\n",
       "    .dataframe thead th {\n",
       "        text-align: right;\n",
       "    }\n",
       "</style>\n",
       "<table border=\"1\" class=\"dataframe\">\n",
       "  <thead>\n",
       "    <tr style=\"text-align: right;\">\n",
       "      <th></th>\n",
       "      <th>ProductCD</th>\n",
       "      <th>card4</th>\n",
       "      <th>card6</th>\n",
       "      <th>P_emaildomain</th>\n",
       "      <th>R_emaildomain</th>\n",
       "      <th>M1</th>\n",
       "      <th>M2</th>\n",
       "      <th>M3</th>\n",
       "      <th>M4</th>\n",
       "      <th>M5</th>\n",
       "      <th>M6</th>\n",
       "      <th>M7</th>\n",
       "      <th>M8</th>\n",
       "      <th>M9</th>\n",
       "    </tr>\n",
       "  </thead>\n",
       "  <tbody>\n",
       "    <tr>\n",
       "      <th>0</th>\n",
       "      <td>W</td>\n",
       "      <td>discover</td>\n",
       "      <td>credit</td>\n",
       "      <td>NaN</td>\n",
       "      <td>NaN</td>\n",
       "      <td>T</td>\n",
       "      <td>T</td>\n",
       "      <td>T</td>\n",
       "      <td>M2</td>\n",
       "      <td>F</td>\n",
       "      <td>T</td>\n",
       "      <td>NaN</td>\n",
       "      <td>NaN</td>\n",
       "      <td>NaN</td>\n",
       "    </tr>\n",
       "    <tr>\n",
       "      <th>1</th>\n",
       "      <td>W</td>\n",
       "      <td>mastercard</td>\n",
       "      <td>credit</td>\n",
       "      <td>gmail.com</td>\n",
       "      <td>NaN</td>\n",
       "      <td>NaN</td>\n",
       "      <td>NaN</td>\n",
       "      <td>NaN</td>\n",
       "      <td>M0</td>\n",
       "      <td>T</td>\n",
       "      <td>T</td>\n",
       "      <td>NaN</td>\n",
       "      <td>NaN</td>\n",
       "      <td>NaN</td>\n",
       "    </tr>\n",
       "    <tr>\n",
       "      <th>2</th>\n",
       "      <td>W</td>\n",
       "      <td>visa</td>\n",
       "      <td>debit</td>\n",
       "      <td>outlook.com</td>\n",
       "      <td>NaN</td>\n",
       "      <td>T</td>\n",
       "      <td>T</td>\n",
       "      <td>T</td>\n",
       "      <td>M0</td>\n",
       "      <td>F</td>\n",
       "      <td>F</td>\n",
       "      <td>F</td>\n",
       "      <td>F</td>\n",
       "      <td>F</td>\n",
       "    </tr>\n",
       "    <tr>\n",
       "      <th>3</th>\n",
       "      <td>W</td>\n",
       "      <td>mastercard</td>\n",
       "      <td>debit</td>\n",
       "      <td>yahoo.com</td>\n",
       "      <td>NaN</td>\n",
       "      <td>NaN</td>\n",
       "      <td>NaN</td>\n",
       "      <td>NaN</td>\n",
       "      <td>M0</td>\n",
       "      <td>T</td>\n",
       "      <td>F</td>\n",
       "      <td>NaN</td>\n",
       "      <td>NaN</td>\n",
       "      <td>NaN</td>\n",
       "    </tr>\n",
       "    <tr>\n",
       "      <th>4</th>\n",
       "      <td>H</td>\n",
       "      <td>mastercard</td>\n",
       "      <td>credit</td>\n",
       "      <td>gmail.com</td>\n",
       "      <td>NaN</td>\n",
       "      <td>NaN</td>\n",
       "      <td>NaN</td>\n",
       "      <td>NaN</td>\n",
       "      <td>NaN</td>\n",
       "      <td>NaN</td>\n",
       "      <td>NaN</td>\n",
       "      <td>NaN</td>\n",
       "      <td>NaN</td>\n",
       "      <td>NaN</td>\n",
       "    </tr>\n",
       "  </tbody>\n",
       "</table>\n",
       "</div>"
      ],
      "text/plain": [
       "  ProductCD       card4   card6 P_emaildomain R_emaildomain   M1   M2   M3  \\\n",
       "0         W    discover  credit           NaN           NaN    T    T    T   \n",
       "1         W  mastercard  credit     gmail.com           NaN  NaN  NaN  NaN   \n",
       "2         W        visa   debit   outlook.com           NaN    T    T    T   \n",
       "3         W  mastercard   debit     yahoo.com           NaN  NaN  NaN  NaN   \n",
       "4         H  mastercard  credit     gmail.com           NaN  NaN  NaN  NaN   \n",
       "\n",
       "    M4   M5   M6   M7   M8   M9  \n",
       "0   M2    F    T  NaN  NaN  NaN  \n",
       "1   M0    T    T  NaN  NaN  NaN  \n",
       "2   M0    F    F    F    F    F  \n",
       "3   M0    T    F  NaN  NaN  NaN  \n",
       "4  NaN  NaN  NaN  NaN  NaN  NaN  "
      ]
     },
     "execution_count": 14,
     "metadata": {},
     "output_type": "execute_result"
    }
   ],
   "source": [
    "x_train[categorical].head(5)"
   ]
  },
  {
   "cell_type": "code",
   "execution_count": 15,
   "metadata": {},
   "outputs": [],
   "source": [
    "# Выделим числовые и категриальные переменные. "
   ]
  },
  {
   "cell_type": "code",
   "execution_count": 16,
   "metadata": {},
   "outputs": [],
   "source": [
    "x_train[categorical]=x_train[categorical].astype('category')\n",
    "x_test[categorical]=x_test[categorical].astype('category')"
   ]
  },
  {
   "cell_type": "code",
   "execution_count": 17,
   "metadata": {},
   "outputs": [],
   "source": [
    "# lgb_dtrain_3 = lgb.Dataset(\n",
    "#     data=x_train, label=y_train,categorical_feature=categorical\n",
    "# )\n",
    "# lgb_dvalid_3 = lgb.Dataset(\n",
    "#     data=x_test, label=y_test,categorical_feature=categorical\n",
    "# )"
   ]
  },
  {
   "cell_type": "code",
   "execution_count": 18,
   "metadata": {},
   "outputs": [],
   "source": [
    "params = {\n",
    "    \"booster\": \"gbtree\",\n",
    "    # \"objective\": \"binary:logistic\",\n",
    "    \"eval_metric\": \"auc\",\n",
    "    \"learning_rate\": 0.1,\n",
    "    \"n_estimators\": 10000,\n",
    "    \"reg_lambda\": 50,\n",
    "    \"max_depth\": 4,\n",
    "    \"gamma\": 4,\n",
    "    \"nthread\": 6,\n",
    "    # \"seed\": 27,\n",
    "    'random_state':1\n",
    "    \n",
    "}"
   ]
  },
  {
   "cell_type": "code",
   "execution_count": null,
   "metadata": {},
   "outputs": [],
   "source": []
  },
  {
   "cell_type": "code",
   "execution_count": 19,
   "metadata": {},
   "outputs": [
    {
     "name": "stdout",
     "output_type": "stream",
     "text": [
      "[LightGBM] [Warning] Unknown parameter: booster\n",
      "[LightGBM] [Warning] Unknown parameter: eval_metric\n",
      "[LightGBM] [Warning] Unknown parameter: gamma\n",
      "[LightGBM] [Warning] num_threads is set with n_jobs=-1, nthread=6 will be ignored. Current value: num_threads=-1\n",
      "[20]\ttraining's auc: 0.891467\ttraining's binary_logloss: 0.0782767\tvalid_1's auc: 0.865487\tvalid_1's binary_logloss: 0.105435\n",
      "[40]\ttraining's auc: 0.905077\ttraining's binary_logloss: 0.0709057\tvalid_1's auc: 0.872462\tvalid_1's binary_logloss: 0.0996511\n",
      "[60]\ttraining's auc: 0.91297\ttraining's binary_logloss: 0.0671989\tvalid_1's auc: 0.876831\tvalid_1's binary_logloss: 0.0970317\n",
      "[80]\ttraining's auc: 0.918017\ttraining's binary_logloss: 0.0649879\tvalid_1's auc: 0.878539\tvalid_1's binary_logloss: 0.0961891\n",
      "[100]\ttraining's auc: 0.922365\ttraining's binary_logloss: 0.0629449\tvalid_1's auc: 0.879982\tvalid_1's binary_logloss: 0.095173\n",
      "[120]\ttraining's auc: 0.92593\ttraining's binary_logloss: 0.0614697\tvalid_1's auc: 0.881412\tvalid_1's binary_logloss: 0.0946571\n",
      "[140]\ttraining's auc: 0.928891\ttraining's binary_logloss: 0.0602584\tvalid_1's auc: 0.882232\tvalid_1's binary_logloss: 0.094204\n",
      "[160]\ttraining's auc: 0.931409\ttraining's binary_logloss: 0.0591343\tvalid_1's auc: 0.882384\tvalid_1's binary_logloss: 0.0942509\n",
      "[180]\ttraining's auc: 0.933828\ttraining's binary_logloss: 0.0579349\tvalid_1's auc: 0.88311\tvalid_1's binary_logloss: 0.0937703\n",
      "[200]\ttraining's auc: 0.936206\ttraining's binary_logloss: 0.0569197\tvalid_1's auc: 0.88377\tvalid_1's binary_logloss: 0.0935094\n",
      "[220]\ttraining's auc: 0.938346\ttraining's binary_logloss: 0.0560049\tvalid_1's auc: 0.884216\tvalid_1's binary_logloss: 0.0934503\n",
      "[240]\ttraining's auc: 0.939944\ttraining's binary_logloss: 0.0552348\tvalid_1's auc: 0.884515\tvalid_1's binary_logloss: 0.0933007\n",
      "[260]\ttraining's auc: 0.94187\ttraining's binary_logloss: 0.0543709\tvalid_1's auc: 0.884608\tvalid_1's binary_logloss: 0.0930663\n",
      "[280]\ttraining's auc: 0.943547\ttraining's binary_logloss: 0.0536126\tvalid_1's auc: 0.884749\tvalid_1's binary_logloss: 0.0929251\n",
      "[300]\ttraining's auc: 0.944788\ttraining's binary_logloss: 0.0530447\tvalid_1's auc: 0.88496\tvalid_1's binary_logloss: 0.0927867\n",
      "[320]\ttraining's auc: 0.945909\ttraining's binary_logloss: 0.0524745\tvalid_1's auc: 0.884744\tvalid_1's binary_logloss: 0.092923\n"
     ]
    },
    {
     "data": {
      "text/plain": [
       "LGBMClassifier(booster='gbtree', eval_metric='auc', gamma=4, max_depth=4,\n",
       "               n_estimators=10000, nthread=6, random_state=1, reg_lambda=50)"
      ]
     },
     "execution_count": 19,
     "metadata": {},
     "output_type": "execute_result"
    }
   ],
   "source": [
    "model = lgb.LGBMClassifier(**params)\n",
    "\n",
    "model.fit(\n",
    "    X=x_train,\n",
    "    y=y_train,\n",
    "    eval_set=[(x_train, y_train), (x_test, y_test)],\n",
    "    early_stopping_rounds=25,\n",
    "    categorical_feature=categorical,\n",
    "    # num_boost_round=10000,\n",
    "    eval_metric=\"auc\",\n",
    "    verbose=20\n",
    ")"
   ]
  },
  {
   "cell_type": "code",
   "execution_count": null,
   "metadata": {},
   "outputs": [],
   "source": []
  },
  {
   "cell_type": "code",
   "execution_count": 20,
   "metadata": {},
   "outputs": [],
   "source": [
    "# model = xgb.XGBRegressor(random_state=1)\n",
    "# model.fit(x_train, y_train)"
   ]
  },
  {
   "cell_type": "code",
   "execution_count": 21,
   "metadata": {},
   "outputs": [],
   "source": [
    "# недообучение - 5\n",
    "# переобучение +\n",
    "# все ок = 2"
   ]
  },
  {
   "cell_type": "code",
   "execution_count": 22,
   "metadata": {},
   "outputs": [],
   "source": [
    "def draw_roc_auc(model, dtrain, dvalid, y_train, y_valid):\n",
    "    #  тест   \n",
    "    try:\n",
    "        y_pred_train = model.predict_proba(dtrain)[:,1]      \n",
    "    except:\n",
    "        y_pred_train = model.predict(dtrain)\n",
    "    roc_auc_train=roc_auc_score(y_train, y_pred_train)\n",
    "    # print(roc_auc_train)\n",
    "    fpr_train, tpr_train, _ = metrics.roc_curve(y_train, y_pred_train)\n",
    "\n",
    "    try:\n",
    "        y_pred_val = model.predict_proba(dvalid)[:,1]      \n",
    "    except:\n",
    "        y_pred_val = model.predict(dvalid)\n",
    "    roc_auc_val=roc_auc_score(y_valid, y_pred_val)\n",
    "    # print(roc_auc_val)\n",
    "    fpr_val, tpr_val, _ = metrics.roc_curve(y_valid, y_pred_val)\n",
    "\n",
    "    plt.plot(fpr_train, tpr_train, 'b',color=\"blue\", label = 'train_auc = %0.2f' % roc_auc_train)\n",
    "    plt.plot(fpr_val, tpr_val, 'b', color=\"orange\", label = 'val_auc = %0.2f' % roc_auc_val)\n",
    "    \n",
    "    plt.legend(loc = 'lower right')\n",
    "    plt.plot([0, 1], [0, 1],'r--')\n",
    "    plt.xlim([0, 1])\n",
    "    plt.ylim([0, 1])\n",
    "    plt.ylabel('True Positive Rate')\n",
    "    plt.xlabel('False Positive Rate')\n",
    "    plt.show()"
   ]
  },
  {
   "cell_type": "code",
   "execution_count": 23,
   "metadata": {},
   "outputs": [
    {
     "data": {
      "image/png": "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",
      "text/plain": [
       "<Figure size 432x288 with 1 Axes>"
      ]
     },
     "metadata": {
      "needs_background": "light"
     },
     "output_type": "display_data"
    }
   ],
   "source": [
    "draw_roc_auc(model, x_train, x_test, y_train, y_test )"
   ]
  },
  {
   "cell_type": "code",
   "execution_count": 31,
   "metadata": {},
   "outputs": [],
   "source": [
    "y_pred_train = model.predict_proba(x_train)[:,1]"
   ]
  },
  {
   "cell_type": "code",
   "execution_count": 32,
   "metadata": {},
   "outputs": [
    {
     "data": {
      "text/plain": [
       "0.9448938148202939"
      ]
     },
     "execution_count": 32,
     "metadata": {},
     "output_type": "execute_result"
    }
   ],
   "source": [
    "roc_auc_score(y_train, y_pred_train)"
   ]
  },
  {
   "cell_type": "code",
   "execution_count": 33,
   "metadata": {},
   "outputs": [],
   "source": [
    "y_pred_train = model.predict(x_train)"
   ]
  },
  {
   "cell_type": "code",
   "execution_count": 34,
   "metadata": {},
   "outputs": [
    {
     "data": {
      "text/plain": [
       "0.7217544878734727"
      ]
     },
     "execution_count": 34,
     "metadata": {},
     "output_type": "execute_result"
    }
   ],
   "source": [
    "roc_auc_score(y_train, y_pred_train)"
   ]
  },
  {
   "cell_type": "code",
   "execution_count": 24,
   "metadata": {},
   "outputs": [
    {
     "name": "stdout",
     "output_type": "stream",
     "text": [
      "Train-score: 0.722, Test-score: 0.641\n"
     ]
    }
   ],
   "source": [
    "train_score =  roc_auc_score(y_train, model.predict(x_train))\n",
    "test_score = roc_auc_score(y_test, model.predict(x_test))\n",
    "\n",
    "print(f\"Train-score: {round(train_score, 3)}, Test-score: {round(test_score, 3)}\")"
   ]
  },
  {
   "cell_type": "code",
   "execution_count": 35,
   "metadata": {},
   "outputs": [],
   "source": [
    "lgb_dtrain_3 = lgb.Dataset(\n",
    "    data=x_train, label=y_train,categorical_feature=categorical\n",
    ")\n",
    "lgb_dvalid_3 = lgb.Dataset(\n",
    "    data=x_test, label=y_test,categorical_feature=categorical\n",
    ")"
   ]
  },
  {
   "cell_type": "code",
   "execution_count": 36,
   "metadata": {},
   "outputs": [],
   "source": [
    "params = {\n",
    "    \"booster\": \"gbtree\",\n",
    "    \"objective\": \"binary:logistic\",\n",
    "    \"eval_metric\": \"auc\",\n",
    "    \"learning_rate\": 0.1,\n",
    "    \"n_estimators\": 100,\n",
    "    \"reg_lambda\": 50,\n",
    "    \"max_depth\": 4,\n",
    "    \"gamma\": 4,\n",
    "    \"nthread\": 6,\n",
    "    \"seed\": 27,\n",
    "    # 'random_state':1    \n",
    "}"
   ]
  },
  {
   "cell_type": "code",
   "execution_count": 37,
   "metadata": {},
   "outputs": [],
   "source": [
    "params = {\n",
    "    \"boosting_type\": \"gbdt\",\n",
    "    \"objective\": \"binary\",\n",
    "    \"metric\": \"auc\",\n",
    "    \"learning_rate\": 0.1,\n",
    "    \"n_estimators\": 100,\n",
    "    # \"reg_lambda\": 50,\n",
    "    # \"max_depth\": 4,\n",
    "    \"n_jobs\": 6,\n",
    "    \"seed\": 27\n",
    "}"
   ]
  },
  {
   "cell_type": "code",
   "execution_count": 38,
   "metadata": {},
   "outputs": [
    {
     "name": "stdout",
     "output_type": "stream",
     "text": [
      "[LightGBM] [Info] Number of positive: 2689, number of negative: 105311\n",
      "[LightGBM] [Warning] Auto-choosing row-wise multi-threading, the overhead of testing was 0.095569 seconds.\n",
      "You can set `force_row_wise=true` to remove the overhead.\n",
      "And if memory is not enough, you can set `force_col_wise=true`.\n",
      "[LightGBM] [Info] Total Bins 31191\n",
      "[LightGBM] [Info] Number of data points in the train set: 108000, number of used features: 390\n",
      "[LightGBM] [Info] [binary:BoostFromScore]: pavg=0.024898 -> initscore=-3.667748\n",
      "[LightGBM] [Info] Start training from score -3.667748\n",
      "Training until validation scores don't improve for 50 rounds\n",
      "[25]\ttraining's auc: 0.934711\tvalid_1's auc: 0.877165\n",
      "[50]\ttraining's auc: 0.961895\tvalid_1's auc: 0.886831\n",
      "[75]\ttraining's auc: 0.975034\tvalid_1's auc: 0.883186\n",
      "[100]\ttraining's auc: 0.98397\tvalid_1's auc: 0.882191\n",
      "Did not meet early stopping. Best iteration is:\n",
      "[100]\ttraining's auc: 0.98397\tvalid_1's auc: 0.882191\n"
     ]
    }
   ],
   "source": [
    "lgb_model_3 = lgb.train(\n",
    "    params=params,\n",
    "    train_set=lgb_dtrain_3,\n",
    "    num_boost_round=10000,\n",
    "    valid_sets=[lgb_dtrain_3, lgb_dvalid_3],\n",
    "    # feature_name=categorical,\n",
    "    categorical_feature=categorical,\n",
    "    early_stopping_rounds=50,\n",
    "    verbose_eval=25\n",
    ")"
   ]
  },
  {
   "cell_type": "code",
   "execution_count": 39,
   "metadata": {},
   "outputs": [
    {
     "data": {
      "image/png": "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",
      "text/plain": [
       "<Figure size 432x288 with 1 Axes>"
      ]
     },
     "metadata": {
      "needs_background": "light"
     },
     "output_type": "display_data"
    }
   ],
   "source": [
    "draw_roc_auc(lgb_model_3, x_train, x_test, y_train, y_test )"
   ]
  },
  {
   "cell_type": "code",
   "execution_count": 40,
   "metadata": {},
   "outputs": [
    {
     "name": "stdout",
     "output_type": "stream",
     "text": [
      "Train-score: 0.722, Test-score: 0.641\n"
     ]
    }
   ],
   "source": [
    "train_score =  roc_auc_score(y_train, model.predict(x_train))\n",
    "test_score = roc_auc_score(y_test, model.predict(x_test))\n",
    "\n",
    "print(f\"Train-score: {round(train_score, 3)}, Test-score: {round(test_score, 3)}\")"
   ]
  },
  {
   "cell_type": "markdown",
   "metadata": {},
   "source": [
    "## Задание 2.\n",
    "\n",
    "Cделать Hold-Out валидацию с разбиением на 3 выборки, разбиение проводить по id-транзакции (TransactionID), размер каждой выборки подобрать самостоятельно. Повторить процедуру из п.1. для каждой выборки."
   ]
  },
  {
   "cell_type": "code",
   "execution_count": 41,
   "metadata": {},
   "outputs": [],
   "source": [
    "x_test, x_val = train_test_split(x_test, train_size=0.50, shuffle=False, random_state=1,)\n",
    "y_test, y_val = train_test_split(y_test, train_size=0.50, shuffle=False, random_state=1,)"
   ]
  },
  {
   "cell_type": "code",
   "execution_count": 46,
   "metadata": {},
   "outputs": [
    {
     "name": "stdout",
     "output_type": "stream",
     "text": [
      "x_train.shape = 108000 rows, 392 cols\n",
      "x_val.shape = 36000 rows, 392 cols\n",
      "x_test.shape = 36000 rows, 392 cols\n"
     ]
    }
   ],
   "source": [
    "print(\"x_train.shape = {} rows, {} cols\".format(*x_train.shape))\n",
    "print(\"x_val.shape = {} rows, {} cols\".format(*x_val.shape))\n",
    "print(\"x_test.shape = {} rows, {} cols\".format(*x_test.shape))"
   ]
  },
  {
   "cell_type": "code",
   "execution_count": 43,
   "metadata": {},
   "outputs": [
    {
     "name": "stdout",
     "output_type": "stream",
     "text": [
      "[20]\tvalid_0's auc: 0.861798\tvalid_1's auc: 0.861798\n",
      "[40]\tvalid_0's auc: 0.870674\tvalid_1's auc: 0.870674\n",
      "[60]\tvalid_0's auc: 0.873974\tvalid_1's auc: 0.873974\n",
      "[80]\tvalid_0's auc: 0.868605\tvalid_1's auc: 0.868605\n"
     ]
    },
    {
     "data": {
      "text/plain": [
       "LGBMClassifier(metric='auc', n_jobs=6, objective='binary', seed=27)"
      ]
     },
     "execution_count": 43,
     "metadata": {},
     "output_type": "execute_result"
    }
   ],
   "source": [
    "model = lgb.LGBMClassifier(**params)\n",
    "\n",
    "model.fit(\n",
    "    X=x_train,\n",
    "    y=y_train,\n",
    "    eval_set=[(x_val, y_val), (x_val, y_val)],\n",
    "    early_stopping_rounds=50,\n",
    "    categorical_feature=categorical,\n",
    "    # num_boost_round=10000,\n",
    "    eval_metric=\"auc\",\n",
    "    verbose=20\n",
    ")"
   ]
  },
  {
   "cell_type": "code",
   "execution_count": 44,
   "metadata": {},
   "outputs": [
    {
     "name": "stdout",
     "output_type": "stream",
     "text": [
      "Train-score: 0.756, Val-score: 0.635, Test-score: 0.641\n"
     ]
    }
   ],
   "source": [
    "train_score =  roc_auc_score(y_train, model.predict(x_train))\n",
    "val_score = roc_auc_score(y_val, model.predict(x_val))\n",
    "test_score = roc_auc_score(y_test, model.predict(x_test))\n",
    "\n",
    "print(f\"Train-score: {round(train_score, 3)}, Val-score: {round(val_score, 3)}, Test-score: {round(test_score, 3)}\")"
   ]
  },
  {
   "cell_type": "code",
   "execution_count": 48,
   "metadata": {},
   "outputs": [
    {
     "name": "stdout",
     "output_type": "stream",
     "text": [
      "Train-score: 0.966, Val-score: 0.875, Test-score: 0.902\n"
     ]
    }
   ],
   "source": [
    "train_score =  roc_auc_score(y_train, model.predict_proba(x_train)[:,1])\n",
    "val_score = roc_auc_score(y_val, model.predict_proba(x_val)[:,1])\n",
    "test_score = roc_auc_score(y_test, model.predict_proba(x_test)[:,1])\n",
    "\n",
    "print(f\"Train-score: {round(train_score, 3)}, Val-score: {round(val_score, 3)}, Test-score: {round(test_score, 3)}\")"
   ]
  },
  {
   "cell_type": "markdown",
   "metadata": {},
   "source": [
    "## Задание 3.\n",
    "\n",
<<<<<<< HEAD
    "Построить доверительный интервал на данных из п.2 на основе **бутстреп** выборок, оценить качество модели на ЛБ относительно полученного доверительного интервала. Сделать выводы."
=======
    "Построить доверительный интервал на данных из п.2 на основе **бутстреп** выборок, оценить качество модели на ЛБ относительно полученного доверительного интервала. Сделать выводы.\n"
>>>>>>> origin/main
   ]
  },
  {
   "cell_type": "code",
   "execution_count": 50,
   "metadata": {},
   "outputs": [],
   "source": [
    "def create_bootstrap_samples(data: np.array, n_samples: int = 1000) -> np.array:\n",
    "    \"\"\"\n",
    "    Создание бутстреп-выборок.\n",
    "\n",
    "    Parameters\n",
    "    ----------\n",
    "    data: np.array\n",
    "        Исходная выборка, которая будет использоваться для\n",
    "        создания бутстреп выборок.\n",
    "\n",
    "    n_samples: int, optional, default = 1000\n",
    "        Количество создаваемых бутстреп выборок.\n",
    "        Опциональный параметр, по умолчанию, равен 1000.\n",
    "\n",
    "    Returns\n",
    "    -------\n",
    "    bootstrap_idx: np.array\n",
    "        Матрица индексов, для создания бутстреп выборок.\n",
    "\n",
    "    \"\"\"\n",
    "    bootstrap_idx = np.random.randint(\n",
    "        low=0, high=len(data), size=(n_samples, len(data))\n",
    "    )\n",
    "    return bootstrap_idx\n",
    "\n",
    "\n",
    "def create_bootstrap_metrics(y_true: np.array,\n",
    "                             y_pred: np.array,\n",
    "                             metric: callable,\n",
    "                             n_samlpes: int = 1000) -> List[float]:\n",
    "    \"\"\"\n",
    "    Вычисление бутстреп оценок.\n",
    "\n",
    "    Parameters\n",
    "    ----------\n",
    "    y_true: np.array\n",
    "        Вектор целевой переменной.\n",
    "\n",
    "    y_pred: np.array\n",
    "        Вектор прогнозов.\n",
    "\n",
    "    metric: callable\n",
    "        Функция для вычисления метрики.\n",
    "        Функция должна принимать 2 аргумента: y_true, y_pred.\n",
    "\n",
    "    n_samples: int, optional, default = 1000\n",
    "        Количество создаваемых бутстреп выборок.\n",
    "        Опциональный параметр, по умолчанию, равен 1000.\n",
    "\n",
    "    Returns\n",
    "    -------\n",
    "    bootstrap_metrics: List[float]\n",
    "        Список со значениями метрики качества на каждой бустреп выборке.\n",
    "\n",
    "    \"\"\"\n",
    "    scores = []\n",
    "\n",
    "    if isinstance(y_true, pd.Series):\n",
    "        y_true = y_true.values\n",
    "\n",
    "    bootstrap_idx = create_bootstrap_samples(y_true)\n",
    "    for idx in bootstrap_idx:\n",
    "        y_true_bootstrap = y_true[idx]\n",
    "        y_pred_bootstrap = y_pred[idx]\n",
    "\n",
    "        score = metric(y_true_bootstrap, y_pred_bootstrap)\n",
    "        scores.append(score)\n",
    "\n",
    "    return scores\n",
    "\n",
    "\n",
    "def calculate_confidence_interval(scores: list, conf_interval: float = 0.95) -> Tuple[float]:\n",
    "    \"\"\"\n",
    "    Вычисление доверительного интервала.\n",
    "\n",
    "    Parameters\n",
    "    ----------\n",
    "    scores: List[float / int]\n",
    "        Список с оценками изучаемой величины.\n",
    "\n",
    "    conf_interval: float, optional, default = 0.95\n",
    "        Уровень доверия для построения интервала.\n",
    "        Опциональный параметр, по умолчанию, равен 0.95.\n",
    "\n",
    "    Returns\n",
    "    -------\n",
    "    conf_interval: Tuple[float]\n",
    "        Кортеж с границами доверительного интервала.\n",
    "\n",
    "    \"\"\"\n",
    "    left_bound = np.percentile(\n",
    "        scores, ((1 - conf_interval) / 2) * 100\n",
    "    )\n",
    "    right_bound = np.percentile(\n",
    "        scores, (conf_interval + ((1 - conf_interval) / 2)) * 100\n",
    "    )\n",
    "\n",
    "    return left_bound, right_bound"
   ]
  },
  {
   "cell_type": "code",
   "execution_count": 51,
   "metadata": {},
   "outputs": [
    {
     "data": {
      "text/plain": [
       "(0.6286071778953064, 0.6550466168452221)"
      ]
     },
     "execution_count": 51,
     "metadata": {},
     "output_type": "execute_result"
    }
   ],
   "source": [
    "np.random.seed(27)\n",
    "scores = create_bootstrap_metrics(y_test, model.predict(x_test), roc_auc_score)\n",
    "\n",
    "calculate_confidence_interval(scores)"
   ]
  },
  {
   "cell_type": "code",
   "execution_count": 52,
   "metadata": {},
   "outputs": [
    {
     "data": {
      "text/plain": [
       "Text(0.5, 0, 'sampel number')"
      ]
     },
     "execution_count": 52,
     "metadata": {},
     "output_type": "execute_result"
    },
    {
     "data": {
      "image/png": "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",
      "text/plain": [
       "<Figure size 1080x360 with 2 Axes>"
      ]
     },
     "metadata": {
      "needs_background": "light"
     },
     "output_type": "display_data"
    }
   ],
   "source": [
    "fig, axes = plt.subplots(1, 2, figsize=(15, 5))\n",
    "plt.suptitle(\"Bootstrap for evaluating validation stability\", size=15)\n",
    "axes[1].scatter(range(len(scores)), scores, alpha=0.25, color=\"blue\")\n",
    "axes[1].set_xlabel(\"sampel number\", size=15)\n",
    "axes[1].set_ylabel(\"ROC_AUC score\", size=15)\n",
    "\n",
    "sns.distplot(scores, ax=axes[0], color=\"green\", bins=20)\n",
    "axes[0].set_xlabel(\"sampel number\", size=15)"
   ]
  },
  {
   "cell_type": "markdown",
   "metadata": {},
   "source": [
    "Модель показывает достаточно очень небольшой разброс на разных bootstrep выборках.\n",
    "Наверное это хороший знак. зачения в распеделениы достаточно равномерно."
   ]
  },
  {
   "cell_type": "code",
   "execution_count": 53,
   "metadata": {},
   "outputs": [],
   "source": [
    "x_private = private_df.drop([\"TransactionID\", \"isFraud\"], axis=1)\n",
    "y_private = private_df[\"isFraud\"]"
   ]
  },
  {
   "cell_type": "code",
   "execution_count": 55,
   "metadata": {},
   "outputs": [],
   "source": [
    "x_private[categorical]=x_private[categorical].astype('category')"
   ]
  },
  {
   "cell_type": "code",
   "execution_count": 56,
   "metadata": {},
   "outputs": [
    {
     "data": {
      "text/plain": [
       "(0.5943973262832392, 0.6067763629144574)"
      ]
     },
     "execution_count": 56,
     "metadata": {},
     "output_type": "execute_result"
    }
   ],
   "source": [
    "np.random.seed(27)\n",
    "scores = create_bootstrap_metrics(y_private, model.predict(x_private), roc_auc_score)\n",
    "\n",
    "calculate_confidence_interval(scores)"
   ]
  },
  {
   "cell_type": "code",
   "execution_count": 57,
   "metadata": {},
   "outputs": [
    {
     "data": {
      "text/plain": [
       "Text(0.5, 0, 'sampel number')"
      ]
     },
     "execution_count": 57,
     "metadata": {},
     "output_type": "execute_result"
    },
    {
     "data": {
      "image/png": "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",
      "text/plain": [
       "<Figure size 1080x360 with 2 Axes>"
      ]
     },
     "metadata": {
      "needs_background": "light"
     },
     "output_type": "display_data"
    }
   ],
   "source": [
    "fig, axes = plt.subplots(1, 2, figsize=(15, 5))\n",
    "plt.suptitle(\"Bootstrap for evaluating validation stability\", size=15)\n",
    "axes[1].scatter(range(len(scores)), scores, alpha=0.25, color=\"blue\")\n",
    "axes[1].set_xlabel(\"sampel number\", size=15)\n",
    "axes[1].set_ylabel(\"ROC_AUC score\", size=15)\n",
    "\n",
    "sns.distplot(scores, ax=axes[0], color=\"green\", bins=20)\n",
    "axes[0].set_xlabel(\"sampel number\", size=15)"
   ]
  },
  {
   "cell_type": "code",
   "execution_count": null,
   "metadata": {},
   "outputs": [],
   "source": [
    "Видно, что распреление на зкшмуеу ЛБ немного смещено вниз. \n",
<<<<<<< HEAD
    "т.е. он показывает несколько меньший результат."
=======
    "т.е. он показывает несколько меньший результат.\n"
>>>>>>> origin/main
   ]
  },
  {
   "cell_type": "markdown",
   "metadata": {},
   "source": [
    "## Задание 4. \n",
    "\n",
<<<<<<< HEAD
    "Выполнить `Adversarial Validation`, подобрать объекты из обучающей выборки, которые сильно похожи на объекты из `assignment_2_test.csv`, и использовать их в качестве валидационного набора. Оценить качество модели на ЛБ, сделать выводы о полученных результатах."
=======
    "Выполнить `Adversarial Validation`, подобрать объекты из обучающей выборки, которые сильно похожи на объекты из `assignment_2_test.csv`, и использовать их в качестве валидационного набора. Оценить качество модели на ЛБ, сделать выводы о полученных результатах.\n"
>>>>>>> origin/main
   ]
  },
  {
   "cell_type": "code",
   "execution_count": null,
   "metadata": {},
   "outputs": [],
   "source": []
  },
  {
   "cell_type": "code",
   "execution_count": null,
   "metadata": {},
   "outputs": [],
   "source": []
  },
  {
   "cell_type": "code",
   "execution_count": null,
   "metadata": {},
   "outputs": [],
   "source": []
  },
  {
   "cell_type": "markdown",
   "metadata": {},
   "source": [
<<<<<<< HEAD
    "## Задание 5.\n",
    "\n",
    "Сделать KFold / StratifiedKFold валидацию (на ваше усмотрение), оценить получаемые качество и разброс по метрике качества. Сделать выводы об устойчивости кросс-валидации, сходимости оценки на кросс-валидации и отложенном наборе данных; Оценить качество на ЛБ, сделать выводы.\n"
=======
    "**Задание 5:** сделать KFold / StratifiedKFold валидацию (на ваше усмотрение), оценить получаемые качество и разброс по метрике качества. Сделать выводы об устойчивости кросс-валидации, сходимости оценки на кросс-валидации и отложенном наборе данных; Оценить качество на ЛБ, сделать выводы.\n"
>>>>>>> origin/main
   ]
  },
  {
   "cell_type": "code",
   "execution_count": null,
   "metadata": {},
   "outputs": [],
   "source": []
  },
  {
   "cell_type": "code",
   "execution_count": null,
   "metadata": {},
   "outputs": [],
   "source": []
  },
  {
   "cell_type": "code",
   "execution_count": null,
   "metadata": {},
   "outputs": [],
   "source": []
  },
  {
   "cell_type": "markdown",
   "metadata": {},
   "source": [
<<<<<<< HEAD
    "## Задание 6 (опциональное).\n",
    "\n",
    "Сделать Hold-Out валидацию по времени (`TransactionDT`), повторить процедуры из п.1 / п.2 (на ваш выбор). Построить доверительный интервал, сравнить качество на ЛБ выборке с полученным доверительным интервалом. Сделать выводы.\n"
=======
    "**Задание 6** (опциональное): сделать Hold-Out валидацию по времени (`TransactionDT`), повторить процедуры из п.1 / п.2 (на ваш выбор). Построить доверительный интервал, сравнить качество на ЛБ выборке с полученным доверительным интервалом. Сделать выводы.\n"
>>>>>>> origin/main
   ]
  },
  {
   "cell_type": "code",
   "execution_count": null,
   "metadata": {},
   "outputs": [],
   "source": []
  },
  {
   "cell_type": "code",
   "execution_count": null,
   "metadata": {},
   "outputs": [],
   "source": []
  },
  {
   "cell_type": "code",
   "execution_count": null,
   "metadata": {},
   "outputs": [],
   "source": []
  },
  {
   "cell_type": "code",
   "execution_count": null,
   "metadata": {},
   "outputs": [],
   "source": []
  },
  {
   "cell_type": "markdown",
   "metadata": {},
   "source": [
<<<<<<< HEAD
    "## Задание 7 (совсем опциональное).\n",
    "\n",
    "В данном наборе данных у нас есть ID-транзакции (`TransactionID`) и время транзакции (`TransactionDT`), но отсутствует ID-клиента, который совершал транзакции. Кажется, что в этой задаче валидация по клиенту работала бы хорошо. Предложить критерий, по которому можно выделить клиентов и сделать п.5, используя созданное определение клиента, используя валидацию по клиенту (`GroupKFold`)."
=======
    "**Задание 7** (совсем опциональное): в данном наборе данных у нас есть ID-транзакции (`TransactionID`) и время транзакции (`TransactionDT`), но отсутствует ID-клиента, который совершал транзакции. Кажется, что в этой задаче валидация по клиенту работала бы хорошо. Предложить критерий, по которому можно выделить клиентов и сделать п.5, используя созданное определение клиента, используя валидацию по клиенту (`GroupKFold`)."
>>>>>>> origin/main
   ]
  },
  {
   "cell_type": "code",
   "execution_count": null,
   "metadata": {},
   "outputs": [],
   "source": []
  },
  {
   "cell_type": "code",
   "execution_count": null,
   "metadata": {},
   "outputs": [],
   "source": []
  },
  {
   "cell_type": "code",
   "execution_count": null,
   "metadata": {},
   "outputs": [],
   "source": []
  }
 ],
 "metadata": {
  "interpreter": {
   "hash": "da538714de4b70115e547d177ba7403fcac2bb9e900966344e6205f669f7f42f"
  },
  "kernelspec": {
   "display_name": "Python 3.8.11 64-bit ('nlp_env': conda)",
   "name": "python3"
  },
  "language_info": {
   "codemirror_mode": {
    "name": "ipython",
    "version": 3
   },
   "file_extension": ".py",
   "mimetype": "text/x-python",
   "name": "python",
   "nbconvert_exporter": "python",
   "pygments_lexer": "ipython3",
   "version": "3.8.11"
  },
  "orig_nbformat": 4
 },
 "nbformat": 4,
 "nbformat_minor": 2
}
