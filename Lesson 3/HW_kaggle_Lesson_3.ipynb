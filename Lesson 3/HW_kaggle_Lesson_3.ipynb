{
 "cells": [
  {
   "cell_type": "markdown",
   "metadata": {},
   "source": [
    "# Урок 3. Построение надежных схем валидации решения, оптимизация целевых метрик"
   ]
  },
  {
   "cell_type": "markdown",
   "metadata": {},
   "source": [
    "**Основное задание:**\n",
    "Даны выборки для обучения и для тестирования. Задание заключается в том, чтобы попробовать разные способы валидации, проанализировать плюсы / минусы каждой и сделать выводы о том, какой способ валидации наиболее устойчивый в данной задаче. Метрика качества для оценки прогнозов \\- **ROC-AUC**, название целевой переменной \\- **IsFraud**. Рекомендуется использовать модели градиетного бустинга, реализация любая / гипепараметры любые. **Внимание!** выборка `assignment_2_test.csv` \\- наш аналог лидерборда. Будем моделировать ситуацию отправки решения на лидерборд и сравнить значение метрики на лидерборде и на локальной валидации. **Для других целей использовать выборку запрещено!**.\n",
    "​\n",
    "**Терминалогия, используемая в задании:**\n",
    "\\* обучающая выборка \\- выборка, которая передается в метод `fit` / `train`;\n",
    "\\* валидационная выборка \\- выборка, которая получается при Hold-Out на 2 выборки (`train`, `valid`);\n",
    "\\* тестовая выборка \\- выборка, которая получается при Hold-Out на 3 выборки (`train`, `valid`, `test`);\n",
    "\\* ЛБ \\- лидерборд, выборка `assignment_2_test.csv`.\n",
    "​\n",
    "**Задание 1:** сделать Hold-Out валидацию с разбиением, размер которого будет адеквтаным, по вашему мнению; разбиение проводить по id-транзакции (`TransactionID`), обучать модель градиетного бустинга любой реализации с подбором числа деревьев по early_stopping критерию до достижения сходимости. Оценить качество модели на валидационной выборке, оценить расхождение по сравнению с качеством на обучающей выборке и валидационной выборке. Оценить качество на ЛБ, сравнить с качеством на обучении и валидации. Сделать выводы.\n",
    "​\n",
    "**Задание 2:** сделать Hold-Out валидацию с разбиением на 3 выборки, разбиение проводить по id-транзакции (TransactionID), размер каждой выборки подобрать самостоятельно. Повторить процедуру из п.1. для каждой выборки.\n",
    "​\n",
    "**Задание 3:** построить доверительный интервал на данных из п.2 на основе **бутстреп** выборок, оценить качество модели на ЛБ относительно полученного доверительного интервала. Сделать выводы.\n",
    "​\n",
    "**Задание 4:** выполнить `Adversarial Validation`, подобрать объекты из обучающей выборки, которые сильно похожи на объекты из `assignment_2_test.csv`, и использовать их в качестве валидационного набора. Оценить качество модели на ЛБ, сделать выводы о полученных результатах.\n",
    "​\n",
    "**Задание 5:** сделать KFold / StratifiedKFold валидацию (на ваше усмотрение), оценить получаемые качество и разброс по метрике качества. Сделать выводы об устойчивости кросс-валидации, сходимости оценки на кросс-валидации и отложенном наборе данных; Оценить качество на ЛБ, сделать выводы.\n",
    "​\n",
    "**Задание 6** (опциональное): сделать Hold-Out валидацию по времени (`TransactionDT`), повторить процедуры из п.1 / п.2 (на ваш выбор). Построить доверительный интервал, сравнить качество на ЛБ выборке с полученным доверительным интервалом. Сделать выводы.\n",
    "​\n",
    "**Задание 7** (совсем опциональное): в данном наборе данных у нас есть ID-транзакции (`TransactionID`) и время транзакции (`TransactionDT`), но отсутствует ID-клиента, который совершал транзакции. Кажется, что в этой задаче валидация по клиенту работала бы хорошо. Предложить критерий, по которому можно выделить клиентов и сделать п.5, используя созданное определение клиента, используя валидацию по клиенту (`GroupKFold`)."
   ]
  },
  {
   "cell_type": "code",
   "execution_count": 176,
   "metadata": {},
   "outputs": [],
   "source": [
    "import numpy as np\n",
    "import pandas as pd\n",
    "import xgboost as xgb\n",
    "import catboost as cb\n",
    "import lightgbm as lgb\n",
    "import matplotlib.pyplot as plt\n",
    "import missingno as msno\n",
    "from sklearn import metrics\n",
    "\n",
    "from sklearn.model_selection import train_test_split\n",
    "from sklearn.metrics import roc_auc_score, f1_score\n",
    "\n",
    "import seaborn as sns\n",
    "import scipy.stats as st\n",
    "\n",
    "import warnings\n",
    "warnings.simplefilter(\"ignore\")\n",
    "\n",
    "import warnings\n",
    "from tqdm import tqdm\n",
    "from typing import List, Tuple\n",
    "\n",
    "from scipy.stats import ttest_rel\n",
    "\n",
    "# from sklearn.metrics import r2_score\n",
    "from sklearn.ensemble import RandomForestRegressor\n",
    "from sklearn.model_selection import KFold, StratifiedKFold, train_test_split, cross_val_score\n",
    "\n",
    "warnings.simplefilter(\"ignore\")\n",
    "%matplotlib inline"
   ]
  },
  {
   "cell_type": "markdown",
   "metadata": {},
   "source": [
    "https://www.kaggle.com/jtrotman/ieee-fraud-adversarial-lgb-split-points\n",
    "https://dyakonov.org/2019/03/22/%D0%BF%D0%BE%D0%B4%D0%BC%D0%B5%D0%BD%D0%B0-%D0%B7%D0%B0%D0%B4%D0%B0%D1%87%D0%B8-%D0%B2-ml/\n",
    "https://towardsdatascience.com/adversarial-validation-ca69303543cd\n",
    "https://github.com/zjost/blog_code/blob/master/adversarial_validation/adversarial-validation-example.ipynb"
   ]
  },
  {
   "cell_type": "code",
   "execution_count": 109,
   "metadata": {},
   "outputs": [],
   "source": [
    "public_df = pd.read_csv('../assignment2_data/assignment_2_train.csv')\n",
    "private_df = pd.read_csv('../assignment2_data/assignment_2_test.csv')"
   ]
  },
  {
   "cell_type": "code",
   "execution_count": 110,
   "metadata": {},
   "outputs": [
    {
     "name": "stdout",
     "output_type": "stream",
     "text": [
      "public_df.shape = 180000 rows, 394 cols\n",
      "private_df.shape = 100001 rows, 394 cols\n"
     ]
    }
   ],
   "source": [
    "print(\"public_df.shape = {} rows, {} cols\".format(*public_df.shape))\n",
    "print(\"private_df.shape = {} rows, {} cols\".format(*private_df.shape))"
   ]
  },
  {
   "cell_type": "code",
   "execution_count": 111,
   "metadata": {},
   "outputs": [
    {
     "data": {
      "text/html": [
       "<div>\n",
       "<style scoped>\n",
       "    .dataframe tbody tr th:only-of-type {\n",
       "        vertical-align: middle;\n",
       "    }\n",
       "\n",
       "    .dataframe tbody tr th {\n",
       "        vertical-align: top;\n",
       "    }\n",
       "\n",
       "    .dataframe thead th {\n",
       "        text-align: right;\n",
       "    }\n",
       "</style>\n",
       "<table border=\"1\" class=\"dataframe\">\n",
       "  <thead>\n",
       "    <tr style=\"text-align: right;\">\n",
       "      <th></th>\n",
       "      <th>TransactionID</th>\n",
       "      <th>isFraud</th>\n",
       "      <th>TransactionDT</th>\n",
       "      <th>TransactionAmt</th>\n",
       "      <th>ProductCD</th>\n",
       "      <th>card1</th>\n",
       "      <th>card2</th>\n",
       "      <th>card3</th>\n",
       "      <th>card4</th>\n",
       "      <th>card5</th>\n",
       "      <th>...</th>\n",
       "      <th>V330</th>\n",
       "      <th>V331</th>\n",
       "      <th>V332</th>\n",
       "      <th>V333</th>\n",
       "      <th>V334</th>\n",
       "      <th>V335</th>\n",
       "      <th>V336</th>\n",
       "      <th>V337</th>\n",
       "      <th>V338</th>\n",
       "      <th>V339</th>\n",
       "    </tr>\n",
       "  </thead>\n",
       "  <tbody>\n",
       "    <tr>\n",
       "      <th>0</th>\n",
       "      <td>2987000</td>\n",
       "      <td>0</td>\n",
       "      <td>86400</td>\n",
       "      <td>68.5</td>\n",
       "      <td>W</td>\n",
       "      <td>13926</td>\n",
       "      <td>NaN</td>\n",
       "      <td>150.0</td>\n",
       "      <td>discover</td>\n",
       "      <td>142.0</td>\n",
       "      <td>...</td>\n",
       "      <td>NaN</td>\n",
       "      <td>NaN</td>\n",
       "      <td>NaN</td>\n",
       "      <td>NaN</td>\n",
       "      <td>NaN</td>\n",
       "      <td>NaN</td>\n",
       "      <td>NaN</td>\n",
       "      <td>NaN</td>\n",
       "      <td>NaN</td>\n",
       "      <td>NaN</td>\n",
       "    </tr>\n",
       "    <tr>\n",
       "      <th>1</th>\n",
       "      <td>2987001</td>\n",
       "      <td>0</td>\n",
       "      <td>86401</td>\n",
       "      <td>29.0</td>\n",
       "      <td>W</td>\n",
       "      <td>2755</td>\n",
       "      <td>404.0</td>\n",
       "      <td>150.0</td>\n",
       "      <td>mastercard</td>\n",
       "      <td>102.0</td>\n",
       "      <td>...</td>\n",
       "      <td>NaN</td>\n",
       "      <td>NaN</td>\n",
       "      <td>NaN</td>\n",
       "      <td>NaN</td>\n",
       "      <td>NaN</td>\n",
       "      <td>NaN</td>\n",
       "      <td>NaN</td>\n",
       "      <td>NaN</td>\n",
       "      <td>NaN</td>\n",
       "      <td>NaN</td>\n",
       "    </tr>\n",
       "    <tr>\n",
       "      <th>2</th>\n",
       "      <td>2987002</td>\n",
       "      <td>0</td>\n",
       "      <td>86469</td>\n",
       "      <td>59.0</td>\n",
       "      <td>W</td>\n",
       "      <td>4663</td>\n",
       "      <td>490.0</td>\n",
       "      <td>150.0</td>\n",
       "      <td>visa</td>\n",
       "      <td>166.0</td>\n",
       "      <td>...</td>\n",
       "      <td>NaN</td>\n",
       "      <td>NaN</td>\n",
       "      <td>NaN</td>\n",
       "      <td>NaN</td>\n",
       "      <td>NaN</td>\n",
       "      <td>NaN</td>\n",
       "      <td>NaN</td>\n",
       "      <td>NaN</td>\n",
       "      <td>NaN</td>\n",
       "      <td>NaN</td>\n",
       "    </tr>\n",
       "  </tbody>\n",
       "</table>\n",
       "<p>3 rows × 394 columns</p>\n",
       "</div>"
      ],
      "text/plain": [
       "   TransactionID  isFraud  TransactionDT  TransactionAmt ProductCD  card1  \\\n",
       "0        2987000        0          86400            68.5         W  13926   \n",
       "1        2987001        0          86401            29.0         W   2755   \n",
       "2        2987002        0          86469            59.0         W   4663   \n",
       "\n",
       "   card2  card3       card4  card5  ... V330  V331  V332  V333  V334 V335  \\\n",
       "0    NaN  150.0    discover  142.0  ...  NaN   NaN   NaN   NaN   NaN  NaN   \n",
       "1  404.0  150.0  mastercard  102.0  ...  NaN   NaN   NaN   NaN   NaN  NaN   \n",
       "2  490.0  150.0        visa  166.0  ...  NaN   NaN   NaN   NaN   NaN  NaN   \n",
       "\n",
       "  V336  V337  V338  V339  \n",
       "0  NaN   NaN   NaN   NaN  \n",
       "1  NaN   NaN   NaN   NaN  \n",
       "2  NaN   NaN   NaN   NaN  \n",
       "\n",
       "[3 rows x 394 columns]"
      ]
     },
     "execution_count": 111,
     "metadata": {},
     "output_type": "execute_result"
    }
   ],
   "source": [
    "public_df.head(3)"
   ]
  },
  {
   "cell_type": "code",
   "execution_count": 112,
   "metadata": {},
   "outputs": [
    {
     "data": {
      "text/plain": [
       "180000"
      ]
     },
     "execution_count": 112,
     "metadata": {},
     "output_type": "execute_result"
    }
   ],
   "source": [
    "len(public_df['TransactionID'].value_counts())"
   ]
  },
  {
   "cell_type": "code",
   "execution_count": 113,
   "metadata": {},
   "outputs": [
    {
     "data": {
      "text/html": [
       "<div>\n",
       "<style scoped>\n",
       "    .dataframe tbody tr th:only-of-type {\n",
       "        vertical-align: middle;\n",
       "    }\n",
       "\n",
       "    .dataframe tbody tr th {\n",
       "        vertical-align: top;\n",
       "    }\n",
       "\n",
       "    .dataframe thead th {\n",
       "        text-align: right;\n",
       "    }\n",
       "</style>\n",
       "<table border=\"1\" class=\"dataframe\">\n",
       "  <thead>\n",
       "    <tr style=\"text-align: right;\">\n",
       "      <th></th>\n",
       "      <th>TransactionID</th>\n",
       "      <th>isFraud</th>\n",
       "      <th>TransactionDT</th>\n",
       "      <th>TransactionAmt</th>\n",
       "      <th>addr1</th>\n",
       "      <th>addr2</th>\n",
       "    </tr>\n",
       "  </thead>\n",
       "  <tbody>\n",
       "    <tr>\n",
       "      <th>0</th>\n",
       "      <td>2987000</td>\n",
       "      <td>0</td>\n",
       "      <td>86400</td>\n",
       "      <td>68.50</td>\n",
       "      <td>315.0</td>\n",
       "      <td>87.0</td>\n",
       "    </tr>\n",
       "    <tr>\n",
       "      <th>1</th>\n",
       "      <td>2987001</td>\n",
       "      <td>0</td>\n",
       "      <td>86401</td>\n",
       "      <td>29.00</td>\n",
       "      <td>325.0</td>\n",
       "      <td>87.0</td>\n",
       "    </tr>\n",
       "    <tr>\n",
       "      <th>2</th>\n",
       "      <td>2987002</td>\n",
       "      <td>0</td>\n",
       "      <td>86469</td>\n",
       "      <td>59.00</td>\n",
       "      <td>330.0</td>\n",
       "      <td>87.0</td>\n",
       "    </tr>\n",
       "    <tr>\n",
       "      <th>3</th>\n",
       "      <td>2987003</td>\n",
       "      <td>0</td>\n",
       "      <td>86499</td>\n",
       "      <td>50.00</td>\n",
       "      <td>476.0</td>\n",
       "      <td>87.0</td>\n",
       "    </tr>\n",
       "    <tr>\n",
       "      <th>4</th>\n",
       "      <td>2987004</td>\n",
       "      <td>0</td>\n",
       "      <td>86506</td>\n",
       "      <td>50.00</td>\n",
       "      <td>420.0</td>\n",
       "      <td>87.0</td>\n",
       "    </tr>\n",
       "    <tr>\n",
       "      <th>...</th>\n",
       "      <td>...</td>\n",
       "      <td>...</td>\n",
       "      <td>...</td>\n",
       "      <td>...</td>\n",
       "      <td>...</td>\n",
       "      <td>...</td>\n",
       "    </tr>\n",
       "    <tr>\n",
       "      <th>179995</th>\n",
       "      <td>3166995</td>\n",
       "      <td>0</td>\n",
       "      <td>3958217</td>\n",
       "      <td>39.00</td>\n",
       "      <td>272.0</td>\n",
       "      <td>87.0</td>\n",
       "    </tr>\n",
       "    <tr>\n",
       "      <th>179996</th>\n",
       "      <td>3166996</td>\n",
       "      <td>0</td>\n",
       "      <td>3958237</td>\n",
       "      <td>59.95</td>\n",
       "      <td>315.0</td>\n",
       "      <td>87.0</td>\n",
       "    </tr>\n",
       "    <tr>\n",
       "      <th>179997</th>\n",
       "      <td>3166997</td>\n",
       "      <td>0</td>\n",
       "      <td>3958241</td>\n",
       "      <td>34.00</td>\n",
       "      <td>330.0</td>\n",
       "      <td>87.0</td>\n",
       "    </tr>\n",
       "    <tr>\n",
       "      <th>179998</th>\n",
       "      <td>3166998</td>\n",
       "      <td>0</td>\n",
       "      <td>3958260</td>\n",
       "      <td>59.00</td>\n",
       "      <td>272.0</td>\n",
       "      <td>87.0</td>\n",
       "    </tr>\n",
       "    <tr>\n",
       "      <th>179999</th>\n",
       "      <td>3166999</td>\n",
       "      <td>0</td>\n",
       "      <td>3958317</td>\n",
       "      <td>226.00</td>\n",
       "      <td>123.0</td>\n",
       "      <td>87.0</td>\n",
       "    </tr>\n",
       "  </tbody>\n",
       "</table>\n",
       "<p>180000 rows × 6 columns</p>\n",
       "</div>"
      ],
      "text/plain": [
       "        TransactionID  isFraud  TransactionDT  TransactionAmt  addr1  addr2\n",
       "0             2987000        0          86400           68.50  315.0   87.0\n",
       "1             2987001        0          86401           29.00  325.0   87.0\n",
       "2             2987002        0          86469           59.00  330.0   87.0\n",
       "3             2987003        0          86499           50.00  476.0   87.0\n",
       "4             2987004        0          86506           50.00  420.0   87.0\n",
       "...               ...      ...            ...             ...    ...    ...\n",
       "179995        3166995        0        3958217           39.00  272.0   87.0\n",
       "179996        3166996        0        3958237           59.95  315.0   87.0\n",
       "179997        3166997        0        3958241           34.00  330.0   87.0\n",
       "179998        3166998        0        3958260           59.00  272.0   87.0\n",
       "179999        3166999        0        3958317          226.00  123.0   87.0\n",
       "\n",
       "[180000 rows x 6 columns]"
      ]
     },
     "execution_count": 113,
     "metadata": {},
     "output_type": "execute_result"
    }
   ],
   "source": [
    "public_df[['TransactionID','isFraud','TransactionDT','TransactionAmt','addr1','addr2']]"
   ]
  },
  {
   "cell_type": "markdown",
   "metadata": {},
   "source": [
    "## Задание 1.\n",
    "\n",
    "Cделать Hold-Out валидацию с разбиением, размер которого будет\n",
    " адеквтаным, по вашему мнению; разбиение проводить по id-транзакции (TransactionID),\n",
    " обучать модель градиетного бустинга любой реализации с подбором числа деревьев\n",
    " по `early_stopping` критерию до достижения сходимости. Оценить качество модели на \n",
    " валидационной выборке, оценить расхождение по сравнению с качеством на обучающей выборке\n",
    " и валидационной выборке. Оценить качество на ЛБ, сравнить с качеством на обучении и валидации.\n",
    " Сделать выводы."
   ]
  },
  {
   "cell_type": "code",
   "execution_count": 114,
   "metadata": {},
   "outputs": [],
   "source": [
    "# Разделим выборки на тренировчную, тестовую и валидационную.\n",
    "\n",
    "x_train, x_test = train_test_split(public_df.drop([\"TransactionID\", \"isFraud\"], axis=1), train_size=0.60, shuffle=False, random_state=1,)\n",
    "y_train, y_test = train_test_split(public_df[\"isFraud\"], train_size=0.60, shuffle=False, random_state=1,) # В данных имеется временная зависимость, поэтому пока перемешивать ничего не будем."
   ]
  },
  {
   "cell_type": "code",
   "execution_count": 115,
   "metadata": {},
   "outputs": [],
   "source": [
    "x_lb = private_df.drop([\"TransactionID\", \"isFraud\"], axis=1)\n",
    "y_lb = private_df[\"isFraud\"]"
   ]
  },
  {
   "cell_type": "code",
   "execution_count": 116,
   "metadata": {},
   "outputs": [
    {
     "name": "stdout",
     "output_type": "stream",
     "text": [
      "x_train.shape = 108000 rows, 392 cols\n",
      "x_test.shape = 72000 rows, 392 cols\n"
     ]
    }
   ],
   "source": [
    "print(\"x_train.shape = {} rows, {} cols\".format(*x_train.shape))\n",
    "print(\"x_test.shape = {} rows, {} cols\".format(*x_test.shape))"
   ]
  },
  {
   "cell_type": "code",
   "execution_count": 117,
   "metadata": {},
   "outputs": [],
   "source": [
    "# Получим список катероиальных и числовых признаков.\n",
    "\n",
    "categorical = []\n",
    "numerical = []\n",
    "for col, value in x_train.iteritems():\n",
    "    if value.dtype == 'object':\n",
    "        categorical.append(col)\n",
    "    else:\n",
    "        numerical.append(col)"
   ]
  },
  {
   "cell_type": "code",
   "execution_count": 118,
   "metadata": {},
   "outputs": [
    {
     "data": {
      "text/html": [
       "<div>\n",
       "<style scoped>\n",
       "    .dataframe tbody tr th:only-of-type {\n",
       "        vertical-align: middle;\n",
       "    }\n",
       "\n",
       "    .dataframe tbody tr th {\n",
       "        vertical-align: top;\n",
       "    }\n",
       "\n",
       "    .dataframe thead th {\n",
       "        text-align: right;\n",
       "    }\n",
       "</style>\n",
       "<table border=\"1\" class=\"dataframe\">\n",
       "  <thead>\n",
       "    <tr style=\"text-align: right;\">\n",
       "      <th></th>\n",
       "      <th>ProductCD</th>\n",
       "      <th>card4</th>\n",
       "      <th>card6</th>\n",
       "      <th>P_emaildomain</th>\n",
       "      <th>R_emaildomain</th>\n",
       "      <th>M1</th>\n",
       "      <th>M2</th>\n",
       "      <th>M3</th>\n",
       "      <th>M4</th>\n",
       "      <th>M5</th>\n",
       "      <th>M6</th>\n",
       "      <th>M7</th>\n",
       "      <th>M8</th>\n",
       "      <th>M9</th>\n",
       "    </tr>\n",
       "  </thead>\n",
       "  <tbody>\n",
       "    <tr>\n",
       "      <th>0</th>\n",
       "      <td>W</td>\n",
       "      <td>discover</td>\n",
       "      <td>credit</td>\n",
       "      <td>NaN</td>\n",
       "      <td>NaN</td>\n",
       "      <td>T</td>\n",
       "      <td>T</td>\n",
       "      <td>T</td>\n",
       "      <td>M2</td>\n",
       "      <td>F</td>\n",
       "      <td>T</td>\n",
       "      <td>NaN</td>\n",
       "      <td>NaN</td>\n",
       "      <td>NaN</td>\n",
       "    </tr>\n",
       "    <tr>\n",
       "      <th>1</th>\n",
       "      <td>W</td>\n",
       "      <td>mastercard</td>\n",
       "      <td>credit</td>\n",
       "      <td>gmail.com</td>\n",
       "      <td>NaN</td>\n",
       "      <td>NaN</td>\n",
       "      <td>NaN</td>\n",
       "      <td>NaN</td>\n",
       "      <td>M0</td>\n",
       "      <td>T</td>\n",
       "      <td>T</td>\n",
       "      <td>NaN</td>\n",
       "      <td>NaN</td>\n",
       "      <td>NaN</td>\n",
       "    </tr>\n",
       "    <tr>\n",
       "      <th>2</th>\n",
       "      <td>W</td>\n",
       "      <td>visa</td>\n",
       "      <td>debit</td>\n",
       "      <td>outlook.com</td>\n",
       "      <td>NaN</td>\n",
       "      <td>T</td>\n",
       "      <td>T</td>\n",
       "      <td>T</td>\n",
       "      <td>M0</td>\n",
       "      <td>F</td>\n",
       "      <td>F</td>\n",
       "      <td>F</td>\n",
       "      <td>F</td>\n",
       "      <td>F</td>\n",
       "    </tr>\n",
       "    <tr>\n",
       "      <th>3</th>\n",
       "      <td>W</td>\n",
       "      <td>mastercard</td>\n",
       "      <td>debit</td>\n",
       "      <td>yahoo.com</td>\n",
       "      <td>NaN</td>\n",
       "      <td>NaN</td>\n",
       "      <td>NaN</td>\n",
       "      <td>NaN</td>\n",
       "      <td>M0</td>\n",
       "      <td>T</td>\n",
       "      <td>F</td>\n",
       "      <td>NaN</td>\n",
       "      <td>NaN</td>\n",
       "      <td>NaN</td>\n",
       "    </tr>\n",
       "    <tr>\n",
       "      <th>4</th>\n",
       "      <td>H</td>\n",
       "      <td>mastercard</td>\n",
       "      <td>credit</td>\n",
       "      <td>gmail.com</td>\n",
       "      <td>NaN</td>\n",
       "      <td>NaN</td>\n",
       "      <td>NaN</td>\n",
       "      <td>NaN</td>\n",
       "      <td>NaN</td>\n",
       "      <td>NaN</td>\n",
       "      <td>NaN</td>\n",
       "      <td>NaN</td>\n",
       "      <td>NaN</td>\n",
       "      <td>NaN</td>\n",
       "    </tr>\n",
       "  </tbody>\n",
       "</table>\n",
       "</div>"
      ],
      "text/plain": [
       "  ProductCD       card4   card6 P_emaildomain R_emaildomain   M1   M2   M3  \\\n",
       "0         W    discover  credit           NaN           NaN    T    T    T   \n",
       "1         W  mastercard  credit     gmail.com           NaN  NaN  NaN  NaN   \n",
       "2         W        visa   debit   outlook.com           NaN    T    T    T   \n",
       "3         W  mastercard   debit     yahoo.com           NaN  NaN  NaN  NaN   \n",
       "4         H  mastercard  credit     gmail.com           NaN  NaN  NaN  NaN   \n",
       "\n",
       "    M4   M5   M6   M7   M8   M9  \n",
       "0   M2    F    T  NaN  NaN  NaN  \n",
       "1   M0    T    T  NaN  NaN  NaN  \n",
       "2   M0    F    F    F    F    F  \n",
       "3   M0    T    F  NaN  NaN  NaN  \n",
       "4  NaN  NaN  NaN  NaN  NaN  NaN  "
      ]
     },
     "execution_count": 118,
     "metadata": {},
     "output_type": "execute_result"
    }
   ],
   "source": [
    "x_train[categorical].head(5)"
   ]
  },
  {
   "cell_type": "code",
   "execution_count": 119,
   "metadata": {},
   "outputs": [],
   "source": [
    "# Выделим числовые и категриальные переменные. \n",
    "\n",
    "x_train[categorical]=x_train[categorical].astype('category')\n",
    "x_test[categorical]=x_test[categorical].astype('category')\n",
    "x_lb[categorical]=x_lb[categorical].astype('category')"
   ]
  },
  {
   "cell_type": "code",
   "execution_count": 120,
   "metadata": {},
   "outputs": [],
   "source": [
    "params = {\n",
    "    \"boosting_type\": \"gbdt\",\n",
    "    \"objective\": \"binary\",\n",
    "    # \"objective\": \"binary:logistic\",\n",
    "    \"metric\": \"auc\",\n",
    "    \"learning_rate\": 0.1,\n",
    "    \"n_estimators\": 10000,\n",
    "    \"reg_lambda\": 50,\n",
    "    \"max_depth\": 4,\n",
    "    # \"gamma\": 4,\n",
    "    # \"nthread\": 6,\n",
    "    # \"seed\": 27,\n",
    "    'random_state':1    \n",
    "}"
   ]
  },
  {
   "cell_type": "code",
   "execution_count": 121,
   "metadata": {},
   "outputs": [
    {
     "name": "stdout",
     "output_type": "stream",
     "text": [
      "[20]\ttraining's auc: 0.891467\tvalid_1's auc: 0.865487\n",
      "[40]\ttraining's auc: 0.905077\tvalid_1's auc: 0.872462\n",
      "[60]\ttraining's auc: 0.91297\tvalid_1's auc: 0.876831\n",
      "[80]\ttraining's auc: 0.918017\tvalid_1's auc: 0.878539\n",
      "[100]\ttraining's auc: 0.922365\tvalid_1's auc: 0.879982\n",
      "[120]\ttraining's auc: 0.92593\tvalid_1's auc: 0.881412\n",
      "[140]\ttraining's auc: 0.928891\tvalid_1's auc: 0.882232\n",
      "[160]\ttraining's auc: 0.931409\tvalid_1's auc: 0.882384\n",
      "[180]\ttraining's auc: 0.933828\tvalid_1's auc: 0.88311\n",
      "[200]\ttraining's auc: 0.936206\tvalid_1's auc: 0.88377\n",
      "[220]\ttraining's auc: 0.938346\tvalid_1's auc: 0.884216\n",
      "[240]\ttraining's auc: 0.939944\tvalid_1's auc: 0.884515\n",
      "[260]\ttraining's auc: 0.94187\tvalid_1's auc: 0.884608\n",
      "[280]\ttraining's auc: 0.943547\tvalid_1's auc: 0.884749\n",
      "[300]\ttraining's auc: 0.944788\tvalid_1's auc: 0.88496\n",
      "[320]\ttraining's auc: 0.945909\tvalid_1's auc: 0.884744\n"
     ]
    },
    {
     "data": {
      "text/plain": [
       "LGBMClassifier(max_depth=4, metric='auc', n_estimators=10000,\n",
       "               objective='binary', random_state=1, reg_lambda=50)"
      ]
     },
     "execution_count": 121,
     "metadata": {},
     "output_type": "execute_result"
    }
   ],
   "source": [
    "model = lgb.LGBMClassifier(**params)\n",
    "\n",
    "model.fit(\n",
    "    X=x_train,\n",
    "    y=y_train,\n",
    "    eval_set=[(x_train, y_train), (x_test, y_test)],\n",
    "    early_stopping_rounds=25,\n",
    "    categorical_feature=categorical,\n",
    "    # num_boost_round=10000,\n",
    "    eval_metric=\"auc\",\n",
    "    verbose=20\n",
    ")"
   ]
  },
  {
   "cell_type": "code",
   "execution_count": 122,
   "metadata": {},
   "outputs": [],
   "source": [
    "# недообучение - 5\n",
    "# переобучение +\n",
    "# все ок = 2"
   ]
  },
  {
   "cell_type": "code",
   "execution_count": 123,
   "metadata": {},
   "outputs": [],
   "source": [
    "def draw_roc_auc(model, dtrain, dvalid, y_train, y_valid):\n",
    "    #  тест   \n",
    "    try:\n",
    "        y_pred_train = model.predict_proba(dtrain)[:,1]      \n",
    "    except:\n",
    "        y_pred_train = model.predict(dtrain)\n",
    "    roc_auc_train=roc_auc_score(y_train, y_pred_train)\n",
    "    # print(roc_auc_train)\n",
    "    fpr_train, tpr_train, _ = metrics.roc_curve(y_train, y_pred_train)\n",
    "\n",
    "    try:\n",
    "        y_pred_val = model.predict_proba(dvalid)[:,1]      \n",
    "    except:\n",
    "        y_pred_val = model.predict(dvalid)\n",
    "    roc_auc_val=roc_auc_score(y_valid, y_pred_val)\n",
    "    # print(roc_auc_val)\n",
    "    fpr_val, tpr_val, _ = metrics.roc_curve(y_valid, y_pred_val)\n",
    "\n",
    "    plt.plot(fpr_train, tpr_train, 'b',color=\"blue\", label = 'train_auc = %0.2f' % roc_auc_train)\n",
    "    plt.plot(fpr_val, tpr_val, 'b', color=\"orange\", label = 'val_auc = %0.2f' % roc_auc_val)\n",
    "    \n",
    "    plt.legend(loc = 'lower right')\n",
    "    plt.plot([0, 1], [0, 1],'r--')\n",
    "    plt.xlim([0, 1])\n",
    "    plt.ylim([0, 1])\n",
    "    plt.ylabel('True Positive Rate')\n",
    "    plt.xlabel('False Positive Rate')\n",
    "    plt.show()"
   ]
  },
  {
   "cell_type": "code",
   "execution_count": 124,
   "metadata": {},
   "outputs": [
    {
     "name": "stdout",
     "output_type": "stream",
     "text": [
      "Train-score: 0.722, Test-score: 0.642, Lb-score: 0.607 \n"
     ]
    }
   ],
   "source": [
    "train_score =  roc_auc_score(y_train, model.predict(x_train))\n",
    "test_score = roc_auc_score(y_test, model.predict(x_test))\n",
    "lb_score = roc_auc_score(y_lb, model.predict(x_lb))\n",
    "\n",
    "print(f\"Train-score: {round(train_score, 3)}, Test-score: {round(test_score, 3)}, Lb-score: {round(lb_score, 3)} \")"
   ]
  },
  {
   "cell_type": "markdown",
   "metadata": {},
   "source": [
    "## Выводы.\n",
    "\n",
    "Качество на тестовой выборке значительно выше чем на валидационной выборке и ЛБ. \n",
    "Это означает, что распределение на этих выборках немного отличаются друг от друга.\n",
    "\n",
    "Далее, попробуем определеить признаки по которым эти выборки отличаются. "
   ]
  },
  {
   "cell_type": "markdown",
   "metadata": {},
   "source": [
    "## Задание 2.\n",
    "\n",
    "Cделать Hold-Out валидацию с разбиением на 3 выборки, разбиение проводить по id-транзакции (TransactionID), размер каждой выборки подобрать самостоятельно. Повторить процедуру из п.1. для каждой выборки."
   ]
  },
  {
   "cell_type": "code",
   "execution_count": 125,
   "metadata": {},
   "outputs": [],
   "source": [
    "x_test, x_val = train_test_split(x_test, train_size=0.50, shuffle=False, random_state=1,)\n",
    "y_test, y_val = train_test_split(y_test, train_size=0.50, shuffle=False, random_state=1,)"
   ]
  },
  {
   "cell_type": "code",
   "execution_count": 126,
   "metadata": {},
   "outputs": [
    {
     "name": "stdout",
     "output_type": "stream",
     "text": [
      "x_train.shape = 108000 rows, 392 cols\n",
      "x_val.shape = 36000 rows, 392 cols\n",
      "x_test.shape = 36000 rows, 392 cols\n"
     ]
    }
   ],
   "source": [
    "print(\"x_train.shape = {} rows, {} cols\".format(*x_train.shape))\n",
    "print(\"x_val.shape = {} rows, {} cols\".format(*x_val.shape))\n",
    "print(\"x_test.shape = {} rows, {} cols\".format(*x_test.shape))"
   ]
  },
  {
   "cell_type": "code",
   "execution_count": 127,
   "metadata": {},
   "outputs": [
    {
     "name": "stdout",
     "output_type": "stream",
     "text": [
      "[20]\tvalid_0's auc: 0.859651\tvalid_1's auc: 0.859651\n",
      "[40]\tvalid_0's auc: 0.865949\tvalid_1's auc: 0.865949\n",
      "[60]\tvalid_0's auc: 0.8706\tvalid_1's auc: 0.8706\n",
      "[80]\tvalid_0's auc: 0.871479\tvalid_1's auc: 0.871479\n",
      "[100]\tvalid_0's auc: 0.872493\tvalid_1's auc: 0.872493\n",
      "[120]\tvalid_0's auc: 0.873055\tvalid_1's auc: 0.873055\n",
      "[140]\tvalid_0's auc: 0.873847\tvalid_1's auc: 0.873847\n",
      "[160]\tvalid_0's auc: 0.873269\tvalid_1's auc: 0.873269\n",
      "[180]\tvalid_0's auc: 0.87396\tvalid_1's auc: 0.87396\n",
      "[200]\tvalid_0's auc: 0.874522\tvalid_1's auc: 0.874522\n",
      "[220]\tvalid_0's auc: 0.875116\tvalid_1's auc: 0.875116\n",
      "[240]\tvalid_0's auc: 0.875126\tvalid_1's auc: 0.875126\n",
      "[260]\tvalid_0's auc: 0.874849\tvalid_1's auc: 0.874849\n"
     ]
    },
    {
     "data": {
      "text/plain": [
       "LGBMClassifier(max_depth=4, metric='auc', n_estimators=10000,\n",
       "               objective='binary', random_state=1, reg_lambda=50)"
      ]
     },
     "execution_count": 127,
     "metadata": {},
     "output_type": "execute_result"
    }
   ],
   "source": [
    "model = lgb.LGBMClassifier(**params)\n",
    "\n",
    "model.fit(\n",
    "    X=x_train,\n",
    "    y=y_train,\n",
    "    eval_set=[(x_val, y_val), (x_val, y_val)],\n",
    "    early_stopping_rounds=50,\n",
    "    categorical_feature=categorical,\n",
    "    # num_boost_round=10000,\n",
    "    eval_metric=\"auc\",\n",
    "    verbose=20\n",
    ")"
   ]
  },
  {
   "cell_type": "code",
   "execution_count": 128,
   "metadata": {},
   "outputs": [
    {
     "name": "stdout",
     "output_type": "stream",
     "text": [
      "Train-score: 0.711, Val-score: 0.637, Test-score: 0.64\n"
     ]
    }
   ],
   "source": [
    "train_score =  roc_auc_score(y_train, model.predict(x_train))\n",
    "val_score = roc_auc_score(y_val, model.predict(x_val))\n",
    "test_score = roc_auc_score(y_test, model.predict(x_test))\n",
    "\n",
    "print(f\"Train-score: {round(train_score, 3)}, Val-score: {round(val_score, 3)}, Test-score: {round(test_score, 3)}\")"
   ]
  },
  {
   "cell_type": "code",
   "execution_count": 129,
   "metadata": {},
   "outputs": [
    {
     "name": "stdout",
     "output_type": "stream",
     "text": [
      "Train-score: 0.939, Val-score: 0.876, Test-score: 0.894\n"
     ]
    }
   ],
   "source": [
    "train_score =  roc_auc_score(y_train, model.predict_proba(x_train)[:,1])\n",
    "val_score = roc_auc_score(y_val, model.predict_proba(x_val)[:,1])\n",
    "test_score = roc_auc_score(y_test, model.predict_proba(x_test)[:,1])\n",
    "\n",
    "print(f\"Train-score: {round(train_score, 3)}, Val-score: {round(val_score, 3)}, Test-score: {round(test_score, 3)}\")"
   ]
  },
  {
   "cell_type": "markdown",
   "metadata": {},
   "source": [
    "## Задание 3.\n",
    "\n",
    "Построить доверительный интервал на данных из п.2 на основе **бутстреп** выборок, оценить качество модели на ЛБ относительно полученного доверительного интервала. Сделать выводы."
   ]
  },
  {
   "cell_type": "code",
   "execution_count": 130,
   "metadata": {},
   "outputs": [],
   "source": [
    "def create_bootstrap_samples(data: np.array, n_samples: int = 1000) -> np.array:\n",
    "    \"\"\"\n",
    "    Создание бутстреп-выборок.\n",
    "\n",
    "    Parameters\n",
    "    ----------\n",
    "    data: np.array\n",
    "        Исходная выборка, которая будет использоваться для\n",
    "        создания бутстреп выборок.\n",
    "\n",
    "    n_samples: int, optional, default = 1000\n",
    "        Количество создаваемых бутстреп выборок.\n",
    "        Опциональный параметр, по умолчанию, равен 1000.\n",
    "\n",
    "    Returns\n",
    "    -------\n",
    "    bootstrap_idx: np.array\n",
    "        Матрица индексов, для создания бутстреп выборок.\n",
    "\n",
    "    \"\"\"\n",
    "    bootstrap_idx = np.random.randint(\n",
    "        low=0, high=len(data), size=(n_samples, len(data))\n",
    "    )\n",
    "    return bootstrap_idx\n",
    "\n",
    "\n",
    "def create_bootstrap_metrics(y_true: np.array,\n",
    "                             y_pred: np.array,\n",
    "                             metric: callable,\n",
    "                             n_samlpes: int = 1000) -> List[float]:\n",
    "    \"\"\"\n",
    "    Вычисление бутстреп оценок.\n",
    "\n",
    "    Parameters\n",
    "    ----------\n",
    "    y_true: np.array\n",
    "        Вектор целевой переменной.\n",
    "\n",
    "    y_pred: np.array\n",
    "        Вектор прогнозов.\n",
    "\n",
    "    metric: callable\n",
    "        Функция для вычисления метрики.\n",
    "        Функция должна принимать 2 аргумента: y_true, y_pred.\n",
    "\n",
    "    n_samples: int, optional, default = 1000\n",
    "        Количество создаваемых бутстреп выборок.\n",
    "        Опциональный параметр, по умолчанию, равен 1000.\n",
    "\n",
    "    Returns\n",
    "    -------\n",
    "    bootstrap_metrics: List[float]\n",
    "        Список со значениями метрики качества на каждой бустреп выборке.\n",
    "\n",
    "    \"\"\"\n",
    "    scores = []\n",
    "\n",
    "    if isinstance(y_true, pd.Series):\n",
    "        y_true = y_true.values\n",
    "\n",
    "    bootstrap_idx = create_bootstrap_samples(y_true)\n",
    "    for idx in bootstrap_idx:\n",
    "        y_true_bootstrap = y_true[idx]\n",
    "        y_pred_bootstrap = y_pred[idx]\n",
    "\n",
    "        score = metric(y_true_bootstrap, y_pred_bootstrap)\n",
    "        scores.append(score)\n",
    "\n",
    "    return scores\n",
    "\n",
    "\n",
    "def calculate_confidence_interval(scores: list, conf_interval: float = 0.95) -> Tuple[float]:\n",
    "    \"\"\"\n",
    "    Вычисление доверительного интервала.\n",
    "\n",
    "    Parameters\n",
    "    ----------\n",
    "    scores: List[float / int]\n",
    "        Список с оценками изучаемой величины.\n",
    "\n",
    "    conf_interval: float, optional, default = 0.95\n",
    "        Уровень доверия для построения интервала.\n",
    "        Опциональный параметр, по умолчанию, равен 0.95.\n",
    "\n",
    "    Returns\n",
    "    -------\n",
    "    conf_interval: Tuple[float]\n",
    "        Кортеж с границами доверительного интервала.\n",
    "\n",
    "    \"\"\"\n",
    "    left_bound = np.percentile(\n",
    "        scores, ((1 - conf_interval) / 2) * 100\n",
    "    )\n",
    "    right_bound = np.percentile(\n",
    "        scores, (conf_interval + ((1 - conf_interval) / 2)) * 100\n",
    "    )\n",
    "\n",
    "    return left_bound, right_bound"
   ]
  },
  {
   "cell_type": "code",
   "execution_count": 131,
   "metadata": {},
   "outputs": [
    {
     "data": {
      "text/plain": [
       "(0.626540475331432, 0.6536258302778334)"
      ]
     },
     "execution_count": 131,
     "metadata": {},
     "output_type": "execute_result"
    }
   ],
   "source": [
    "np.random.seed(27)\n",
    "scores = create_bootstrap_metrics(y_test, model.predict(x_test), roc_auc_score)\n",
    "\n",
    "calculate_confidence_interval(scores)"
   ]
  },
  {
   "cell_type": "code",
   "execution_count": 132,
   "metadata": {},
   "outputs": [
    {
     "data": {
      "text/plain": [
       "Text(0.5, 0, 'sampel number')"
      ]
     },
     "execution_count": 132,
     "metadata": {},
     "output_type": "execute_result"
    },
    {
     "data": {
      "image/png": "[encoded data removed]",
      "text/plain": [
       "<Figure size 1080x360 with 2 Axes>"
      ]
     },
     "metadata": {
      "needs_background": "light"
     },
     "output_type": "display_data"
    }
   ],
   "source": [
    "fig, axes = plt.subplots(1, 2, figsize=(15, 5))\n",
    "plt.suptitle(\"Bootstrap for evaluating validation stability\", size=15)\n",
    "axes[1].scatter(range(len(scores)), scores, alpha=0.25, color=\"blue\")\n",
    "axes[1].set_xlabel(\"sampel number\", size=15)\n",
    "axes[1].set_ylabel(\"ROC_AUC score\", size=15)\n",
    "\n",
    "sns.distplot(scores, ax=axes[0], color=\"green\", bins=20)\n",
    "axes[0].set_xlabel(\"sampel number\", size=15)"
   ]
  },
  {
   "cell_type": "markdown",
   "metadata": {},
   "source": [
    "Модель показывает достаточно очень небольшой разброс на разных bootstrep выборках.\n",
    "Наверное это хороший знак. зачения в распеделениы достаточно равномерно."
   ]
  },
  {
   "cell_type": "code",
   "execution_count": 133,
   "metadata": {},
   "outputs": [
    {
     "data": {
      "text/plain": [
       "(0.5984542241066817, 0.6109550783467368)"
      ]
     },
     "execution_count": 133,
     "metadata": {},
     "output_type": "execute_result"
    }
   ],
   "source": [
    "np.random.seed(27)\n",
    "scores = create_bootstrap_metrics(y_lb, model.predict(x_lb), roc_auc_score)\n",
    "\n",
    "calculate_confidence_interval(scores)"
   ]
  },
  {
   "cell_type": "code",
   "execution_count": 134,
   "metadata": {},
   "outputs": [
    {
     "data": {
      "text/plain": [
       "Text(0.5, 0, 'sampel number')"
      ]
     },
     "execution_count": 134,
     "metadata": {},
     "output_type": "execute_result"
    },
    {
     "data": {
      "image/png": "[encoded data removed]",
      "text/plain": [
       "<Figure size 1080x360 with 2 Axes>"
      ]
     },
     "metadata": {
      "needs_background": "light"
     },
     "output_type": "display_data"
    }
   ],
   "source": [
    "fig, axes = plt.subplots(1, 2, figsize=(15, 5))\n",
    "plt.suptitle(\"Bootstrap for evaluating validation stability\", size=15)\n",
    "axes[1].scatter(range(len(scores)), scores, alpha=0.25, color=\"blue\")\n",
    "axes[1].set_xlabel(\"sampel number\", size=15)\n",
    "axes[1].set_ylabel(\"ROC_AUC score\", size=15)\n",
    "\n",
    "sns.distplot(scores, ax=axes[0], color=\"green\", bins=20)\n",
    "axes[0].set_xlabel(\"sampel number\", size=15)"
   ]
  },
  {
   "cell_type": "markdown",
   "metadata": {},
   "source": [
    "Видно, что ROC_AUC на ЛБ немного смещено вниз, по сравнению с распределнием на тестовой выборке."
   ]
  },
  {
   "cell_type": "markdown",
   "metadata": {},
   "source": [
    "## Задание 4. \n",
    "\n",
    "Выполнить `Adversarial Validation`, подобрать объекты из обучающей выборки, которые сильно похожи на объекты из `assignment_2_test.csv`, и использовать их в качестве валидационного набора. Оценить качество модели на ЛБ, сделать выводы о полученных результатах."
   ]
  },
  {
   "cell_type": "code",
   "execution_count": 135,
   "metadata": {},
   "outputs": [],
   "source": [
    "X_adv = pd.concat([ public_df, private_df])\n",
    "y_adv = np.hstack((np.ones(public_df.shape[0]), np.zeros(private_df.shape[0]))) # заполняем чать нулями, а часть 1-ми.\n",
    "\n",
    "X_adv = X_adv.reset_index(drop=True)"
   ]
  },
  {
   "cell_type": "code",
   "execution_count": 136,
   "metadata": {},
   "outputs": [],
   "source": [
    "X_adv[categorical]=X_adv[categorical].astype('category')"
   ]
  },
  {
   "cell_type": "code",
   "execution_count": 137,
   "metadata": {},
   "outputs": [
    {
     "data": {
      "text/plain": [
       "array([1., 1., 1., ..., 0., 0., 0.])"
      ]
     },
     "execution_count": 137,
     "metadata": {},
     "output_type": "execute_result"
    }
   ],
   "source": [
    "y_adv"
   ]
  },
  {
   "cell_type": "code",
   "execution_count": 138,
   "metadata": {},
   "outputs": [
    {
     "data": {
      "text/html": [
       "<div>\n",
       "<style scoped>\n",
       "    .dataframe tbody tr th:only-of-type {\n",
       "        vertical-align: middle;\n",
       "    }\n",
       "\n",
       "    .dataframe tbody tr th {\n",
       "        vertical-align: top;\n",
       "    }\n",
       "\n",
       "    .dataframe thead th {\n",
       "        text-align: right;\n",
       "    }\n",
       "</style>\n",
       "<table border=\"1\" class=\"dataframe\">\n",
       "  <thead>\n",
       "    <tr style=\"text-align: right;\">\n",
       "      <th></th>\n",
       "      <th>TransactionID</th>\n",
       "      <th>isFraud</th>\n",
       "      <th>TransactionDT</th>\n",
       "      <th>TransactionAmt</th>\n",
       "      <th>ProductCD</th>\n",
       "      <th>card1</th>\n",
       "      <th>card2</th>\n",
       "      <th>card3</th>\n",
       "      <th>card4</th>\n",
       "      <th>card5</th>\n",
       "      <th>...</th>\n",
       "      <th>V330</th>\n",
       "      <th>V331</th>\n",
       "      <th>V332</th>\n",
       "      <th>V333</th>\n",
       "      <th>V334</th>\n",
       "      <th>V335</th>\n",
       "      <th>V336</th>\n",
       "      <th>V337</th>\n",
       "      <th>V338</th>\n",
       "      <th>V339</th>\n",
       "    </tr>\n",
       "  </thead>\n",
       "  <tbody>\n",
       "    <tr>\n",
       "      <th>0</th>\n",
       "      <td>2987000</td>\n",
       "      <td>0</td>\n",
       "      <td>86400</td>\n",
       "      <td>68.500</td>\n",
       "      <td>W</td>\n",
       "      <td>13926</td>\n",
       "      <td>NaN</td>\n",
       "      <td>150.0</td>\n",
       "      <td>discover</td>\n",
       "      <td>142.0</td>\n",
       "      <td>...</td>\n",
       "      <td>NaN</td>\n",
       "      <td>NaN</td>\n",
       "      <td>NaN</td>\n",
       "      <td>NaN</td>\n",
       "      <td>NaN</td>\n",
       "      <td>NaN</td>\n",
       "      <td>NaN</td>\n",
       "      <td>NaN</td>\n",
       "      <td>NaN</td>\n",
       "      <td>NaN</td>\n",
       "    </tr>\n",
       "    <tr>\n",
       "      <th>1</th>\n",
       "      <td>2987001</td>\n",
       "      <td>0</td>\n",
       "      <td>86401</td>\n",
       "      <td>29.000</td>\n",
       "      <td>W</td>\n",
       "      <td>2755</td>\n",
       "      <td>404.0</td>\n",
       "      <td>150.0</td>\n",
       "      <td>mastercard</td>\n",
       "      <td>102.0</td>\n",
       "      <td>...</td>\n",
       "      <td>NaN</td>\n",
       "      <td>NaN</td>\n",
       "      <td>NaN</td>\n",
       "      <td>NaN</td>\n",
       "      <td>NaN</td>\n",
       "      <td>NaN</td>\n",
       "      <td>NaN</td>\n",
       "      <td>NaN</td>\n",
       "      <td>NaN</td>\n",
       "      <td>NaN</td>\n",
       "    </tr>\n",
       "    <tr>\n",
       "      <th>2</th>\n",
       "      <td>2987002</td>\n",
       "      <td>0</td>\n",
       "      <td>86469</td>\n",
       "      <td>59.000</td>\n",
       "      <td>W</td>\n",
       "      <td>4663</td>\n",
       "      <td>490.0</td>\n",
       "      <td>150.0</td>\n",
       "      <td>visa</td>\n",
       "      <td>166.0</td>\n",
       "      <td>...</td>\n",
       "      <td>NaN</td>\n",
       "      <td>NaN</td>\n",
       "      <td>NaN</td>\n",
       "      <td>NaN</td>\n",
       "      <td>NaN</td>\n",
       "      <td>NaN</td>\n",
       "      <td>NaN</td>\n",
       "      <td>NaN</td>\n",
       "      <td>NaN</td>\n",
       "      <td>NaN</td>\n",
       "    </tr>\n",
       "    <tr>\n",
       "      <th>3</th>\n",
       "      <td>2987003</td>\n",
       "      <td>0</td>\n",
       "      <td>86499</td>\n",
       "      <td>50.000</td>\n",
       "      <td>W</td>\n",
       "      <td>18132</td>\n",
       "      <td>567.0</td>\n",
       "      <td>150.0</td>\n",
       "      <td>mastercard</td>\n",
       "      <td>117.0</td>\n",
       "      <td>...</td>\n",
       "      <td>NaN</td>\n",
       "      <td>NaN</td>\n",
       "      <td>NaN</td>\n",
       "      <td>NaN</td>\n",
       "      <td>NaN</td>\n",
       "      <td>NaN</td>\n",
       "      <td>NaN</td>\n",
       "      <td>NaN</td>\n",
       "      <td>NaN</td>\n",
       "      <td>NaN</td>\n",
       "    </tr>\n",
       "    <tr>\n",
       "      <th>4</th>\n",
       "      <td>2987004</td>\n",
       "      <td>0</td>\n",
       "      <td>86506</td>\n",
       "      <td>50.000</td>\n",
       "      <td>H</td>\n",
       "      <td>4497</td>\n",
       "      <td>514.0</td>\n",
       "      <td>150.0</td>\n",
       "      <td>mastercard</td>\n",
       "      <td>102.0</td>\n",
       "      <td>...</td>\n",
       "      <td>0.0</td>\n",
       "      <td>0.0</td>\n",
       "      <td>0.0</td>\n",
       "      <td>0.0</td>\n",
       "      <td>0.0</td>\n",
       "      <td>0.0</td>\n",
       "      <td>0.0</td>\n",
       "      <td>0.0</td>\n",
       "      <td>0.0</td>\n",
       "      <td>0.0</td>\n",
       "    </tr>\n",
       "    <tr>\n",
       "      <th>...</th>\n",
       "      <td>...</td>\n",
       "      <td>...</td>\n",
       "      <td>...</td>\n",
       "      <td>...</td>\n",
       "      <td>...</td>\n",
       "      <td>...</td>\n",
       "      <td>...</td>\n",
       "      <td>...</td>\n",
       "      <td>...</td>\n",
       "      <td>...</td>\n",
       "      <td>...</td>\n",
       "      <td>...</td>\n",
       "      <td>...</td>\n",
       "      <td>...</td>\n",
       "      <td>...</td>\n",
       "      <td>...</td>\n",
       "      <td>...</td>\n",
       "      <td>...</td>\n",
       "      <td>...</td>\n",
       "      <td>...</td>\n",
       "      <td>...</td>\n",
       "    </tr>\n",
       "    <tr>\n",
       "      <th>279996</th>\n",
       "      <td>3386996</td>\n",
       "      <td>0</td>\n",
       "      <td>10091528</td>\n",
       "      <td>368.990</td>\n",
       "      <td>W</td>\n",
       "      <td>13964</td>\n",
       "      <td>496.0</td>\n",
       "      <td>150.0</td>\n",
       "      <td>mastercard</td>\n",
       "      <td>224.0</td>\n",
       "      <td>...</td>\n",
       "      <td>NaN</td>\n",
       "      <td>NaN</td>\n",
       "      <td>NaN</td>\n",
       "      <td>NaN</td>\n",
       "      <td>NaN</td>\n",
       "      <td>NaN</td>\n",
       "      <td>NaN</td>\n",
       "      <td>NaN</td>\n",
       "      <td>NaN</td>\n",
       "      <td>NaN</td>\n",
       "    </tr>\n",
       "    <tr>\n",
       "      <th>279997</th>\n",
       "      <td>3386997</td>\n",
       "      <td>0</td>\n",
       "      <td>10091533</td>\n",
       "      <td>445.330</td>\n",
       "      <td>W</td>\n",
       "      <td>10616</td>\n",
       "      <td>583.0</td>\n",
       "      <td>150.0</td>\n",
       "      <td>visa</td>\n",
       "      <td>226.0</td>\n",
       "      <td>...</td>\n",
       "      <td>NaN</td>\n",
       "      <td>NaN</td>\n",
       "      <td>NaN</td>\n",
       "      <td>NaN</td>\n",
       "      <td>NaN</td>\n",
       "      <td>NaN</td>\n",
       "      <td>NaN</td>\n",
       "      <td>NaN</td>\n",
       "      <td>NaN</td>\n",
       "      <td>NaN</td>\n",
       "    </tr>\n",
       "    <tr>\n",
       "      <th>279998</th>\n",
       "      <td>3386998</td>\n",
       "      <td>0</td>\n",
       "      <td>10091544</td>\n",
       "      <td>15.226</td>\n",
       "      <td>C</td>\n",
       "      <td>9803</td>\n",
       "      <td>583.0</td>\n",
       "      <td>150.0</td>\n",
       "      <td>visa</td>\n",
       "      <td>226.0</td>\n",
       "      <td>...</td>\n",
       "      <td>NaN</td>\n",
       "      <td>NaN</td>\n",
       "      <td>NaN</td>\n",
       "      <td>NaN</td>\n",
       "      <td>NaN</td>\n",
       "      <td>NaN</td>\n",
       "      <td>NaN</td>\n",
       "      <td>NaN</td>\n",
       "      <td>NaN</td>\n",
       "      <td>NaN</td>\n",
       "    </tr>\n",
       "    <tr>\n",
       "      <th>279999</th>\n",
       "      <td>3386999</td>\n",
       "      <td>0</td>\n",
       "      <td>10091549</td>\n",
       "      <td>34.742</td>\n",
       "      <td>C</td>\n",
       "      <td>16062</td>\n",
       "      <td>500.0</td>\n",
       "      <td>185.0</td>\n",
       "      <td>mastercard</td>\n",
       "      <td>137.0</td>\n",
       "      <td>...</td>\n",
       "      <td>NaN</td>\n",
       "      <td>NaN</td>\n",
       "      <td>NaN</td>\n",
       "      <td>NaN</td>\n",
       "      <td>NaN</td>\n",
       "      <td>NaN</td>\n",
       "      <td>NaN</td>\n",
       "      <td>NaN</td>\n",
       "      <td>NaN</td>\n",
       "      <td>NaN</td>\n",
       "    </tr>\n",
       "    <tr>\n",
       "      <th>280000</th>\n",
       "      <td>3387000</td>\n",
       "      <td>0</td>\n",
       "      <td>10091550</td>\n",
       "      <td>312.450</td>\n",
       "      <td>W</td>\n",
       "      <td>16632</td>\n",
       "      <td>215.0</td>\n",
       "      <td>150.0</td>\n",
       "      <td>mastercard</td>\n",
       "      <td>229.0</td>\n",
       "      <td>...</td>\n",
       "      <td>NaN</td>\n",
       "      <td>NaN</td>\n",
       "      <td>NaN</td>\n",
       "      <td>NaN</td>\n",
       "      <td>NaN</td>\n",
       "      <td>NaN</td>\n",
       "      <td>NaN</td>\n",
       "      <td>NaN</td>\n",
       "      <td>NaN</td>\n",
       "      <td>NaN</td>\n",
       "    </tr>\n",
       "  </tbody>\n",
       "</table>\n",
       "<p>280001 rows × 394 columns</p>\n",
       "</div>"
      ],
      "text/plain": [
       "        TransactionID  isFraud  TransactionDT  TransactionAmt ProductCD  \\\n",
       "0             2987000        0          86400          68.500         W   \n",
       "1             2987001        0          86401          29.000         W   \n",
       "2             2987002        0          86469          59.000         W   \n",
       "3             2987003        0          86499          50.000         W   \n",
       "4             2987004        0          86506          50.000         H   \n",
       "...               ...      ...            ...             ...       ...   \n",
       "279996        3386996        0       10091528         368.990         W   \n",
       "279997        3386997        0       10091533         445.330         W   \n",
       "279998        3386998        0       10091544          15.226         C   \n",
       "279999        3386999        0       10091549          34.742         C   \n",
       "280000        3387000        0       10091550         312.450         W   \n",
       "\n",
       "        card1  card2  card3       card4  card5  ... V330  V331  V332  V333  \\\n",
       "0       13926    NaN  150.0    discover  142.0  ...  NaN   NaN   NaN   NaN   \n",
       "1        2755  404.0  150.0  mastercard  102.0  ...  NaN   NaN   NaN   NaN   \n",
       "2        4663  490.0  150.0        visa  166.0  ...  NaN   NaN   NaN   NaN   \n",
       "3       18132  567.0  150.0  mastercard  117.0  ...  NaN   NaN   NaN   NaN   \n",
       "4        4497  514.0  150.0  mastercard  102.0  ...  0.0   0.0   0.0   0.0   \n",
       "...       ...    ...    ...         ...    ...  ...  ...   ...   ...   ...   \n",
       "279996  13964  496.0  150.0  mastercard  224.0  ...  NaN   NaN   NaN   NaN   \n",
       "279997  10616  583.0  150.0        visa  226.0  ...  NaN   NaN   NaN   NaN   \n",
       "279998   9803  583.0  150.0        visa  226.0  ...  NaN   NaN   NaN   NaN   \n",
       "279999  16062  500.0  185.0  mastercard  137.0  ...  NaN   NaN   NaN   NaN   \n",
       "280000  16632  215.0  150.0  mastercard  229.0  ...  NaN   NaN   NaN   NaN   \n",
       "\n",
       "        V334 V335 V336  V337  V338  V339  \n",
       "0        NaN  NaN  NaN   NaN   NaN   NaN  \n",
       "1        NaN  NaN  NaN   NaN   NaN   NaN  \n",
       "2        NaN  NaN  NaN   NaN   NaN   NaN  \n",
       "3        NaN  NaN  NaN   NaN   NaN   NaN  \n",
       "4        0.0  0.0  0.0   0.0   0.0   0.0  \n",
       "...      ...  ...  ...   ...   ...   ...  \n",
       "279996   NaN  NaN  NaN   NaN   NaN   NaN  \n",
       "279997   NaN  NaN  NaN   NaN   NaN   NaN  \n",
       "279998   NaN  NaN  NaN   NaN   NaN   NaN  \n",
       "279999   NaN  NaN  NaN   NaN   NaN   NaN  \n",
       "280000   NaN  NaN  NaN   NaN   NaN   NaN  \n",
       "\n",
       "[280001 rows x 394 columns]"
      ]
     },
     "execution_count": 138,
     "metadata": {},
     "output_type": "execute_result"
    }
   ],
   "source": [
    "X_adv"
   ]
  },
  {
   "cell_type": "code",
   "execution_count": 139,
   "metadata": {},
   "outputs": [],
   "source": [
    "params = {\n",
    "    \"boosting_type\": \"gbdt\",\n",
    "    \"objective\": \"binary\",\n",
    "    # \"objective\": \"binary:logistic\",\n",
    "    \"metric\": \"auc\",\n",
    "    \"learning_rate\": 0.1,\n",
    "    \"n_estimators\": 500,\n",
    "    \"reg_lambda\": 50,\n",
    "    \"max_depth\": 4,\n",
    "    # \"gamma\": 4,\n",
    "    # \"nthread\": 6,\n",
    "    # \"seed\": 27,\n",
    "    'random_state':1    \n",
    "}"
   ]
  },
  {
   "cell_type": "code",
   "execution_count": 140,
   "metadata": {},
   "outputs": [],
   "source": [
    "model = lgb.LGBMClassifier(**params)"
   ]
  },
  {
   "cell_type": "code",
   "execution_count": 141,
   "metadata": {},
   "outputs": [
    {
     "name": "stdout",
     "output_type": "stream",
     "text": [
      "[20]\ttraining's auc: 0.999994\n",
      "[40]\ttraining's auc: 0.999995\n",
      "[60]\ttraining's auc: 0.999996\n",
      "[80]\ttraining's auc: 0.999997\n",
      "[100]\ttraining's auc: 0.999997\n",
      "[120]\ttraining's auc: 0.999997\n",
      "[140]\ttraining's auc: 0.999998\n",
      "[160]\ttraining's auc: 0.999998\n",
      "[180]\ttraining's auc: 0.999998\n",
      "[200]\ttraining's auc: 0.999998\n",
      "[220]\ttraining's auc: 0.999999\n",
      "[240]\ttraining's auc: 0.999999\n",
      "[260]\ttraining's auc: 0.999999\n",
      "[280]\ttraining's auc: 0.999999\n",
      "[300]\ttraining's auc: 0.999999\n",
      "[320]\ttraining's auc: 0.999999\n",
      "[340]\ttraining's auc: 0.999999\n",
      "[360]\ttraining's auc: 0.999999\n",
      "[380]\ttraining's auc: 0.999999\n",
      "[400]\ttraining's auc: 0.999999\n",
      "[420]\ttraining's auc: 1\n",
      "[440]\ttraining's auc: 1\n",
      "[460]\ttraining's auc: 1\n",
      "[480]\ttraining's auc: 1\n",
      "[500]\ttraining's auc: 1\n"
     ]
    },
    {
     "data": {
      "text/plain": [
       "LGBMClassifier(max_depth=4, metric='auc', n_estimators=500, objective='binary',\n",
       "               random_state=1, reg_lambda=50)"
      ]
     },
     "execution_count": 141,
     "metadata": {},
     "output_type": "execute_result"
    }
   ],
   "source": [
    "model.fit(\n",
    "    X=X_adv,\n",
    "    y=y_adv,\n",
    "    eval_set=[(X_adv, y_adv)],\n",
    "    early_stopping_rounds=5,\n",
    "    categorical_feature=categorical,\n",
    "    eval_metric=\"auc\",\n",
    "    verbose=20\n",
    ")"
   ]
  },
  {
   "cell_type": "code",
   "execution_count": 142,
   "metadata": {},
   "outputs": [
    {
     "name": "stdout",
     "output_type": "stream",
     "text": [
      "CV-score: 1.0\n",
      "CPU times: user 7min 38s, sys: 3.91 s, total: 7min 42s\n",
      "Wall time: 1min 14s\n"
     ]
    }
   ],
   "source": [
    "%%time\n",
    "cv = cross_val_score(\n",
    "    estimator=model,\n",
    "    X=X_adv, y=y_adv,\n",
    "    scoring=\"roc_auc\",\n",
    "    cv=KFold(n_splits=3, shuffle=True, random_state=27)\n",
    ")\n",
    "print(f\"CV-score: {round(np.mean(cv), 4)}\")"
   ]
  },
  {
   "cell_type": "code",
   "execution_count": 143,
   "metadata": {},
   "outputs": [
    {
     "data": {
      "text/plain": [
       "Text(0.5, 1.0, 'Top Importance Features for Adversarial Validation (train vs test)')"
      ]
     },
     "execution_count": 143,
     "metadata": {},
     "output_type": "execute_result"
    },
    {
     "data": {
      "image/png": "[encoded data removed]",
      "text/plain": [
       "<Figure size 1440x360 with 1 Axes>"
      ]
     },
     "metadata": {
      "needs_background": "light"
     },
     "output_type": "display_data"
    }
   ],
   "source": [
    "importance = pd.DataFrame({\n",
    "    \"feature\": X_adv.columns,\n",
    "    \"adversarial_importance\": model.feature_importances_\n",
    "})\n",
    "importance = importance.sort_values(by=\"adversarial_importance\", ascending=False)\n",
    "importance = importance.head(n=10)\n",
    "\n",
    "plt.figure(figsize=(20, 5))\n",
    "sns.barplot(x=importance[\"feature\"], y=importance[\"adversarial_importance\"], palette=\"viridis\")\n",
    "plt.title(\"Top Importance Features for Adversarial Validation (train vs test)\", size=14)"
   ]
  },
  {
   "cell_type": "code",
   "execution_count": 144,
   "metadata": {},
   "outputs": [
    {
     "data": {
      "text/plain": [
       "array(['TransactionID', 'TransactionAmt', 'D15', 'D9', 'P_emaildomain',\n",
       "       'card2', 'card1', 'card5', 'addr1', 'dist2'], dtype=object)"
      ]
     },
     "execution_count": 144,
     "metadata": {},
     "output_type": "execute_result"
    }
   ],
   "source": [
    "importance[\"feature\"].values"
   ]
  },
  {
   "cell_type": "code",
   "execution_count": 145,
   "metadata": {},
   "outputs": [],
   "source": [
    "features = ['TransactionID', 'TransactionAmt', 'D15', 'D9', \n",
    "       'card2', 'card1', 'card5', 'addr1', 'dist2']"
   ]
  },
  {
   "cell_type": "code",
   "execution_count": 146,
   "metadata": {},
   "outputs": [
    {
     "data": {
      "image/png": "[encoded data removed]",
      "text/plain": [
       "<Figure size 1440x720 with 12 Axes>"
      ]
     },
     "metadata": {
      "needs_background": "light"
     },
     "output_type": "display_data"
    }
   ],
   "source": [
    "# Посмотрим. какое распределение имеют эти признаки. на графике.\n",
    "num_cols =4\n",
    "fig, axes = plt.subplots(3, num_cols, figsize=(20, 10))\n",
    "\n",
    "for num, feature in enumerate(features):\n",
    "    try:\n",
    "        train_data, test_data = public_df[feature].copy(), private_df[feature].copy()\n",
    "        sns.kdeplot(train_data, ax=axes[num//num_cols, num%num_cols], color=\"blue\", label=\"train\")\n",
    "        sns.kdeplot(test_data, ax=axes[num//num_cols, num%num_cols], color=\"green\", label=\"test\")\n",
    "    except RuntimeError:\n",
    "        pass\n",
    "    except KeyError:\n",
    "        train_data = public_df[feature].copy()\n",
    "        sns.kdeplot(train_data, ax=axes[num//num_cols, num%num_cols], color=\"blue\", label=\"train\")\n",
    "    # axes[num//num_cols, num%num_cols].set_title(feature, fontsize=14)"
   ]
  },
  {
   "cell_type": "markdown",
   "metadata": {},
   "source": [
    "Уберем из набора данных признаки `TransactionID` и `TransactionDT`. И, посмотрим как это повлияет на результат."
   ]
  },
  {
   "cell_type": "code",
   "execution_count": 147,
   "metadata": {},
   "outputs": [],
   "source": [
    "X_adv = pd.concat([ public_df.drop(['TransactionID','TransactionDT'],axis=1), private_df.drop(['TransactionID','TransactionDT'],axis=1)])\n",
    "y_adv = np.hstack((np.ones(public_df.shape[0]), np.zeros(private_df.shape[0]))) # заполняем чать нулями, а часть 1-ми.\n",
    "\n",
    "X_adv = X_adv.reset_index(drop=True)\n",
    "X_adv[categorical]=X_adv[categorical].astype('category')"
   ]
  },
  {
   "cell_type": "code",
   "execution_count": 173,
   "metadata": {},
   "outputs": [],
   "source": [
    "x_lb = x_lb.drop(['TransactionDT'],axis=1)"
   ]
  },
  {
   "cell_type": "markdown",
   "metadata": {},
   "source": [
    "Подоберем параметры, которые похожи на данные лидерборда."
   ]
  },
  {
   "cell_type": "code",
   "execution_count": 148,
   "metadata": {},
   "outputs": [],
   "source": [
    "def make_validation_df(public_df,private_df,num_features,categorical_feature):\n",
    "    val_df = public_df.copy()\n",
    "    \n",
    "    for feature in num_features:\n",
    "        min_value = private_df[feature].min()\n",
    "        max_value = private_df[feature].max()\n",
    "        val_df = val_df.loc[(val_df[feature]>=min_value)]\n",
    "        val_df = val_df.loc[(val_df[feature]<=max_value)]\n",
    "\n",
    "    for feature in categorical_feature:\n",
    "        categories = private_df[feature].value_counts().index.to_numpy()\n",
    "        val_df = val_df.loc[(val_df[feature].isin(categories))]\n",
    "    return val_df"
   ]
  },
  {
   "cell_type": "code",
   "execution_count": 149,
   "metadata": {},
   "outputs": [],
   "source": [
    "# Соберем тренировочный и тесовый наборы заново.\n",
    "\n",
    "val_df_1 = make_validation_df(private_df, private_df, features, ['P_emaildomain'])\n",
    "\n",
    "train_df_1 = public_df.drop(index=val_df_1.index)"
   ]
  },
  {
   "cell_type": "code",
   "execution_count": 150,
   "metadata": {},
   "outputs": [
    {
     "data": {
      "text/plain": [
       "(179891, 109)"
      ]
     },
     "execution_count": 150,
     "metadata": {},
     "output_type": "execute_result"
    }
   ],
   "source": [
    "len(train_df_1), len(val_df_1)"
   ]
  },
  {
   "cell_type": "code",
   "execution_count": 151,
   "metadata": {},
   "outputs": [],
   "source": [
    "val_df_1[categorical]=val_df_1[categorical].astype('category')\n",
    "train_df_1[categorical]=train_df_1[categorical].astype('category')"
   ]
  },
  {
   "cell_type": "code",
   "execution_count": 165,
   "metadata": {},
   "outputs": [],
   "source": [
    "x_val_1 = val_df_1.drop([\"TransactionID\",'TransactionDT', \"isFraud\"], axis=1)\n",
    "y_val_1 = val_df_1[\"isFraud\"].values\n",
    "\n",
    "x_train_1, x_test_1, y_train_1, y_test_1 = train_test_split(train_df_1.drop([\"TransactionID\",'TransactionDT', \"isFraud\"], axis=1),train_df_1[\"isFraud\"], train_size=0.7,shuffle=True)"
   ]
  },
  {
   "cell_type": "code",
   "execution_count": null,
   "metadata": {},
   "outputs": [],
   "source": [
    "# x_train_1 = train_df_1.drop([\"TransactionID\",'TransactionDT', \"isFraud\"], axis=1)\n",
    "# y_train_1 = train_df_1[\"isFraud\"]"
   ]
  },
  {
   "cell_type": "code",
   "execution_count": 153,
   "metadata": {},
   "outputs": [],
   "source": [
    "params = {\n",
    "    \"boosting_type\": \"gbdt\",\n",
    "    \"objective\": \"binary\",\n",
    "    # \"objective\": \"binary:logistic\",\n",
    "    \"metric\": \"auc\",\n",
    "    \"learning_rate\": 0.1,\n",
    "    \"n_estimators\": 10000,\n",
    "    \"reg_lambda\": 50,\n",
    "    \"max_depth\": 4,\n",
    "    # \"gamma\": 4,\n",
    "    # \"nthread\": 6,\n",
    "    # \"seed\": 27,\n",
    "    'random_state':1    \n",
    "}"
   ]
  },
  {
   "cell_type": "code",
   "execution_count": 154,
   "metadata": {},
   "outputs": [],
   "source": [
    "model = lgb.LGBMClassifier(**params)"
   ]
  },
  {
   "cell_type": "code",
   "execution_count": 159,
   "metadata": {},
   "outputs": [
    {
     "name": "stdout",
     "output_type": "stream",
     "text": [
      "[10]\ttraining's auc: 0.868177\tvalid_1's auc: 0.870868\n",
      "[20]\ttraining's auc: 0.880629\tvalid_1's auc: 0.882281\n",
      "[30]\ttraining's auc: 0.889172\tvalid_1's auc: 0.890592\n",
      "[40]\ttraining's auc: 0.894552\tvalid_1's auc: 0.895923\n",
      "[50]\ttraining's auc: 0.898898\tvalid_1's auc: 0.899767\n",
      "[60]\ttraining's auc: 0.901509\tvalid_1's auc: 0.901741\n",
      "[70]\ttraining's auc: 0.904821\tvalid_1's auc: 0.903991\n",
      "[80]\ttraining's auc: 0.907752\tvalid_1's auc: 0.905976\n",
      "[90]\ttraining's auc: 0.909443\tvalid_1's auc: 0.907174\n",
      "[100]\ttraining's auc: 0.911736\tvalid_1's auc: 0.908881\n",
      "[110]\ttraining's auc: 0.9132\tvalid_1's auc: 0.909928\n",
      "[120]\ttraining's auc: 0.91466\tvalid_1's auc: 0.911154\n",
      "[130]\ttraining's auc: 0.916625\tvalid_1's auc: 0.912838\n",
      "[140]\ttraining's auc: 0.918151\tvalid_1's auc: 0.913919\n",
      "[150]\ttraining's auc: 0.919775\tvalid_1's auc: 0.915074\n",
      "[160]\ttraining's auc: 0.921685\tvalid_1's auc: 0.916431\n",
      "[170]\ttraining's auc: 0.923052\tvalid_1's auc: 0.917183\n",
      "[180]\ttraining's auc: 0.92438\tvalid_1's auc: 0.918001\n",
      "[190]\ttraining's auc: 0.925894\tvalid_1's auc: 0.919138\n",
      "[200]\ttraining's auc: 0.927317\tvalid_1's auc: 0.920413\n",
      "[210]\ttraining's auc: 0.928381\tvalid_1's auc: 0.921142\n",
      "[220]\ttraining's auc: 0.929228\tvalid_1's auc: 0.921581\n",
      "[230]\ttraining's auc: 0.930023\tvalid_1's auc: 0.922362\n",
      "[240]\ttraining's auc: 0.931004\tvalid_1's auc: 0.923044\n",
      "[250]\ttraining's auc: 0.932057\tvalid_1's auc: 0.923668\n",
      "[260]\ttraining's auc: 0.932772\tvalid_1's auc: 0.92399\n",
      "[270]\ttraining's auc: 0.933251\tvalid_1's auc: 0.924376\n",
      "[280]\ttraining's auc: 0.934238\tvalid_1's auc: 0.924869\n",
      "[290]\ttraining's auc: 0.935158\tvalid_1's auc: 0.925397\n",
      "[300]\ttraining's auc: 0.936006\tvalid_1's auc: 0.925852\n",
      "[310]\ttraining's auc: 0.93655\tvalid_1's auc: 0.926282\n",
      "[320]\ttraining's auc: 0.937461\tvalid_1's auc: 0.926701\n",
      "[330]\ttraining's auc: 0.938285\tvalid_1's auc: 0.927138\n",
      "[340]\ttraining's auc: 0.938992\tvalid_1's auc: 0.92765\n",
      "[350]\ttraining's auc: 0.939809\tvalid_1's auc: 0.928021\n",
      "[360]\ttraining's auc: 0.940376\tvalid_1's auc: 0.92833\n",
      "[370]\ttraining's auc: 0.940865\tvalid_1's auc: 0.928705\n",
      "[380]\ttraining's auc: 0.941485\tvalid_1's auc: 0.929038\n",
      "[390]\ttraining's auc: 0.942268\tvalid_1's auc: 0.929383\n",
      "[400]\ttraining's auc: 0.942885\tvalid_1's auc: 0.92965\n",
      "[410]\ttraining's auc: 0.94351\tvalid_1's auc: 0.930009\n",
      "[420]\ttraining's auc: 0.944044\tvalid_1's auc: 0.930258\n",
      "[430]\ttraining's auc: 0.944398\tvalid_1's auc: 0.930467\n",
      "[440]\ttraining's auc: 0.944858\tvalid_1's auc: 0.930774\n",
      "[450]\ttraining's auc: 0.945276\tvalid_1's auc: 0.930909\n",
      "[460]\ttraining's auc: 0.94563\tvalid_1's auc: 0.931104\n",
      "[470]\ttraining's auc: 0.945987\tvalid_1's auc: 0.931211\n",
      "[480]\ttraining's auc: 0.946627\tvalid_1's auc: 0.931673\n",
      "[490]\ttraining's auc: 0.947367\tvalid_1's auc: 0.932112\n",
      "[500]\ttraining's auc: 0.948039\tvalid_1's auc: 0.932573\n",
      "[510]\ttraining's auc: 0.948762\tvalid_1's auc: 0.933052\n",
      "[520]\ttraining's auc: 0.949089\tvalid_1's auc: 0.933214\n",
      "[530]\ttraining's auc: 0.949428\tvalid_1's auc: 0.93333\n",
      "[540]\ttraining's auc: 0.949625\tvalid_1's auc: 0.933479\n",
      "[550]\ttraining's auc: 0.950269\tvalid_1's auc: 0.933703\n",
      "[560]\ttraining's auc: 0.950729\tvalid_1's auc: 0.933844\n",
      "[570]\ttraining's auc: 0.951303\tvalid_1's auc: 0.934291\n",
      "[580]\ttraining's auc: 0.951666\tvalid_1's auc: 0.934429\n",
      "[590]\ttraining's auc: 0.951939\tvalid_1's auc: 0.934546\n",
      "[600]\ttraining's auc: 0.952173\tvalid_1's auc: 0.934721\n",
      "[610]\ttraining's auc: 0.952566\tvalid_1's auc: 0.934844\n",
      "[620]\ttraining's auc: 0.952949\tvalid_1's auc: 0.935046\n",
      "[630]\ttraining's auc: 0.953167\tvalid_1's auc: 0.935103\n",
      "[640]\ttraining's auc: 0.953613\tvalid_1's auc: 0.935389\n",
      "[650]\ttraining's auc: 0.954057\tvalid_1's auc: 0.935631\n",
      "[660]\ttraining's auc: 0.954445\tvalid_1's auc: 0.935828\n",
      "[670]\ttraining's auc: 0.954671\tvalid_1's auc: 0.935922\n",
      "[680]\ttraining's auc: 0.954896\tvalid_1's auc: 0.936138\n",
      "[690]\ttraining's auc: 0.955226\tvalid_1's auc: 0.936308\n",
      "[700]\ttraining's auc: 0.95561\tvalid_1's auc: 0.936469\n",
      "[710]\ttraining's auc: 0.955923\tvalid_1's auc: 0.936641\n",
      "[720]\ttraining's auc: 0.956144\tvalid_1's auc: 0.936885\n",
      "[730]\ttraining's auc: 0.95666\tvalid_1's auc: 0.93712\n",
      "[740]\ttraining's auc: 0.95699\tvalid_1's auc: 0.937284\n",
      "[750]\ttraining's auc: 0.95742\tvalid_1's auc: 0.937454\n",
      "[760]\ttraining's auc: 0.957643\tvalid_1's auc: 0.937558\n",
      "[770]\ttraining's auc: 0.957895\tvalid_1's auc: 0.937719\n",
      "[780]\ttraining's auc: 0.958183\tvalid_1's auc: 0.937895\n",
      "[790]\ttraining's auc: 0.958441\tvalid_1's auc: 0.938012\n",
      "[800]\ttraining's auc: 0.958753\tvalid_1's auc: 0.938197\n",
      "[810]\ttraining's auc: 0.959127\tvalid_1's auc: 0.938371\n",
      "[820]\ttraining's auc: 0.959344\tvalid_1's auc: 0.938482\n",
      "[830]\ttraining's auc: 0.95963\tvalid_1's auc: 0.938569\n",
      "[840]\ttraining's auc: 0.959914\tvalid_1's auc: 0.938726\n",
      "[850]\ttraining's auc: 0.960071\tvalid_1's auc: 0.938778\n",
      "[860]\ttraining's auc: 0.960361\tvalid_1's auc: 0.939033\n",
      "[870]\ttraining's auc: 0.960609\tvalid_1's auc: 0.939205\n",
      "[880]\ttraining's auc: 0.960846\tvalid_1's auc: 0.939296\n",
      "[890]\ttraining's auc: 0.961418\tvalid_1's auc: 0.939545\n",
      "[900]\ttraining's auc: 0.961759\tvalid_1's auc: 0.939911\n",
      "[910]\ttraining's auc: 0.962012\tvalid_1's auc: 0.939982\n",
      "[920]\ttraining's auc: 0.962371\tvalid_1's auc: 0.940154\n",
      "[930]\ttraining's auc: 0.962568\tvalid_1's auc: 0.940241\n",
      "[940]\ttraining's auc: 0.962733\tvalid_1's auc: 0.940352\n",
      "[950]\ttraining's auc: 0.963029\tvalid_1's auc: 0.940508\n",
      "[960]\ttraining's auc: 0.963337\tvalid_1's auc: 0.940606\n",
      "[970]\ttraining's auc: 0.963644\tvalid_1's auc: 0.940678\n",
      "[980]\ttraining's auc: 0.963839\tvalid_1's auc: 0.940767\n",
      "[990]\ttraining's auc: 0.964008\tvalid_1's auc: 0.940858\n",
      "[1000]\ttraining's auc: 0.964193\tvalid_1's auc: 0.940977\n",
      "[1010]\ttraining's auc: 0.964367\tvalid_1's auc: 0.941022\n",
      "[1020]\ttraining's auc: 0.964635\tvalid_1's auc: 0.941086\n",
      "[1030]\ttraining's auc: 0.964826\tvalid_1's auc: 0.941175\n",
      "[1040]\ttraining's auc: 0.965206\tvalid_1's auc: 0.941361\n",
      "[1050]\ttraining's auc: 0.965355\tvalid_1's auc: 0.941407\n",
      "[1060]\ttraining's auc: 0.965512\tvalid_1's auc: 0.941552\n",
      "[1070]\ttraining's auc: 0.965643\tvalid_1's auc: 0.941651\n",
      "[1080]\ttraining's auc: 0.965832\tvalid_1's auc: 0.941695\n",
      "[1090]\ttraining's auc: 0.966101\tvalid_1's auc: 0.941809\n",
      "[1100]\ttraining's auc: 0.966232\tvalid_1's auc: 0.941839\n",
      "[1110]\ttraining's auc: 0.966453\tvalid_1's auc: 0.941816\n",
      "[1120]\ttraining's auc: 0.966771\tvalid_1's auc: 0.941954\n",
      "[1130]\ttraining's auc: 0.967081\tvalid_1's auc: 0.942055\n",
      "[1140]\ttraining's auc: 0.967333\tvalid_1's auc: 0.942184\n",
      "[1150]\ttraining's auc: 0.967679\tvalid_1's auc: 0.942328\n",
      "[1160]\ttraining's auc: 0.967951\tvalid_1's auc: 0.942386\n",
      "[1170]\ttraining's auc: 0.968094\tvalid_1's auc: 0.942436\n",
      "[1180]\ttraining's auc: 0.968268\tvalid_1's auc: 0.942543\n",
      "[1190]\ttraining's auc: 0.968343\tvalid_1's auc: 0.942557\n",
      "[1200]\ttraining's auc: 0.968489\tvalid_1's auc: 0.942605\n",
      "[1210]\ttraining's auc: 0.96873\tvalid_1's auc: 0.942693\n",
      "[1220]\ttraining's auc: 0.969063\tvalid_1's auc: 0.942995\n",
      "[1230]\ttraining's auc: 0.969284\tvalid_1's auc: 0.94302\n",
      "[1240]\ttraining's auc: 0.969353\tvalid_1's auc: 0.94307\n",
      "[1250]\ttraining's auc: 0.969571\tvalid_1's auc: 0.943201\n",
      "[1260]\ttraining's auc: 0.969772\tvalid_1's auc: 0.943306\n",
      "[1270]\ttraining's auc: 0.969986\tvalid_1's auc: 0.943374\n",
      "[1280]\ttraining's auc: 0.970145\tvalid_1's auc: 0.943425\n",
      "[1290]\ttraining's auc: 0.970443\tvalid_1's auc: 0.943513\n",
      "[1300]\ttraining's auc: 0.970703\tvalid_1's auc: 0.943683\n",
      "[1310]\ttraining's auc: 0.970869\tvalid_1's auc: 0.943778\n",
      "[1320]\ttraining's auc: 0.971011\tvalid_1's auc: 0.943892\n",
      "[1330]\ttraining's auc: 0.971196\tvalid_1's auc: 0.943942\n",
      "[1340]\ttraining's auc: 0.971245\tvalid_1's auc: 0.943931\n",
      "[1350]\ttraining's auc: 0.971378\tvalid_1's auc: 0.943951\n",
      "[1360]\ttraining's auc: 0.971584\tvalid_1's auc: 0.944017\n",
      "[1370]\ttraining's auc: 0.971758\tvalid_1's auc: 0.944018\n",
      "[1380]\ttraining's auc: 0.972013\tvalid_1's auc: 0.94413\n",
      "[1390]\ttraining's auc: 0.972207\tvalid_1's auc: 0.944122\n",
      "[1400]\ttraining's auc: 0.972376\tvalid_1's auc: 0.94416\n",
      "[1410]\ttraining's auc: 0.972513\tvalid_1's auc: 0.944224\n",
      "[1420]\ttraining's auc: 0.972642\tvalid_1's auc: 0.944308\n",
      "[1430]\ttraining's auc: 0.972881\tvalid_1's auc: 0.9444\n",
      "[1440]\ttraining's auc: 0.972978\tvalid_1's auc: 0.944428\n",
      "[1450]\ttraining's auc: 0.973139\tvalid_1's auc: 0.944544\n",
      "[1460]\ttraining's auc: 0.973382\tvalid_1's auc: 0.944616\n",
      "[1470]\ttraining's auc: 0.973562\tvalid_1's auc: 0.944703\n",
      "[1480]\ttraining's auc: 0.973624\tvalid_1's auc: 0.94467\n",
      "[1490]\ttraining's auc: 0.973799\tvalid_1's auc: 0.944753\n",
      "[1500]\ttraining's auc: 0.974052\tvalid_1's auc: 0.944869\n",
      "[1510]\ttraining's auc: 0.974196\tvalid_1's auc: 0.944875\n",
      "[1520]\ttraining's auc: 0.974336\tvalid_1's auc: 0.945056\n",
      "[1530]\ttraining's auc: 0.974472\tvalid_1's auc: 0.945182\n",
      "[1540]\ttraining's auc: 0.974696\tvalid_1's auc: 0.945179\n",
      "[1550]\ttraining's auc: 0.974838\tvalid_1's auc: 0.945242\n",
      "[1560]\ttraining's auc: 0.974928\tvalid_1's auc: 0.945315\n",
      "[1570]\ttraining's auc: 0.975066\tvalid_1's auc: 0.945376\n",
      "[1580]\ttraining's auc: 0.97519\tvalid_1's auc: 0.945478\n",
      "[1590]\ttraining's auc: 0.975415\tvalid_1's auc: 0.945655\n",
      "[1600]\ttraining's auc: 0.975591\tvalid_1's auc: 0.94574\n",
      "[1610]\ttraining's auc: 0.975753\tvalid_1's auc: 0.945752\n",
      "[1620]\ttraining's auc: 0.975979\tvalid_1's auc: 0.945907\n",
      "[1630]\ttraining's auc: 0.976211\tvalid_1's auc: 0.945992\n",
      "[1640]\ttraining's auc: 0.976294\tvalid_1's auc: 0.946029\n",
      "[1650]\ttraining's auc: 0.97645\tvalid_1's auc: 0.946163\n",
      "[1660]\ttraining's auc: 0.976541\tvalid_1's auc: 0.946191\n",
      "[1670]\ttraining's auc: 0.976668\tvalid_1's auc: 0.946184\n",
      "[1680]\ttraining's auc: 0.976922\tvalid_1's auc: 0.946358\n",
      "[1690]\ttraining's auc: 0.977057\tvalid_1's auc: 0.946389\n",
      "[1700]\ttraining's auc: 0.977141\tvalid_1's auc: 0.946408\n",
      "[1710]\ttraining's auc: 0.977321\tvalid_1's auc: 0.946464\n",
      "[1720]\ttraining's auc: 0.977478\tvalid_1's auc: 0.946455\n",
      "[1730]\ttraining's auc: 0.977612\tvalid_1's auc: 0.946575\n",
      "[1740]\ttraining's auc: 0.977703\tvalid_1's auc: 0.946539\n",
      "[1750]\ttraining's auc: 0.977818\tvalid_1's auc: 0.946568\n",
      "[1760]\ttraining's auc: 0.977938\tvalid_1's auc: 0.946584\n",
      "[1770]\ttraining's auc: 0.978052\tvalid_1's auc: 0.946617\n",
      "[1780]\ttraining's auc: 0.978178\tvalid_1's auc: 0.946745\n",
      "[1790]\ttraining's auc: 0.978367\tvalid_1's auc: 0.946748\n",
      "[1800]\ttraining's auc: 0.9786\tvalid_1's auc: 0.946816\n",
      "[1810]\ttraining's auc: 0.978918\tvalid_1's auc: 0.947008\n",
      "[1820]\ttraining's auc: 0.979004\tvalid_1's auc: 0.947019\n",
      "[1830]\ttraining's auc: 0.979091\tvalid_1's auc: 0.947001\n",
      "[1840]\ttraining's auc: 0.979229\tvalid_1's auc: 0.947024\n",
      "[1850]\ttraining's auc: 0.979342\tvalid_1's auc: 0.947029\n",
      "[1860]\ttraining's auc: 0.979485\tvalid_1's auc: 0.947044\n",
      "[1870]\ttraining's auc: 0.979669\tvalid_1's auc: 0.947066\n",
      "[1880]\ttraining's auc: 0.9798\tvalid_1's auc: 0.947144\n",
      "[1890]\ttraining's auc: 0.979954\tvalid_1's auc: 0.947227\n",
      "[1900]\ttraining's auc: 0.980087\tvalid_1's auc: 0.94727\n",
      "[1910]\ttraining's auc: 0.980231\tvalid_1's auc: 0.947253\n",
      "[1920]\ttraining's auc: 0.980368\tvalid_1's auc: 0.947262\n",
      "[1930]\ttraining's auc: 0.980431\tvalid_1's auc: 0.94727\n",
      "[1940]\ttraining's auc: 0.980511\tvalid_1's auc: 0.947319\n",
      "[1950]\ttraining's auc: 0.980587\tvalid_1's auc: 0.947374\n",
      "[1960]\ttraining's auc: 0.980628\tvalid_1's auc: 0.947391\n",
      "[1970]\ttraining's auc: 0.980745\tvalid_1's auc: 0.947471\n",
      "[1980]\ttraining's auc: 0.980852\tvalid_1's auc: 0.947471\n",
      "[1990]\ttraining's auc: 0.980912\tvalid_1's auc: 0.947568\n",
      "[2000]\ttraining's auc: 0.980948\tvalid_1's auc: 0.947619\n",
      "[2010]\ttraining's auc: 0.981095\tvalid_1's auc: 0.9477\n",
      "[2020]\ttraining's auc: 0.981183\tvalid_1's auc: 0.947752\n",
      "[2030]\ttraining's auc: 0.981233\tvalid_1's auc: 0.947796\n",
      "[2040]\ttraining's auc: 0.981383\tvalid_1's auc: 0.947779\n",
      "[2050]\ttraining's auc: 0.981455\tvalid_1's auc: 0.947833\n",
      "[2060]\ttraining's auc: 0.981572\tvalid_1's auc: 0.947831\n",
      "[2070]\ttraining's auc: 0.981664\tvalid_1's auc: 0.947865\n",
      "[2080]\ttraining's auc: 0.981785\tvalid_1's auc: 0.948001\n",
      "[2090]\ttraining's auc: 0.98186\tvalid_1's auc: 0.948041\n",
      "[2100]\ttraining's auc: 0.981925\tvalid_1's auc: 0.948104\n",
      "[2110]\ttraining's auc: 0.981975\tvalid_1's auc: 0.948129\n",
      "[2120]\ttraining's auc: 0.982111\tvalid_1's auc: 0.948192\n",
      "[2130]\ttraining's auc: 0.982227\tvalid_1's auc: 0.948205\n",
      "[2140]\ttraining's auc: 0.982303\tvalid_1's auc: 0.948216\n",
      "[2150]\ttraining's auc: 0.982378\tvalid_1's auc: 0.948202\n",
      "[2160]\ttraining's auc: 0.982475\tvalid_1's auc: 0.948263\n",
      "[2170]\ttraining's auc: 0.982598\tvalid_1's auc: 0.948287\n",
      "[2180]\ttraining's auc: 0.982727\tvalid_1's auc: 0.948392\n",
      "[2190]\ttraining's auc: 0.982782\tvalid_1's auc: 0.948384\n",
      "[2200]\ttraining's auc: 0.982806\tvalid_1's auc: 0.94834\n",
      "[2210]\ttraining's auc: 0.982872\tvalid_1's auc: 0.948355\n",
      "[2220]\ttraining's auc: 0.982947\tvalid_1's auc: 0.948357\n",
      "[2230]\ttraining's auc: 0.983021\tvalid_1's auc: 0.948359\n",
      "[2240]\ttraining's auc: 0.983066\tvalid_1's auc: 0.948341\n"
     ]
    },
    {
     "data": {
      "text/plain": [
       "LGBMClassifier(max_depth=4, metric='auc', n_estimators=10000,\n",
       "               objective='binary', random_state=1, reg_lambda=50)"
      ]
     },
     "execution_count": 159,
     "metadata": {},
     "output_type": "execute_result"
    }
   ],
   "source": [
    "model.fit(\n",
    "    X=x_train_1,\n",
    "    y=y_train_1,\n",
    "    eval_set=[(x_train_1, y_train_1),(x_test_1, y_test_1) ],\n",
    "    early_stopping_rounds=50,\n",
    "    categorical_feature=categorical,\n",
    "    # num_boost_round=100,\n",
    "    eval_metric=\"auc\",\n",
    "    verbose=10\n",
    ")"
   ]
  },
  {
   "cell_type": "code",
   "execution_count": 175,
   "metadata": {},
   "outputs": [
    {
     "name": "stdout",
     "output_type": "stream",
     "text": [
      "Train-score: 0.815, Test-score: 0.817, LB-score: 0.64\n"
     ]
    }
   ],
   "source": [
    "train_score =  roc_auc_score(y_train_1, model.predict(x_train_1))\n",
    "test_score = roc_auc_score(y_test_1, model.predict(x_test_1))\n",
    "# val_score = roc_auc_score(y_val_1, model.predict(x_val_1))\n",
    "lb_score = roc_auc_score(y_lb, model.predict(x_lb))\n",
    "# print(f\"Val-score: {round(val_score, 3)}, Lb-score: {round(lb_score, 3)} \")\n",
    "\n",
    "print(f\"Train-score: {round(train_score, 3)}, Test-score: {round(test_score, 3)}, LB-score: {round(lb_score, 3)}\")"
   ]
  },
  {
   "cell_type": "code",
   "execution_count": 177,
   "metadata": {},
   "outputs": [
    {
     "name": "stdout",
     "output_type": "stream",
     "text": [
      "Val-score: 0.0, Lb-score: 0.423 \n",
      "Train-score: 0.763, Test-score: 0.767\n"
     ]
    }
   ],
   "source": [
    "train_score =  f1_score(y_train_1, model.predict(x_train_1))\n",
    "test_score =  f1_score(y_test_1, model.predict(x_test_1))\n",
    "val_score = f1_score(y_val_1, model.predict(x_val_1))\n",
    "lb_score = f1_score(y_lb, model.predict(x_lb))\n",
    "\n",
    "print(f\"Val-score: {round(val_score, 3)}, Lb-score: {round(lb_score, 3)} \")\n",
    "print(f\"Train-score: {round(train_score, 3)}, Test-score: {round(test_score, 3)}\")"
   ]
  },
  {
   "cell_type": "code",
   "execution_count": null,
   "metadata": {},
   "outputs": [],
   "source": [
    "Далее необходимо подобрать параметры, которые похожи на данные лидерборда."
   ]
  },
  {
   "cell_type": "code",
   "execution_count": null,
   "metadata": {},
   "outputs": [],
   "source": [
    "видно что объекты содержт выбросы. ==> их необходимо почистить. убрать лишние и обрезать. "
   ]
  },
  {
   "cell_type": "markdown",
   "metadata": {},
   "source": [
    "## Задание 5.\n",
    "\n",
    "Сделать KFold / StratifiedKFold валидацию (на ваше усмотрение), оценить получаемые качество и разброс по метрике качества. Сделать выводы об устойчивости кросс-валидации, сходимости оценки на кросс-валидации и отложенном наборе данных; Оценить качество на ЛБ, сделать выводы.\n"
   ]
  },
  {
   "cell_type": "code",
   "execution_count": 178,
   "metadata": {},
   "outputs": [],
   "source": [
    "def make_cross_validation(X: pd.DataFrame,\n",
    "                          y: pd.Series,\n",
    "                          estimator: object,\n",
    "                          metric: callable,\n",
    "                          cv_strategy):\n",
    "    \"\"\"\n",
    "    Кросс-валидация.\n",
    "\n",
    "    Parameters\n",
    "    ----------\n",
    "    X: pd.DataFrame\n",
    "        Матрица признаков.\n",
    "\n",
    "    y: pd.Series\n",
    "        Вектор целевой переменной.\n",
    "\n",
    "    estimator: callable\n",
    "        Объект модели для обучения.\n",
    "\n",
    "    metric: callable\n",
    "        Метрика для оценки качества решения.\n",
    "        Ожидается, что на вход будет передана функция,\n",
    "        которая принимает 2 аргумента: y_true, y_pred.\n",
    "\n",
    "    cv_strategy: cross-validation generator\n",
    "        Объект для описания стратегии кросс-валидации.\n",
    "        Ожидается, что на вход будет передан объект типа\n",
    "        KFold или StratifiedKFold.\n",
    "\n",
    "    Returns\n",
    "    -------\n",
    "    oof_score: float\n",
    "        Значение метрики качества на OOF-прогнозах.\n",
    "\n",
    "    fold_train_scores: List[float]\n",
    "        Значение метрики качества на каждом обучающем датасете кросс-валидации.\n",
    "\n",
    "    fold_valid_scores: List[float]\n",
    "        Значение метрики качества на каждом валидационном датасете кросс-валидации.\n",
    "\n",
    "    oof_predictions: np.array\n",
    "        Прогнозы на OOF.\n",
    "\n",
    "    \"\"\"\n",
    "    estimators, fold_train_scores, fold_valid_scores = [], [], []\n",
    "    oof_predictions = np.zeros(X.shape[0])\n",
    "\n",
    "    for fold_number, (train_idx, valid_idx) in enumerate(cv_strategy.split(X, y)):\n",
    "        x_train, x_valid = X.loc[train_idx], X.loc[valid_idx]\n",
    "        y_train, y_valid = y.loc[train_idx], y.loc[valid_idx]\n",
    "\n",
    "        estimator.fit(x_train, y_train)\n",
    "        y_train_pred = estimator.predict(x_train)\n",
    "        y_valid_pred = estimator.predict(x_valid)\n",
    "\n",
    "        fold_train_scores.append(metric(y_train, y_train_pred))\n",
    "        fold_valid_scores.append(metric(y_valid, y_valid_pred))\n",
    "        oof_predictions[valid_idx] = y_valid_pred\n",
    "\n",
    "        msg = (\n",
    "            f\"Fold: {fold_number+1}, train-observations = {len(train_idx)}, \"\n",
    "            f\"valid-observations = {len(valid_idx)}\\n\"\n",
    "            f\"train-score = {round(fold_train_scores[fold_number], 4)}, \"\n",
    "            f\"valid-score = {round(fold_valid_scores[fold_number], 4)}\" \n",
    "        )\n",
    "        print(msg)\n",
    "        print(\"=\"*69)\n",
    "        estimators.append(estimator)\n",
    "\n",
    "    oof_score = metric(y, oof_predictions)\n",
    "    print(f\"CV-results train: {round(np.mean(fold_train_scores), 4)} +/- {round(np.std(fold_train_scores), 3)}\")\n",
    "    print(f\"CV-results valid: {round(np.mean(fold_valid_scores), 4)} +/- {round(np.std(fold_valid_scores), 3)}\")\n",
    "    print(f\"OOF-score = {round(oof_score, 4)}\")\n",
    "\n",
    "    return estimators, oof_score, fold_train_scores, fold_valid_scores, oof_predictions"
   ]
  },
  {
   "cell_type": "code",
   "execution_count": 179,
   "metadata": {},
   "outputs": [
    {
     "name": "stdout",
     "output_type": "stream",
     "text": [
      "Fold: 1, train-observations = 80000, valid-observations = 20001\n",
      "train-score = 0.9637, valid-score = 0.8134\n",
      "=====================================================================\n",
      "Fold: 2, train-observations = 80001, valid-observations = 20000\n",
      "train-score = 0.965, valid-score = 0.8202\n",
      "=====================================================================\n",
      "Fold: 3, train-observations = 80001, valid-observations = 20000\n",
      "train-score = 0.9592, valid-score = 0.8173\n",
      "=====================================================================\n",
      "Fold: 4, train-observations = 80001, valid-observations = 20000\n",
      "train-score = 0.9621, valid-score = 0.8192\n",
      "=====================================================================\n",
      "Fold: 5, train-observations = 80001, valid-observations = 20000\n",
      "train-score = 0.9627, valid-score = 0.8146\n",
      "=====================================================================\n",
      "CV-results train: 0.9626 +/- 0.002\n",
      "CV-results valid: 0.817 +/- 0.003\n",
      "OOF-score = 0.817\n"
     ]
    }
   ],
   "source": [
    "cv_strategy = KFold(n_splits=5, random_state=1, shuffle=True)\n",
    "\n",
    "estimators, oof_score, fold_train_scores, fold_valid_scores, oof_predictions = make_cross_validation(\n",
    "   x_lb, y_lb, model, metric=roc_auc_score, cv_strategy=cv_strategy\n",
    ")"
   ]
  },
  {
   "cell_type": "code",
   "execution_count": 180,
   "metadata": {},
   "outputs": [
    {
     "name": "stdout",
     "output_type": "stream",
     "text": [
      "Fold: 1, train-observations = 80000, valid-observations = 20001\n",
      "train-score = 0.9647, valid-score = 0.8114\n",
      "=====================================================================\n",
      "Fold: 2, train-observations = 80001, valid-observations = 20000\n",
      "train-score = 0.9638, valid-score = 0.8313\n",
      "=====================================================================\n",
      "Fold: 3, train-observations = 80001, valid-observations = 20000\n",
      "train-score = 0.962, valid-score = 0.8218\n",
      "=====================================================================\n",
      "Fold: 4, train-observations = 80001, valid-observations = 20000\n",
      "train-score = 0.9633, valid-score = 0.8199\n",
      "=====================================================================\n",
      "Fold: 5, train-observations = 80001, valid-observations = 20000\n",
      "train-score = 0.964, valid-score = 0.8062\n",
      "=====================================================================\n",
      "CV-results train: 0.9636 +/- 0.001\n",
      "CV-results valid: 0.8181 +/- 0.009\n",
      "OOF-score = 0.8181\n"
     ]
    }
   ],
   "source": [
    "cv_strategy = StratifiedKFold(n_splits=5, random_state=1, shuffle=True)\n",
    "\n",
    "estimators, oof_score, fold_train_scores, fold_valid_scores, oof_predictions = make_cross_validation(\n",
    "   x_lb, y_lb, model, metric=roc_auc_score, cv_strategy=cv_strategy\n",
    ")"
   ]
  },
  {
   "cell_type": "markdown",
   "metadata": {},
   "source": [
    "## Задание 6 (опциональное).\n",
    "\n",
    "Сделать Hold-Out валидацию по времени (`TransactionDT`), повторить процедуры из п.1 / п.2 (на ваш выбор). Построить доверительный интервал, сравнить качество на ЛБ выборке с полученным доверительным интервалом. Сделать выводы.\n"
   ]
  },
  {
   "cell_type": "code",
   "execution_count": null,
   "metadata": {},
   "outputs": [],
   "source": []
  },
  {
   "cell_type": "code",
   "execution_count": null,
   "metadata": {},
   "outputs": [],
   "source": []
  },
  {
   "cell_type": "markdown",
   "metadata": {},
   "source": [
    "## Задание 7 (совсем опциональное).\n",
    "\n",
    "В данном наборе данных у нас есть ID-транзакции (`TransactionID`) и время транзакции (`TransactionDT`), но отсутствует ID-клиента, который совершал транзакции. Кажется, что в этой задаче валидация по клиенту работала бы хорошо. Предложить критерий, по которому можно выделить клиентов и сделать п.5, используя созданное определение клиента, используя валидацию по клиенту (`GroupKFold`)."
   ]
  },
  {
   "cell_type": "code",
   "execution_count": null,
   "metadata": {},
   "outputs": [],
   "source": []
  },
  {
   "cell_type": "code",
   "execution_count": null,
   "metadata": {},
   "outputs": [],
   "source": []
  }
 ],
 "metadata": {
  "interpreter": {
   "hash": "da538714de4b70115e547d177ba7403fcac2bb9e900966344e6205f669f7f42f"
  },
  "kernelspec": {
   "display_name": "Python 3.8.11 64-bit ('nlp_env': conda)",
   "name": "python3"
  },
  "language_info": {
   "codemirror_mode": {
    "name": "ipython",
    "version": 3
   },
   "file_extension": ".py",
   "mimetype": "text/x-python",
   "name": "python",
   "nbconvert_exporter": "python",
   "pygments_lexer": "ipython3",
   "version": "3.8.11"
  }
 },
 "nbformat": 4,
 "nbformat_minor": 2
}
