{
 "cells": [
  {
   "cell_type": "markdown",
   "metadata": {},
   "source": [
    "# Урок 3. Построение надежных схем валидации решения, оптимизация целевых метрик"
   ]
  },
  {
   "cell_type": "markdown",
   "metadata": {},
   "source": [
    "**Основное задание:**\n",
    "Даны выборки для обучения и для тестирования. Задание заключается в том, чтобы попробовать разные способы валидации, проанализировать плюсы / минусы каждой и сделать выводы о том, какой способ валидации наиболее устойчивый в данной задаче. Метрика качества для оценки прогнозов \\- **ROC-AUC**, название целевой переменной \\- **IsFraud**. Рекомендуется использовать модели градиетного бустинга, реализация любая / гипепараметры любые. **Внимание!** выборка `assignment_2_test.csv` \\- наш аналог лидерборда. Будем моделировать ситуацию отправки решения на лидерборд и сравнить значение метрики на лидерборде и на локальной валидации. **Для других целей использовать выборку запрещено!**.\n",
    "​\n",
    "**Терминалогия, используемая в задании:**\n",
    "\\* обучающая выборка \\- выборка, которая передается в метод `fit` / `train`;\n",
    "\\* валидационная выборка \\- выборка, которая получается при Hold-Out на 2 выборки (`train`, `valid`);\n",
    "\\* тестовая выборка \\- выборка, которая получается при Hold-Out на 3 выборки (`train`, `valid`, `test`);\n",
    "\\* ЛБ \\- лидерборд, выборка `assignment_2_test.csv`.\n",
    "​\n",
    "**Задание 1:** сделать Hold-Out валидацию с разбиением, размер которого будет адеквтаным, по вашему мнению; разбиение проводить по id-транзакции (`TransactionID`), обучать модель градиетного бустинга любой реализации с подбором числа деревьев по early_stopping критерию до достижения сходимости. Оценить качество модели на валидационной выборке, оценить расхождение по сравнению с качеством на обучающей выборке и валидационной выборке. Оценить качество на ЛБ, сравнить с качеством на обучении и валидации. Сделать выводы.\n",
    "​\n",
    "**Задание 2:** сделать Hold-Out валидацию с разбиением на 3 выборки, разбиение проводить по id-транзакции (TransactionID), размер каждой выборки подобрать самостоятельно. Повторить процедуру из п.1. для каждой выборки.\n",
    "​\n",
    "**Задание 3:** построить доверительный интервал на данных из п.2 на основе **бутстреп** выборок, оценить качество модели на ЛБ относительно полученного доверительного интервала. Сделать выводы.\n",
    "​\n",
    "**Задание 4:** выполнить `Adversarial Validation`, подобрать объекты из обучающей выборки, которые сильно похожи на объекты из `assignment_2_test.csv`, и использовать их в качестве валидационного набора. Оценить качество модели на ЛБ, сделать выводы о полученных результатах.\n",
    "​\n",
    "**Задание 5:** сделать KFold / StratifiedKFold валидацию (на ваше усмотрение), оценить получаемые качество и разброс по метрике качества. Сделать выводы об устойчивости кросс-валидации, сходимости оценки на кросс-валидации и отложенном наборе данных; Оценить качество на ЛБ, сделать выводы.\n",
    "​\n",
    "**Задание 6** (опциональное): сделать Hold-Out валидацию по времени (`TransactionDT`), повторить процедуры из п.1 / п.2 (на ваш выбор). Построить доверительный интервал, сравнить качество на ЛБ выборке с полученным доверительным интервалом. Сделать выводы.\n",
    "​\n",
    "**Задание 7** (совсем опциональное): в данном наборе данных у нас есть ID-транзакции (`TransactionID`) и время транзакции (`TransactionDT`), но отсутствует ID-клиента, который совершал транзакции. Кажется, что в этой задаче валидация по клиенту работала бы хорошо. Предложить критерий, по которому можно выделить клиентов и сделать п.5, используя созданное определение клиента, используя валидацию по клиенту (`GroupKFold`)."
   ]
  },
  {
   "cell_type": "code",
   "execution_count": 1,
   "metadata": {},
   "outputs": [],
   "source": [
    "import numpy as np\n",
    "import pandas as pd\n",
    "import xgboost as xgb\n",
    "import catboost as cb\n",
    "import lightgbm as lgb\n",
    "import matplotlib.pyplot as plt\n",
    "import missingno as msno\n",
    "from sklearn import metrics\n",
    "\n",
    "from sklearn.model_selection import train_test_split\n",
    "from sklearn.metrics import roc_auc_score\n",
    "\n",
    "import seaborn as sns\n",
    "import scipy.stats as st\n",
    "\n",
    "import warnings\n",
    "warnings.simplefilter(\"ignore\")\n",
    "\n",
    "import warnings\n",
    "from tqdm import tqdm\n",
    "from typing import List, Tuple\n",
    "\n",
    "from scipy.stats import ttest_rel\n",
    "\n",
    "# from sklearn.metrics import r2_score\n",
    "from sklearn.ensemble import RandomForestRegressor\n",
    "from sklearn.model_selection import KFold, StratifiedKFold, train_test_split, cross_val_score\n",
    "\n",
    "warnings.simplefilter(\"ignore\")\n",
    "%matplotlib inline"
   ]
  },
  {
   "cell_type": "markdown",
   "metadata": {},
   "source": [
    "https://www.kaggle.com/jtrotman/ieee-fraud-adversarial-lgb-split-points\n",
    "https://dyakonov.org/2019/03/22/%D0%BF%D0%BE%D0%B4%D0%BC%D0%B5%D0%BD%D0%B0-%D0%B7%D0%B0%D0%B4%D0%B0%D1%87%D0%B8-%D0%B2-ml/\n",
    "https://towardsdatascience.com/adversarial-validation-ca69303543cd\n",
    "https://github.com/zjost/blog_code/blob/master/adversarial_validation/adversarial-validation-example.ipynb"
   ]
  },
  {
   "cell_type": "code",
   "execution_count": 3,
   "metadata": {},
   "outputs": [],
   "source": [
    "public_df = pd.read_csv('../assignment2_data/assignment_2_train.csv')\n",
    "private_df = pd.read_csv('../assignment2_data/assignment_2_test.csv')"
   ]
  },
  {
   "cell_type": "code",
   "execution_count": 4,
   "metadata": {},
   "outputs": [
    {
     "name": "stdout",
     "output_type": "stream",
     "text": [
      "public_df.shape = 180000 rows, 394 cols\n",
      "private_df.shape = 100001 rows, 394 cols\n"
     ]
    }
   ],
   "source": [
    "print(\"public_df.shape = {} rows, {} cols\".format(*public_df.shape))\n",
    "print(\"private_df.shape = {} rows, {} cols\".format(*private_df.shape))"
   ]
  },
  {
   "cell_type": "code",
   "execution_count": 5,
   "metadata": {},
   "outputs": [
    {
     "data": {
      "text/html": [
       "<div>\n",
       "<style scoped>\n",
       "    .dataframe tbody tr th:only-of-type {\n",
       "        vertical-align: middle;\n",
       "    }\n",
       "\n",
       "    .dataframe tbody tr th {\n",
       "        vertical-align: top;\n",
       "    }\n",
       "\n",
       "    .dataframe thead th {\n",
       "        text-align: right;\n",
       "    }\n",
       "</style>\n",
       "<table border=\"1\" class=\"dataframe\">\n",
       "  <thead>\n",
       "    <tr style=\"text-align: right;\">\n",
       "      <th></th>\n",
       "      <th>TransactionID</th>\n",
       "      <th>isFraud</th>\n",
       "      <th>TransactionDT</th>\n",
       "      <th>TransactionAmt</th>\n",
       "      <th>ProductCD</th>\n",
       "      <th>card1</th>\n",
       "      <th>card2</th>\n",
       "      <th>card3</th>\n",
       "      <th>card4</th>\n",
       "      <th>card5</th>\n",
       "      <th>...</th>\n",
       "      <th>V330</th>\n",
       "      <th>V331</th>\n",
       "      <th>V332</th>\n",
       "      <th>V333</th>\n",
       "      <th>V334</th>\n",
       "      <th>V335</th>\n",
       "      <th>V336</th>\n",
       "      <th>V337</th>\n",
       "      <th>V338</th>\n",
       "      <th>V339</th>\n",
       "    </tr>\n",
       "  </thead>\n",
       "  <tbody>\n",
       "    <tr>\n",
       "      <th>0</th>\n",
       "      <td>2987000</td>\n",
       "      <td>0</td>\n",
       "      <td>86400</td>\n",
       "      <td>68.5</td>\n",
       "      <td>W</td>\n",
       "      <td>13926</td>\n",
       "      <td>NaN</td>\n",
       "      <td>150.0</td>\n",
       "      <td>discover</td>\n",
       "      <td>142.0</td>\n",
       "      <td>...</td>\n",
       "      <td>NaN</td>\n",
       "      <td>NaN</td>\n",
       "      <td>NaN</td>\n",
       "      <td>NaN</td>\n",
       "      <td>NaN</td>\n",
       "      <td>NaN</td>\n",
       "      <td>NaN</td>\n",
       "      <td>NaN</td>\n",
       "      <td>NaN</td>\n",
       "      <td>NaN</td>\n",
       "    </tr>\n",
       "    <tr>\n",
       "      <th>1</th>\n",
       "      <td>2987001</td>\n",
       "      <td>0</td>\n",
       "      <td>86401</td>\n",
       "      <td>29.0</td>\n",
       "      <td>W</td>\n",
       "      <td>2755</td>\n",
       "      <td>404.0</td>\n",
       "      <td>150.0</td>\n",
       "      <td>mastercard</td>\n",
       "      <td>102.0</td>\n",
       "      <td>...</td>\n",
       "      <td>NaN</td>\n",
       "      <td>NaN</td>\n",
       "      <td>NaN</td>\n",
       "      <td>NaN</td>\n",
       "      <td>NaN</td>\n",
       "      <td>NaN</td>\n",
       "      <td>NaN</td>\n",
       "      <td>NaN</td>\n",
       "      <td>NaN</td>\n",
       "      <td>NaN</td>\n",
       "    </tr>\n",
       "    <tr>\n",
       "      <th>2</th>\n",
       "      <td>2987002</td>\n",
       "      <td>0</td>\n",
       "      <td>86469</td>\n",
       "      <td>59.0</td>\n",
       "      <td>W</td>\n",
       "      <td>4663</td>\n",
       "      <td>490.0</td>\n",
       "      <td>150.0</td>\n",
       "      <td>visa</td>\n",
       "      <td>166.0</td>\n",
       "      <td>...</td>\n",
       "      <td>NaN</td>\n",
       "      <td>NaN</td>\n",
       "      <td>NaN</td>\n",
       "      <td>NaN</td>\n",
       "      <td>NaN</td>\n",
       "      <td>NaN</td>\n",
       "      <td>NaN</td>\n",
       "      <td>NaN</td>\n",
       "      <td>NaN</td>\n",
       "      <td>NaN</td>\n",
       "    </tr>\n",
       "  </tbody>\n",
       "</table>\n",
       "<p>3 rows × 394 columns</p>\n",
       "</div>"
      ],
      "text/plain": [
       "   TransactionID  isFraud  TransactionDT  TransactionAmt ProductCD  card1  \\\n",
       "0        2987000        0          86400            68.5         W  13926   \n",
       "1        2987001        0          86401            29.0         W   2755   \n",
       "2        2987002        0          86469            59.0         W   4663   \n",
       "\n",
       "   card2  card3       card4  card5  ... V330  V331  V332  V333  V334 V335  \\\n",
       "0    NaN  150.0    discover  142.0  ...  NaN   NaN   NaN   NaN   NaN  NaN   \n",
       "1  404.0  150.0  mastercard  102.0  ...  NaN   NaN   NaN   NaN   NaN  NaN   \n",
       "2  490.0  150.0        visa  166.0  ...  NaN   NaN   NaN   NaN   NaN  NaN   \n",
       "\n",
       "  V336  V337  V338  V339  \n",
       "0  NaN   NaN   NaN   NaN  \n",
       "1  NaN   NaN   NaN   NaN  \n",
       "2  NaN   NaN   NaN   NaN  \n",
       "\n",
       "[3 rows x 394 columns]"
      ]
     },
     "execution_count": 5,
     "metadata": {},
     "output_type": "execute_result"
    }
   ],
   "source": [
    "public_df.head(3)"
   ]
  },
  {
   "cell_type": "code",
   "execution_count": 6,
   "metadata": {},
   "outputs": [
    {
     "data": {
      "text/plain": [
       "180000"
      ]
     },
     "execution_count": 6,
     "metadata": {},
     "output_type": "execute_result"
    }
   ],
   "source": [
    "len(public_df['TransactionID'].value_counts())"
   ]
  },
  {
   "cell_type": "code",
   "execution_count": 7,
   "metadata": {},
   "outputs": [
    {
     "data": {
      "text/html": [
       "<div>\n",
       "<style scoped>\n",
       "    .dataframe tbody tr th:only-of-type {\n",
       "        vertical-align: middle;\n",
       "    }\n",
       "\n",
       "    .dataframe tbody tr th {\n",
       "        vertical-align: top;\n",
       "    }\n",
       "\n",
       "    .dataframe thead th {\n",
       "        text-align: right;\n",
       "    }\n",
       "</style>\n",
       "<table border=\"1\" class=\"dataframe\">\n",
       "  <thead>\n",
       "    <tr style=\"text-align: right;\">\n",
       "      <th></th>\n",
       "      <th>TransactionID</th>\n",
       "      <th>isFraud</th>\n",
       "      <th>TransactionDT</th>\n",
       "      <th>TransactionAmt</th>\n",
       "      <th>addr1</th>\n",
       "      <th>addr2</th>\n",
       "    </tr>\n",
       "  </thead>\n",
       "  <tbody>\n",
       "    <tr>\n",
       "      <th>0</th>\n",
       "      <td>2987000</td>\n",
       "      <td>0</td>\n",
       "      <td>86400</td>\n",
       "      <td>68.50</td>\n",
       "      <td>315.0</td>\n",
       "      <td>87.0</td>\n",
       "    </tr>\n",
       "    <tr>\n",
       "      <th>1</th>\n",
       "      <td>2987001</td>\n",
       "      <td>0</td>\n",
       "      <td>86401</td>\n",
       "      <td>29.00</td>\n",
       "      <td>325.0</td>\n",
       "      <td>87.0</td>\n",
       "    </tr>\n",
       "    <tr>\n",
       "      <th>2</th>\n",
       "      <td>2987002</td>\n",
       "      <td>0</td>\n",
       "      <td>86469</td>\n",
       "      <td>59.00</td>\n",
       "      <td>330.0</td>\n",
       "      <td>87.0</td>\n",
       "    </tr>\n",
       "    <tr>\n",
       "      <th>3</th>\n",
       "      <td>2987003</td>\n",
       "      <td>0</td>\n",
       "      <td>86499</td>\n",
       "      <td>50.00</td>\n",
       "      <td>476.0</td>\n",
       "      <td>87.0</td>\n",
       "    </tr>\n",
       "    <tr>\n",
       "      <th>4</th>\n",
       "      <td>2987004</td>\n",
       "      <td>0</td>\n",
       "      <td>86506</td>\n",
       "      <td>50.00</td>\n",
       "      <td>420.0</td>\n",
       "      <td>87.0</td>\n",
       "    </tr>\n",
       "    <tr>\n",
       "      <th>...</th>\n",
       "      <td>...</td>\n",
       "      <td>...</td>\n",
       "      <td>...</td>\n",
       "      <td>...</td>\n",
       "      <td>...</td>\n",
       "      <td>...</td>\n",
       "    </tr>\n",
       "    <tr>\n",
       "      <th>179995</th>\n",
       "      <td>3166995</td>\n",
       "      <td>0</td>\n",
       "      <td>3958217</td>\n",
       "      <td>39.00</td>\n",
       "      <td>272.0</td>\n",
       "      <td>87.0</td>\n",
       "    </tr>\n",
       "    <tr>\n",
       "      <th>179996</th>\n",
       "      <td>3166996</td>\n",
       "      <td>0</td>\n",
       "      <td>3958237</td>\n",
       "      <td>59.95</td>\n",
       "      <td>315.0</td>\n",
       "      <td>87.0</td>\n",
       "    </tr>\n",
       "    <tr>\n",
       "      <th>179997</th>\n",
       "      <td>3166997</td>\n",
       "      <td>0</td>\n",
       "      <td>3958241</td>\n",
       "      <td>34.00</td>\n",
       "      <td>330.0</td>\n",
       "      <td>87.0</td>\n",
       "    </tr>\n",
       "    <tr>\n",
       "      <th>179998</th>\n",
       "      <td>3166998</td>\n",
       "      <td>0</td>\n",
       "      <td>3958260</td>\n",
       "      <td>59.00</td>\n",
       "      <td>272.0</td>\n",
       "      <td>87.0</td>\n",
       "    </tr>\n",
       "    <tr>\n",
       "      <th>179999</th>\n",
       "      <td>3166999</td>\n",
       "      <td>0</td>\n",
       "      <td>3958317</td>\n",
       "      <td>226.00</td>\n",
       "      <td>123.0</td>\n",
       "      <td>87.0</td>\n",
       "    </tr>\n",
       "  </tbody>\n",
       "</table>\n",
       "<p>180000 rows × 6 columns</p>\n",
       "</div>"
      ],
      "text/plain": [
       "        TransactionID  isFraud  TransactionDT  TransactionAmt  addr1  addr2\n",
       "0             2987000        0          86400           68.50  315.0   87.0\n",
       "1             2987001        0          86401           29.00  325.0   87.0\n",
       "2             2987002        0          86469           59.00  330.0   87.0\n",
       "3             2987003        0          86499           50.00  476.0   87.0\n",
       "4             2987004        0          86506           50.00  420.0   87.0\n",
       "...               ...      ...            ...             ...    ...    ...\n",
       "179995        3166995        0        3958217           39.00  272.0   87.0\n",
       "179996        3166996        0        3958237           59.95  315.0   87.0\n",
       "179997        3166997        0        3958241           34.00  330.0   87.0\n",
       "179998        3166998        0        3958260           59.00  272.0   87.0\n",
       "179999        3166999        0        3958317          226.00  123.0   87.0\n",
       "\n",
       "[180000 rows x 6 columns]"
      ]
     },
     "execution_count": 7,
     "metadata": {},
     "output_type": "execute_result"
    }
   ],
   "source": [
    "public_df[['TransactionID','isFraud','TransactionDT','TransactionAmt','addr1','addr2']]"
   ]
  },
  {
   "cell_type": "markdown",
   "metadata": {},
   "source": [
    "## Задание 1.\n",
    "\n",
    "Cделать Hold-Out валидацию с разбиением, размер которого будет\n",
    " адеквтаным, по вашему мнению; разбиение проводить по id-транзакции (TransactionID),\n",
    " обучать модель градиетного бустинга любой реализации с подбором числа деревьев\n",
    " по `early_stopping` критерию до достижения сходимости. Оценить качество модели на \n",
    " валидационной выборке, оценить расхождение по сравнению с качеством на обучающей выборке\n",
    " и валидационной выборке. Оценить качество на ЛБ, сравнить с качеством на обучении и валидации.\n",
    " Сделать выводы."
   ]
  },
  {
   "cell_type": "code",
   "execution_count": 10,
   "metadata": {},
   "outputs": [],
   "source": [
    "# Разделим выборки на тренировчную, тестовую и валидационную.\n",
    "\n",
    "x_train, x_test = train_test_split(public_df.drop([\"TransactionID\", \"isFraud\"], axis=1), train_size=0.60, shuffle=False, random_state=1,)\n",
    "y_train, y_test = train_test_split(public_df[\"isFraud\"], train_size=0.60, shuffle=False, random_state=1,) # В данных имеется временная зависимость, поэтому пока перемешивать ничего не будем."
   ]
  },
  {
   "cell_type": "code",
   "execution_count": null,
   "metadata": {},
   "outputs": [],
   "source": [
    "x_lb = private_df.drop([\"TransactionID\", \"isFraud\"], axis=1)\n",
    "y_lb = private_df[\"isFraud\"]"
   ]
  },
  {
   "cell_type": "code",
   "execution_count": 12,
   "metadata": {},
   "outputs": [
    {
     "name": "stdout",
     "output_type": "stream",
     "text": [
      "x_train.shape = 108000 rows, 392 cols\n",
      "x_test.shape = 72000 rows, 392 cols\n"
     ]
    }
   ],
   "source": [
    "print(\"x_train.shape = {} rows, {} cols\".format(*x_train.shape))\n",
    "print(\"x_test.shape = {} rows, {} cols\".format(*x_test.shape))"
   ]
  },
  {
   "cell_type": "code",
   "execution_count": 13,
   "metadata": {},
   "outputs": [],
   "source": [
    "# Получим список катероиальных и числовых признаков.\n",
    "\n",
    "categorical = []\n",
    "numerical = []\n",
    "for col, value in x_train.iteritems():\n",
    "    if value.dtype == 'object':\n",
    "        categorical.append(col)\n",
    "    else:\n",
    "        numerical.append(col)"
   ]
  },
  {
   "cell_type": "code",
   "execution_count": 14,
   "metadata": {},
   "outputs": [
    {
     "data": {
      "text/html": [
       "<div>\n",
       "<style scoped>\n",
       "    .dataframe tbody tr th:only-of-type {\n",
       "        vertical-align: middle;\n",
       "    }\n",
       "\n",
       "    .dataframe tbody tr th {\n",
       "        vertical-align: top;\n",
       "    }\n",
       "\n",
       "    .dataframe thead th {\n",
       "        text-align: right;\n",
       "    }\n",
       "</style>\n",
       "<table border=\"1\" class=\"dataframe\">\n",
       "  <thead>\n",
       "    <tr style=\"text-align: right;\">\n",
       "      <th></th>\n",
       "      <th>ProductCD</th>\n",
       "      <th>card4</th>\n",
       "      <th>card6</th>\n",
       "      <th>P_emaildomain</th>\n",
       "      <th>R_emaildomain</th>\n",
       "      <th>M1</th>\n",
       "      <th>M2</th>\n",
       "      <th>M3</th>\n",
       "      <th>M4</th>\n",
       "      <th>M5</th>\n",
       "      <th>M6</th>\n",
       "      <th>M7</th>\n",
       "      <th>M8</th>\n",
       "      <th>M9</th>\n",
       "    </tr>\n",
       "  </thead>\n",
       "  <tbody>\n",
       "    <tr>\n",
       "      <th>0</th>\n",
       "      <td>W</td>\n",
       "      <td>discover</td>\n",
       "      <td>credit</td>\n",
       "      <td>NaN</td>\n",
       "      <td>NaN</td>\n",
       "      <td>T</td>\n",
       "      <td>T</td>\n",
       "      <td>T</td>\n",
       "      <td>M2</td>\n",
       "      <td>F</td>\n",
       "      <td>T</td>\n",
       "      <td>NaN</td>\n",
       "      <td>NaN</td>\n",
       "      <td>NaN</td>\n",
       "    </tr>\n",
       "    <tr>\n",
       "      <th>1</th>\n",
       "      <td>W</td>\n",
       "      <td>mastercard</td>\n",
       "      <td>credit</td>\n",
       "      <td>gmail.com</td>\n",
       "      <td>NaN</td>\n",
       "      <td>NaN</td>\n",
       "      <td>NaN</td>\n",
       "      <td>NaN</td>\n",
       "      <td>M0</td>\n",
       "      <td>T</td>\n",
       "      <td>T</td>\n",
       "      <td>NaN</td>\n",
       "      <td>NaN</td>\n",
       "      <td>NaN</td>\n",
       "    </tr>\n",
       "    <tr>\n",
       "      <th>2</th>\n",
       "      <td>W</td>\n",
       "      <td>visa</td>\n",
       "      <td>debit</td>\n",
       "      <td>outlook.com</td>\n",
       "      <td>NaN</td>\n",
       "      <td>T</td>\n",
       "      <td>T</td>\n",
       "      <td>T</td>\n",
       "      <td>M0</td>\n",
       "      <td>F</td>\n",
       "      <td>F</td>\n",
       "      <td>F</td>\n",
       "      <td>F</td>\n",
       "      <td>F</td>\n",
       "    </tr>\n",
       "    <tr>\n",
       "      <th>3</th>\n",
       "      <td>W</td>\n",
       "      <td>mastercard</td>\n",
       "      <td>debit</td>\n",
       "      <td>yahoo.com</td>\n",
       "      <td>NaN</td>\n",
       "      <td>NaN</td>\n",
       "      <td>NaN</td>\n",
       "      <td>NaN</td>\n",
       "      <td>M0</td>\n",
       "      <td>T</td>\n",
       "      <td>F</td>\n",
       "      <td>NaN</td>\n",
       "      <td>NaN</td>\n",
       "      <td>NaN</td>\n",
       "    </tr>\n",
       "    <tr>\n",
       "      <th>4</th>\n",
       "      <td>H</td>\n",
       "      <td>mastercard</td>\n",
       "      <td>credit</td>\n",
       "      <td>gmail.com</td>\n",
       "      <td>NaN</td>\n",
       "      <td>NaN</td>\n",
       "      <td>NaN</td>\n",
       "      <td>NaN</td>\n",
       "      <td>NaN</td>\n",
       "      <td>NaN</td>\n",
       "      <td>NaN</td>\n",
       "      <td>NaN</td>\n",
       "      <td>NaN</td>\n",
       "      <td>NaN</td>\n",
       "    </tr>\n",
       "  </tbody>\n",
       "</table>\n",
       "</div>"
      ],
      "text/plain": [
       "  ProductCD       card4   card6 P_emaildomain R_emaildomain   M1   M2   M3  \\\n",
       "0         W    discover  credit           NaN           NaN    T    T    T   \n",
       "1         W  mastercard  credit     gmail.com           NaN  NaN  NaN  NaN   \n",
       "2         W        visa   debit   outlook.com           NaN    T    T    T   \n",
       "3         W  mastercard   debit     yahoo.com           NaN  NaN  NaN  NaN   \n",
       "4         H  mastercard  credit     gmail.com           NaN  NaN  NaN  NaN   \n",
       "\n",
       "    M4   M5   M6   M7   M8   M9  \n",
       "0   M2    F    T  NaN  NaN  NaN  \n",
       "1   M0    T    T  NaN  NaN  NaN  \n",
       "2   M0    F    F    F    F    F  \n",
       "3   M0    T    F  NaN  NaN  NaN  \n",
       "4  NaN  NaN  NaN  NaN  NaN  NaN  "
      ]
     },
     "execution_count": 14,
     "metadata": {},
     "output_type": "execute_result"
    }
   ],
   "source": [
    "x_train[categorical].head(5)"
   ]
  },
  {
   "cell_type": "code",
   "execution_count": 15,
   "metadata": {},
   "outputs": [],
   "source": [
    "# Выделим числовые и категриальные переменные. \n",
    "\n",
    "x_train[categorical]=x_train[categorical].astype('category')\n",
    "x_test[categorical]=x_test[categorical].astype('category')"
   ]
  },
  {
   "cell_type": "code",
   "execution_count": 18,
   "metadata": {},
   "outputs": [],
   "source": [
    "params = {\n",
    "    \"booster\": \"gbtree\",\n",
    "    # \"objective\": \"binary:logistic\",\n",
    "    \"eval_metric\": \"auc\",\n",
    "    \"learning_rate\": 0.1,\n",
    "    \"n_estimators\": 10000,\n",
    "    \"reg_lambda\": 50,\n",
    "    \"max_depth\": 4,\n",
    "    \"gamma\": 4,\n",
    "    \"nthread\": 6,\n",
    "    # \"seed\": 27,\n",
    "    'random_state':1    \n",
    "}"
   ]
  },
  {
   "cell_type": "code",
   "execution_count": 19,
   "metadata": {},
   "outputs": [
    {
     "name": "stdout",
     "output_type": "stream",
     "text": [
      "[LightGBM] [Warning] Unknown parameter: booster\n",
      "[LightGBM] [Warning] Unknown parameter: eval_metric\n",
      "[LightGBM] [Warning] Unknown parameter: gamma\n",
      "[LightGBM] [Warning] num_threads is set with n_jobs=-1, nthread=6 will be ignored. Current value: num_threads=-1\n",
      "[20]\ttraining's auc: 0.891467\ttraining's binary_logloss: 0.0782767\tvalid_1's auc: 0.865487\tvalid_1's binary_logloss: 0.105435\n",
      "[40]\ttraining's auc: 0.905077\ttraining's binary_logloss: 0.0709057\tvalid_1's auc: 0.872462\tvalid_1's binary_logloss: 0.0996511\n",
      "[60]\ttraining's auc: 0.91297\ttraining's binary_logloss: 0.0671989\tvalid_1's auc: 0.876831\tvalid_1's binary_logloss: 0.0970317\n",
      "[80]\ttraining's auc: 0.918017\ttraining's binary_logloss: 0.0649879\tvalid_1's auc: 0.878539\tvalid_1's binary_logloss: 0.0961891\n",
      "[100]\ttraining's auc: 0.922365\ttraining's binary_logloss: 0.0629449\tvalid_1's auc: 0.879982\tvalid_1's binary_logloss: 0.095173\n",
      "[120]\ttraining's auc: 0.92593\ttraining's binary_logloss: 0.0614697\tvalid_1's auc: 0.881412\tvalid_1's binary_logloss: 0.0946571\n",
      "[140]\ttraining's auc: 0.928891\ttraining's binary_logloss: 0.0602584\tvalid_1's auc: 0.882232\tvalid_1's binary_logloss: 0.094204\n",
      "[160]\ttraining's auc: 0.931409\ttraining's binary_logloss: 0.0591343\tvalid_1's auc: 0.882384\tvalid_1's binary_logloss: 0.0942509\n",
      "[180]\ttraining's auc: 0.933828\ttraining's binary_logloss: 0.0579349\tvalid_1's auc: 0.88311\tvalid_1's binary_logloss: 0.0937703\n",
      "[200]\ttraining's auc: 0.936206\ttraining's binary_logloss: 0.0569197\tvalid_1's auc: 0.88377\tvalid_1's binary_logloss: 0.0935094\n",
      "[220]\ttraining's auc: 0.938346\ttraining's binary_logloss: 0.0560049\tvalid_1's auc: 0.884216\tvalid_1's binary_logloss: 0.0934503\n",
      "[240]\ttraining's auc: 0.939944\ttraining's binary_logloss: 0.0552348\tvalid_1's auc: 0.884515\tvalid_1's binary_logloss: 0.0933007\n",
      "[260]\ttraining's auc: 0.94187\ttraining's binary_logloss: 0.0543709\tvalid_1's auc: 0.884608\tvalid_1's binary_logloss: 0.0930663\n",
      "[280]\ttraining's auc: 0.943547\ttraining's binary_logloss: 0.0536126\tvalid_1's auc: 0.884749\tvalid_1's binary_logloss: 0.0929251\n",
      "[300]\ttraining's auc: 0.944788\ttraining's binary_logloss: 0.0530447\tvalid_1's auc: 0.88496\tvalid_1's binary_logloss: 0.0927867\n",
      "[320]\ttraining's auc: 0.945909\ttraining's binary_logloss: 0.0524745\tvalid_1's auc: 0.884744\tvalid_1's binary_logloss: 0.092923\n"
     ]
    },
    {
     "data": {
      "text/plain": [
       "LGBMClassifier(booster='gbtree', eval_metric='auc', gamma=4, max_depth=4,\n",
       "               n_estimators=10000, nthread=6, random_state=1, reg_lambda=50)"
      ]
     },
     "execution_count": 19,
     "metadata": {},
     "output_type": "execute_result"
    }
   ],
   "source": [
    "model = lgb.LGBMClassifier(**params)\n",
    "\n",
    "model.fit(\n",
    "    X=x_train,\n",
    "    y=y_train,\n",
    "    eval_set=[(x_train, y_train), (x_test, y_test)],\n",
    "    early_stopping_rounds=25,\n",
    "    categorical_feature=categorical,\n",
    "    # num_boost_round=10000,\n",
    "    eval_metric=\"auc\",\n",
    "    verbose=20\n",
    ")"
   ]
  },
  {
   "cell_type": "code",
   "execution_count": 20,
   "metadata": {},
   "outputs": [],
   "source": [
    "# model = xgb.XGBRegressor(random_state=1)\n",
    "# model.fit(x_train, y_train)"
   ]
  },
  {
   "cell_type": "code",
   "execution_count": 21,
   "metadata": {},
   "outputs": [],
   "source": [
    "# недообучение - 5\n",
    "# переобучение +\n",
    "# все ок = 2"
   ]
  },
  {
   "cell_type": "code",
   "execution_count": 22,
   "metadata": {},
   "outputs": [],
   "source": [
    "def draw_roc_auc(model, dtrain, dvalid, y_train, y_valid):\n",
    "    #  тест   \n",
    "    try:\n",
    "        y_pred_train = model.predict_proba(dtrain)[:,1]      \n",
    "    except:\n",
    "        y_pred_train = model.predict(dtrain)\n",
    "    roc_auc_train=roc_auc_score(y_train, y_pred_train)\n",
    "    # print(roc_auc_train)\n",
    "    fpr_train, tpr_train, _ = metrics.roc_curve(y_train, y_pred_train)\n",
    "\n",
    "    try:\n",
    "        y_pred_val = model.predict_proba(dvalid)[:,1]      \n",
    "    except:\n",
    "        y_pred_val = model.predict(dvalid)\n",
    "    roc_auc_val=roc_auc_score(y_valid, y_pred_val)\n",
    "    # print(roc_auc_val)\n",
    "    fpr_val, tpr_val, _ = metrics.roc_curve(y_valid, y_pred_val)\n",
    "\n",
    "    plt.plot(fpr_train, tpr_train, 'b',color=\"blue\", label = 'train_auc = %0.2f' % roc_auc_train)\n",
    "    plt.plot(fpr_val, tpr_val, 'b', color=\"orange\", label = 'val_auc = %0.2f' % roc_auc_val)\n",
    "    \n",
    "    plt.legend(loc = 'lower right')\n",
    "    plt.plot([0, 1], [0, 1],'r--')\n",
    "    plt.xlim([0, 1])\n",
    "    plt.ylim([0, 1])\n",
    "    plt.ylabel('True Positive Rate')\n",
    "    plt.xlabel('False Positive Rate')\n",
    "    plt.show()"
   ]
  },
  {
   "cell_type": "code",
   "execution_count": 23,
   "metadata": {},
   "outputs": [
    {
     "data": {
      "image/png": "[encoded data removed]",
      "text/plain": [
       "<Figure size 432x288 with 1 Axes>"
      ]
     },
     "metadata": {
      "needs_background": "light"
     },
     "output_type": "display_data"
    }
   ],
   "source": [
    "# draw_roc_auc(model, x_train, x_test, y_train, y_test )"
   ]
  },
  {
   "cell_type": "code",
   "execution_count": 28,
   "metadata": {},
   "outputs": [
    {
     "name": "stdout",
     "output_type": "stream",
     "text": [
      "Train-score: 0.722, Test-score: 0.641\n"
     ]
    }
   ],
   "source": [
    "train_score =  roc_auc_score(y_train, model.predict(x_train))\n",
    "test_score = roc_auc_score(y_test, model.predict(x_test))\n",
    "lb_score = roc_auc_score(y_lb, model.predict(x_lb))\n",
    "\n",
    "print(f\"Train-score: {round(train_score, 3)}, Test-score: {round(test_score, 3)}, Lb-score: {round(lb_score, 3)} \")"
   ]
  },
  {
   "cell_type": "code",
   "execution_count": 29,
   "metadata": {},
   "outputs": [],
   "source": [
    "# lgb_dtrain_3 = lgb.Dataset(\n",
    "#     data=x_train, label=y_train,categorical_feature=categorical\n",
    "# )\n",
    "# lgb_dvalid_3 = lgb.Dataset(\n",
    "#     data=x_test, label=y_test,categorical_feature=categorical\n",
    "# )"
   ]
  },
  {
   "cell_type": "code",
   "execution_count": 31,
   "metadata": {},
   "outputs": [],
   "source": [
    "params = {\n",
    "    \"boosting_type\": \"gbdt\",\n",
    "    \"objective\": \"binary\",\n",
    "    \"metric\": \"auc\",\n",
    "    \"learning_rate\": 0.1,\n",
    "    \"n_estimators\": 100,\n",
    "    # \"reg_lambda\": 50,\n",
    "    # \"max_depth\": 4,\n",
    "    \"n_jobs\": 6,\n",
    "    \"seed\": 27\n",
    "}"
   ]
  },
  {
   "cell_type": "code",
   "execution_count": 32,
   "metadata": {},
   "outputs": [
    {
     "name": "stdout",
     "output_type": "stream",
     "text": [
      "[LightGBM] [Info] Number of positive: 2689, number of negative: 105311\n",
      "[LightGBM] [Warning] Auto-choosing row-wise multi-threading, the overhead of testing was 0.059174 seconds.\n",
      "You can set `force_row_wise=true` to remove the overhead.\n",
      "And if memory is not enough, you can set `force_col_wise=true`.\n",
      "[LightGBM] [Info] Total Bins 31191\n",
      "[LightGBM] [Info] Number of data points in the train set: 108000, number of used features: 390\n",
      "[LightGBM] [Info] [binary:BoostFromScore]: pavg=0.024898 -> initscore=-3.667748\n",
      "[LightGBM] [Info] Start training from score -3.667748\n",
      "Training until validation scores don't improve for 50 rounds\n",
      "[25]\ttraining's auc: 0.934711\tvalid_1's auc: 0.877165\n",
      "[50]\ttraining's auc: 0.961895\tvalid_1's auc: 0.886831\n",
      "[75]\ttraining's auc: 0.975034\tvalid_1's auc: 0.883186\n",
      "[100]\ttraining's auc: 0.98397\tvalid_1's auc: 0.882191\n",
      "Did not meet early stopping. Best iteration is:\n",
      "[100]\ttraining's auc: 0.98397\tvalid_1's auc: 0.882191\n"
     ]
    }
   ],
   "source": [
    "lgb_model_3 = lgb.train(\n",
    "    params=params,\n",
    "    train_set=lgb_dtrain_3,\n",
    "    num_boost_round=10000,\n",
    "    valid_sets=[lgb_dtrain_3, lgb_dvalid_3],\n",
    "    # feature_name=categorical,\n",
    "    categorical_feature=categorical,\n",
    "    early_stopping_rounds=50,\n",
    "    verbose_eval=25\n",
    ")"
   ]
  },
  {
   "cell_type": "code",
   "execution_count": 33,
   "metadata": {},
   "outputs": [
    {
     "data": {
      "image/png": "[encoded data removed]",
      "text/plain": [
       "<Figure size 432x288 with 1 Axes>"
      ]
     },
     "metadata": {
      "needs_background": "light"
     },
     "output_type": "display_data"
    }
   ],
   "source": [
    "draw_roc_auc(lgb_model_3, x_train, x_test, y_train, y_test )"
   ]
  },
  {
   "cell_type": "code",
   "execution_count": 34,
   "metadata": {},
   "outputs": [
    {
     "name": "stdout",
     "output_type": "stream",
     "text": [
      "Train-score: 0.722, Test-score: 0.641\n"
     ]
    }
   ],
   "source": [
    "train_score =  roc_auc_score(y_train, model.predict(x_train))\n",
    "test_score = roc_auc_score(y_test, model.predict(x_test))\n",
    "\n",
    "print(f\"Train-score: {round(train_score, 3)}, Test-score: {round(test_score, 3)}\")"
   ]
  },
  {
   "cell_type": "markdown",
   "metadata": {},
   "source": [
    "## Задание 2.\n",
    "\n",
    "Cделать Hold-Out валидацию с разбиением на 3 выборки, разбиение проводить по id-транзакции (TransactionID), размер каждой выборки подобрать самостоятельно. Повторить процедуру из п.1. для каждой выборки."
   ]
  },
  {
   "cell_type": "code",
   "execution_count": 35,
   "metadata": {},
   "outputs": [],
   "source": [
    "x_test, x_val = train_test_split(x_test, train_size=0.50, shuffle=False, random_state=1,)\n",
    "y_test, y_val = train_test_split(y_test, train_size=0.50, shuffle=False, random_state=1,)"
   ]
  },
  {
   "cell_type": "code",
   "execution_count": 36,
   "metadata": {},
   "outputs": [
    {
     "name": "stdout",
     "output_type": "stream",
     "text": [
      "x_train.shape = 108000 rows, 392 cols\n",
      "x_val.shape = 36000 rows, 392 cols\n",
      "x_test.shape = 36000 rows, 392 cols\n"
     ]
    }
   ],
   "source": [
    "print(\"x_train.shape = {} rows, {} cols\".format(*x_train.shape))\n",
    "print(\"x_val.shape = {} rows, {} cols\".format(*x_val.shape))\n",
    "print(\"x_test.shape = {} rows, {} cols\".format(*x_test.shape))"
   ]
  },
  {
   "cell_type": "code",
   "execution_count": 37,
   "metadata": {},
   "outputs": [
    {
     "name": "stdout",
     "output_type": "stream",
     "text": [
      "[20]\tvalid_0's auc: 0.861798\tvalid_1's auc: 0.861798\n",
      "[40]\tvalid_0's auc: 0.870674\tvalid_1's auc: 0.870674\n",
      "[60]\tvalid_0's auc: 0.873974\tvalid_1's auc: 0.873974\n",
      "[80]\tvalid_0's auc: 0.868605\tvalid_1's auc: 0.868605\n",
      "[100]\tvalid_0's auc: 0.864932\tvalid_1's auc: 0.864932\n"
     ]
    },
    {
     "data": {
      "text/plain": [
       "LGBMClassifier(metric='auc', n_jobs=6, objective='binary', seed=27)"
      ]
     },
     "execution_count": 37,
     "metadata": {},
     "output_type": "execute_result"
    }
   ],
   "source": [
    "model = lgb.LGBMClassifier(**params)\n",
    "\n",
    "model.fit(\n",
    "    X=x_train,\n",
    "    y=y_train,\n",
    "    eval_set=[(x_val, y_val), (x_val, y_val)],\n",
    "    early_stopping_rounds=50,\n",
    "    categorical_feature=categorical,\n",
    "    # num_boost_round=10000,\n",
    "    eval_metric=\"auc\",\n",
    "    verbose=20\n",
    ")"
   ]
  },
  {
   "cell_type": "code",
   "execution_count": 38,
   "metadata": {},
   "outputs": [
    {
     "name": "stdout",
     "output_type": "stream",
     "text": [
      "Train-score: 0.756, Val-score: 0.635, Test-score: 0.641\n"
     ]
    }
   ],
   "source": [
    "train_score =  roc_auc_score(y_train, model.predict(x_train))\n",
    "val_score = roc_auc_score(y_val, model.predict(x_val))\n",
    "test_score = roc_auc_score(y_test, model.predict(x_test))\n",
    "\n",
    "print(f\"Train-score: {round(train_score, 3)}, Val-score: {round(val_score, 3)}, Test-score: {round(test_score, 3)}\")"
   ]
  },
  {
   "cell_type": "code",
   "execution_count": 39,
   "metadata": {},
   "outputs": [
    {
     "name": "stdout",
     "output_type": "stream",
     "text": [
      "Train-score: 0.966, Val-score: 0.875, Test-score: 0.902\n"
     ]
    }
   ],
   "source": [
    "train_score =  roc_auc_score(y_train, model.predict_proba(x_train)[:,1])\n",
    "val_score = roc_auc_score(y_val, model.predict_proba(x_val)[:,1])\n",
    "test_score = roc_auc_score(y_test, model.predict_proba(x_test)[:,1])\n",
    "\n",
    "print(f\"Train-score: {round(train_score, 3)}, Val-score: {round(val_score, 3)}, Test-score: {round(test_score, 3)}\")"
   ]
  },
  {
   "cell_type": "markdown",
   "metadata": {},
   "source": [
    "## Задание 3.\n",
    "\n",
    "Построить доверительный интервал на данных из п.2 на основе **бутстреп** выборок, оценить качество модели на ЛБ относительно полученного доверительного интервала. Сделать выводы."
   ]
  },
  {
   "cell_type": "code",
   "execution_count": 40,
   "metadata": {},
   "outputs": [],
   "source": [
    "def create_bootstrap_samples(data: np.array, n_samples: int = 1000) -> np.array:\n",
    "    \"\"\"\n",
    "    Создание бутстреп-выборок.\n",
    "\n",
    "    Parameters\n",
    "    ----------\n",
    "    data: np.array\n",
    "        Исходная выборка, которая будет использоваться для\n",
    "        создания бутстреп выборок.\n",
    "\n",
    "    n_samples: int, optional, default = 1000\n",
    "        Количество создаваемых бутстреп выборок.\n",
    "        Опциональный параметр, по умолчанию, равен 1000.\n",
    "\n",
    "    Returns\n",
    "    -------\n",
    "    bootstrap_idx: np.array\n",
    "        Матрица индексов, для создания бутстреп выборок.\n",
    "\n",
    "    \"\"\"\n",
    "    bootstrap_idx = np.random.randint(\n",
    "        low=0, high=len(data), size=(n_samples, len(data))\n",
    "    )\n",
    "    return bootstrap_idx\n",
    "\n",
    "\n",
    "def create_bootstrap_metrics(y_true: np.array,\n",
    "                             y_pred: np.array,\n",
    "                             metric: callable,\n",
    "                             n_samlpes: int = 1000) -> List[float]:\n",
    "    \"\"\"\n",
    "    Вычисление бутстреп оценок.\n",
    "\n",
    "    Parameters\n",
    "    ----------\n",
    "    y_true: np.array\n",
    "        Вектор целевой переменной.\n",
    "\n",
    "    y_pred: np.array\n",
    "        Вектор прогнозов.\n",
    "\n",
    "    metric: callable\n",
    "        Функция для вычисления метрики.\n",
    "        Функция должна принимать 2 аргумента: y_true, y_pred.\n",
    "\n",
    "    n_samples: int, optional, default = 1000\n",
    "        Количество создаваемых бутстреп выборок.\n",
    "        Опциональный параметр, по умолчанию, равен 1000.\n",
    "\n",
    "    Returns\n",
    "    -------\n",
    "    bootstrap_metrics: List[float]\n",
    "        Список со значениями метрики качества на каждой бустреп выборке.\n",
    "\n",
    "    \"\"\"\n",
    "    scores = []\n",
    "\n",
    "    if isinstance(y_true, pd.Series):\n",
    "        y_true = y_true.values\n",
    "\n",
    "    bootstrap_idx = create_bootstrap_samples(y_true)\n",
    "    for idx in bootstrap_idx:\n",
    "        y_true_bootstrap = y_true[idx]\n",
    "        y_pred_bootstrap = y_pred[idx]\n",
    "\n",
    "        score = metric(y_true_bootstrap, y_pred_bootstrap)\n",
    "        scores.append(score)\n",
    "\n",
    "    return scores\n",
    "\n",
    "\n",
    "def calculate_confidence_interval(scores: list, conf_interval: float = 0.95) -> Tuple[float]:\n",
    "    \"\"\"\n",
    "    Вычисление доверительного интервала.\n",
    "\n",
    "    Parameters\n",
    "    ----------\n",
    "    scores: List[float / int]\n",
    "        Список с оценками изучаемой величины.\n",
    "\n",
    "    conf_interval: float, optional, default = 0.95\n",
    "        Уровень доверия для построения интервала.\n",
    "        Опциональный параметр, по умолчанию, равен 0.95.\n",
    "\n",
    "    Returns\n",
    "    -------\n",
    "    conf_interval: Tuple[float]\n",
    "        Кортеж с границами доверительного интервала.\n",
    "\n",
    "    \"\"\"\n",
    "    left_bound = np.percentile(\n",
    "        scores, ((1 - conf_interval) / 2) * 100\n",
    "    )\n",
    "    right_bound = np.percentile(\n",
    "        scores, (conf_interval + ((1 - conf_interval) / 2)) * 100\n",
    "    )\n",
    "\n",
    "    return left_bound, right_bound"
   ]
  },
  {
   "cell_type": "code",
   "execution_count": 41,
   "metadata": {},
   "outputs": [
    {
     "data": {
      "text/plain": [
       "(0.6286071778953064, 0.6550466168452221)"
      ]
     },
     "execution_count": 41,
     "metadata": {},
     "output_type": "execute_result"
    }
   ],
   "source": [
    "np.random.seed(27)\n",
    "scores = create_bootstrap_metrics(y_test, model.predict(x_test), roc_auc_score)\n",
    "\n",
    "calculate_confidence_interval(scores)"
   ]
  },
  {
   "cell_type": "code",
   "execution_count": 42,
   "metadata": {},
   "outputs": [
    {
     "data": {
      "text/plain": [
       "Text(0.5, 0, 'sampel number')"
      ]
     },
     "execution_count": 42,
     "metadata": {},
     "output_type": "execute_result"
    },
    {
     "data": {
      "image/png": "[encoded data removed]",
      "text/plain": [
       "<Figure size 1080x360 with 2 Axes>"
      ]
     },
     "metadata": {
      "needs_background": "light"
     },
     "output_type": "display_data"
    }
   ],
   "source": [
    "fig, axes = plt.subplots(1, 2, figsize=(15, 5))\n",
    "plt.suptitle(\"Bootstrap for evaluating validation stability\", size=15)\n",
    "axes[1].scatter(range(len(scores)), scores, alpha=0.25, color=\"blue\")\n",
    "axes[1].set_xlabel(\"sampel number\", size=15)\n",
    "axes[1].set_ylabel(\"ROC_AUC score\", size=15)\n",
    "\n",
    "sns.distplot(scores, ax=axes[0], color=\"green\", bins=20)\n",
    "axes[0].set_xlabel(\"sampel number\", size=15)"
   ]
  },
  {
   "cell_type": "markdown",
   "metadata": {},
   "source": [
    "Модель показывает достаточно очень небольшой разброс на разных bootstrep выборках.\n",
    "Наверное это хороший знак. зачения в распеделениы достаточно равномерно."
   ]
  },
  {
   "cell_type": "code",
   "execution_count": 43,
   "metadata": {},
   "outputs": [],
   "source": [
    "x_private = private_df.drop([\"TransactionID\", \"isFraud\"], axis=1)\n",
    "y_private = private_df[\"isFraud\"]"
   ]
  },
  {
   "cell_type": "code",
   "execution_count": 44,
   "metadata": {},
   "outputs": [],
   "source": [
    "x_private[categorical]=x_private[categorical].astype('category')"
   ]
  },
  {
   "cell_type": "code",
   "execution_count": 45,
   "metadata": {},
   "outputs": [
    {
     "data": {
      "text/plain": [
       "(0.5943973262832392, 0.6067763629144574)"
      ]
     },
     "execution_count": 45,
     "metadata": {},
     "output_type": "execute_result"
    }
   ],
   "source": [
    "np.random.seed(27)\n",
    "scores = create_bootstrap_metrics(y_private, model.predict(x_private), roc_auc_score)\n",
    "\n",
    "calculate_confidence_interval(scores)"
   ]
  },
  {
   "cell_type": "code",
   "execution_count": 46,
   "metadata": {},
   "outputs": [
    {
     "data": {
      "text/plain": [
       "Text(0.5, 0, 'sampel number')"
      ]
     },
     "execution_count": 46,
     "metadata": {},
     "output_type": "execute_result"
    },
    {
     "data": {
      "image/png": "[encoded data removed]",
      "text/plain": [
       "<Figure size 1080x360 with 2 Axes>"
      ]
     },
     "metadata": {
      "needs_background": "light"
     },
     "output_type": "display_data"
    }
   ],
   "source": [
    "fig, axes = plt.subplots(1, 2, figsize=(15, 5))\n",
    "plt.suptitle(\"Bootstrap for evaluating validation stability\", size=15)\n",
    "axes[1].scatter(range(len(scores)), scores, alpha=0.25, color=\"blue\")\n",
    "axes[1].set_xlabel(\"sampel number\", size=15)\n",
    "axes[1].set_ylabel(\"ROC_AUC score\", size=15)\n",
    "\n",
    "sns.distplot(scores, ax=axes[0], color=\"green\", bins=20)\n",
    "axes[0].set_xlabel(\"sampel number\", size=15)"
   ]
  },
  {
   "cell_type": "code",
   "execution_count": 47,
   "metadata": {},
   "outputs": [],
   "source": [
    "# Видно, что распреление на зкшмуеу ЛБ немного смещено вниз. \n",
    "# т.е. он показывает несколько меньший результат."
   ]
  },
  {
   "cell_type": "markdown",
   "metadata": {},
   "source": [
    "## Задание 4. \n",
    "\n",
    "Выполнить `Adversarial Validation`, подобрать объекты из обучающей выборки, которые сильно похожи на объекты из `assignment_2_test.csv`, и использовать их в качестве валидационного набора. Оценить качество модели на ЛБ, сделать выводы о полученных результатах."
   ]
  },
  {
   "cell_type": "code",
   "execution_count": 48,
   "metadata": {},
   "outputs": [],
   "source": [
    "# public_df['dataset_label'] = 0\n",
    "# private_df['dataset_label'] = 1\n",
    "# target = 'dataset_label'"
   ]
  },
  {
   "cell_type": "code",
   "execution_count": 49,
   "metadata": {},
   "outputs": [],
   "source": [
    "# def create_adversarial_data(df_train, df_test, cols, N_val=50000):\n",
    "#     df_master = pd.concat([df_train[cols], df_test[cols]], axis=0)\n",
    "#     adversarial_val = df_master.sample(N_val, replace=False)\n",
    "#     adversarial_train = df_master[\n",
    "#         ~df_master.index.isin(adversarial_val.index)\n",
    "#     ]\n",
    "#     return adversarial_train, adversarial_val\n",
    "\n",
    "# features = cat_cols + numeric_cols + ['TransactionDT']\n",
    "# all_cols = features + [target]\n",
    "# adversarial_train, adversarial_test = create_adversarial_data(public_df, private_df, all_cols)"
   ]
  },
  {
   "cell_type": "code",
   "execution_count": 50,
   "metadata": {},
   "outputs": [],
   "source": [
    "X_adv = pd.concat([ public_df, private_df])\n",
    "y_adv = np.hstack((np.ones(public_df.shape[0]), np.zeros(private_df.shape[0]))) # заполняем чать нулями, а часть 1-ми.\n",
    "\n",
    "X_adv = X_adv.reset_index(drop=True)"
   ]
  },
  {
   "cell_type": "code",
   "execution_count": 72,
   "metadata": {},
   "outputs": [],
   "source": [
    "X_adv[categorical]=X_adv[categorical].astype('category')"
   ]
  },
  {
   "cell_type": "code",
   "execution_count": 54,
   "metadata": {},
   "outputs": [
    {
     "data": {
      "text/plain": [
       "array([1., 1., 1., ..., 0., 0., 0.])"
      ]
     },
     "execution_count": 54,
     "metadata": {},
     "output_type": "execute_result"
    }
   ],
   "source": [
    "y_adv"
   ]
  },
  {
   "cell_type": "code",
   "execution_count": 53,
   "metadata": {},
   "outputs": [
    {
     "data": {
      "text/html": [
       "<div>\n",
       "<style scoped>\n",
       "    .dataframe tbody tr th:only-of-type {\n",
       "        vertical-align: middle;\n",
       "    }\n",
       "\n",
       "    .dataframe tbody tr th {\n",
       "        vertical-align: top;\n",
       "    }\n",
       "\n",
       "    .dataframe thead th {\n",
       "        text-align: right;\n",
       "    }\n",
       "</style>\n",
       "<table border=\"1\" class=\"dataframe\">\n",
       "  <thead>\n",
       "    <tr style=\"text-align: right;\">\n",
       "      <th></th>\n",
       "      <th>TransactionID</th>\n",
       "      <th>isFraud</th>\n",
       "      <th>TransactionDT</th>\n",
       "      <th>TransactionAmt</th>\n",
       "      <th>ProductCD</th>\n",
       "      <th>card1</th>\n",
       "      <th>card2</th>\n",
       "      <th>card3</th>\n",
       "      <th>card4</th>\n",
       "      <th>card5</th>\n",
       "      <th>...</th>\n",
       "      <th>V330</th>\n",
       "      <th>V331</th>\n",
       "      <th>V332</th>\n",
       "      <th>V333</th>\n",
       "      <th>V334</th>\n",
       "      <th>V335</th>\n",
       "      <th>V336</th>\n",
       "      <th>V337</th>\n",
       "      <th>V338</th>\n",
       "      <th>V339</th>\n",
       "    </tr>\n",
       "  </thead>\n",
       "  <tbody>\n",
       "    <tr>\n",
       "      <th>0</th>\n",
       "      <td>2987000</td>\n",
       "      <td>0</td>\n",
       "      <td>86400</td>\n",
       "      <td>68.500</td>\n",
       "      <td>W</td>\n",
       "      <td>13926</td>\n",
       "      <td>NaN</td>\n",
       "      <td>150.0</td>\n",
       "      <td>discover</td>\n",
       "      <td>142.0</td>\n",
       "      <td>...</td>\n",
       "      <td>NaN</td>\n",
       "      <td>NaN</td>\n",
       "      <td>NaN</td>\n",
       "      <td>NaN</td>\n",
       "      <td>NaN</td>\n",
       "      <td>NaN</td>\n",
       "      <td>NaN</td>\n",
       "      <td>NaN</td>\n",
       "      <td>NaN</td>\n",
       "      <td>NaN</td>\n",
       "    </tr>\n",
       "    <tr>\n",
       "      <th>1</th>\n",
       "      <td>2987001</td>\n",
       "      <td>0</td>\n",
       "      <td>86401</td>\n",
       "      <td>29.000</td>\n",
       "      <td>W</td>\n",
       "      <td>2755</td>\n",
       "      <td>404.0</td>\n",
       "      <td>150.0</td>\n",
       "      <td>mastercard</td>\n",
       "      <td>102.0</td>\n",
       "      <td>...</td>\n",
       "      <td>NaN</td>\n",
       "      <td>NaN</td>\n",
       "      <td>NaN</td>\n",
       "      <td>NaN</td>\n",
       "      <td>NaN</td>\n",
       "      <td>NaN</td>\n",
       "      <td>NaN</td>\n",
       "      <td>NaN</td>\n",
       "      <td>NaN</td>\n",
       "      <td>NaN</td>\n",
       "    </tr>\n",
       "    <tr>\n",
       "      <th>2</th>\n",
       "      <td>2987002</td>\n",
       "      <td>0</td>\n",
       "      <td>86469</td>\n",
       "      <td>59.000</td>\n",
       "      <td>W</td>\n",
       "      <td>4663</td>\n",
       "      <td>490.0</td>\n",
       "      <td>150.0</td>\n",
       "      <td>visa</td>\n",
       "      <td>166.0</td>\n",
       "      <td>...</td>\n",
       "      <td>NaN</td>\n",
       "      <td>NaN</td>\n",
       "      <td>NaN</td>\n",
       "      <td>NaN</td>\n",
       "      <td>NaN</td>\n",
       "      <td>NaN</td>\n",
       "      <td>NaN</td>\n",
       "      <td>NaN</td>\n",
       "      <td>NaN</td>\n",
       "      <td>NaN</td>\n",
       "    </tr>\n",
       "    <tr>\n",
       "      <th>3</th>\n",
       "      <td>2987003</td>\n",
       "      <td>0</td>\n",
       "      <td>86499</td>\n",
       "      <td>50.000</td>\n",
       "      <td>W</td>\n",
       "      <td>18132</td>\n",
       "      <td>567.0</td>\n",
       "      <td>150.0</td>\n",
       "      <td>mastercard</td>\n",
       "      <td>117.0</td>\n",
       "      <td>...</td>\n",
       "      <td>NaN</td>\n",
       "      <td>NaN</td>\n",
       "      <td>NaN</td>\n",
       "      <td>NaN</td>\n",
       "      <td>NaN</td>\n",
       "      <td>NaN</td>\n",
       "      <td>NaN</td>\n",
       "      <td>NaN</td>\n",
       "      <td>NaN</td>\n",
       "      <td>NaN</td>\n",
       "    </tr>\n",
       "    <tr>\n",
       "      <th>4</th>\n",
       "      <td>2987004</td>\n",
       "      <td>0</td>\n",
       "      <td>86506</td>\n",
       "      <td>50.000</td>\n",
       "      <td>H</td>\n",
       "      <td>4497</td>\n",
       "      <td>514.0</td>\n",
       "      <td>150.0</td>\n",
       "      <td>mastercard</td>\n",
       "      <td>102.0</td>\n",
       "      <td>...</td>\n",
       "      <td>0.0</td>\n",
       "      <td>0.0</td>\n",
       "      <td>0.0</td>\n",
       "      <td>0.0</td>\n",
       "      <td>0.0</td>\n",
       "      <td>0.0</td>\n",
       "      <td>0.0</td>\n",
       "      <td>0.0</td>\n",
       "      <td>0.0</td>\n",
       "      <td>0.0</td>\n",
       "    </tr>\n",
       "    <tr>\n",
       "      <th>...</th>\n",
       "      <td>...</td>\n",
       "      <td>...</td>\n",
       "      <td>...</td>\n",
       "      <td>...</td>\n",
       "      <td>...</td>\n",
       "      <td>...</td>\n",
       "      <td>...</td>\n",
       "      <td>...</td>\n",
       "      <td>...</td>\n",
       "      <td>...</td>\n",
       "      <td>...</td>\n",
       "      <td>...</td>\n",
       "      <td>...</td>\n",
       "      <td>...</td>\n",
       "      <td>...</td>\n",
       "      <td>...</td>\n",
       "      <td>...</td>\n",
       "      <td>...</td>\n",
       "      <td>...</td>\n",
       "      <td>...</td>\n",
       "      <td>...</td>\n",
       "    </tr>\n",
       "    <tr>\n",
       "      <th>279996</th>\n",
       "      <td>3386996</td>\n",
       "      <td>0</td>\n",
       "      <td>10091528</td>\n",
       "      <td>368.990</td>\n",
       "      <td>W</td>\n",
       "      <td>13964</td>\n",
       "      <td>496.0</td>\n",
       "      <td>150.0</td>\n",
       "      <td>mastercard</td>\n",
       "      <td>224.0</td>\n",
       "      <td>...</td>\n",
       "      <td>NaN</td>\n",
       "      <td>NaN</td>\n",
       "      <td>NaN</td>\n",
       "      <td>NaN</td>\n",
       "      <td>NaN</td>\n",
       "      <td>NaN</td>\n",
       "      <td>NaN</td>\n",
       "      <td>NaN</td>\n",
       "      <td>NaN</td>\n",
       "      <td>NaN</td>\n",
       "    </tr>\n",
       "    <tr>\n",
       "      <th>279997</th>\n",
       "      <td>3386997</td>\n",
       "      <td>0</td>\n",
       "      <td>10091533</td>\n",
       "      <td>445.330</td>\n",
       "      <td>W</td>\n",
       "      <td>10616</td>\n",
       "      <td>583.0</td>\n",
       "      <td>150.0</td>\n",
       "      <td>visa</td>\n",
       "      <td>226.0</td>\n",
       "      <td>...</td>\n",
       "      <td>NaN</td>\n",
       "      <td>NaN</td>\n",
       "      <td>NaN</td>\n",
       "      <td>NaN</td>\n",
       "      <td>NaN</td>\n",
       "      <td>NaN</td>\n",
       "      <td>NaN</td>\n",
       "      <td>NaN</td>\n",
       "      <td>NaN</td>\n",
       "      <td>NaN</td>\n",
       "    </tr>\n",
       "    <tr>\n",
       "      <th>279998</th>\n",
       "      <td>3386998</td>\n",
       "      <td>0</td>\n",
       "      <td>10091544</td>\n",
       "      <td>15.226</td>\n",
       "      <td>C</td>\n",
       "      <td>9803</td>\n",
       "      <td>583.0</td>\n",
       "      <td>150.0</td>\n",
       "      <td>visa</td>\n",
       "      <td>226.0</td>\n",
       "      <td>...</td>\n",
       "      <td>NaN</td>\n",
       "      <td>NaN</td>\n",
       "      <td>NaN</td>\n",
       "      <td>NaN</td>\n",
       "      <td>NaN</td>\n",
       "      <td>NaN</td>\n",
       "      <td>NaN</td>\n",
       "      <td>NaN</td>\n",
       "      <td>NaN</td>\n",
       "      <td>NaN</td>\n",
       "    </tr>\n",
       "    <tr>\n",
       "      <th>279999</th>\n",
       "      <td>3386999</td>\n",
       "      <td>0</td>\n",
       "      <td>10091549</td>\n",
       "      <td>34.742</td>\n",
       "      <td>C</td>\n",
       "      <td>16062</td>\n",
       "      <td>500.0</td>\n",
       "      <td>185.0</td>\n",
       "      <td>mastercard</td>\n",
       "      <td>137.0</td>\n",
       "      <td>...</td>\n",
       "      <td>NaN</td>\n",
       "      <td>NaN</td>\n",
       "      <td>NaN</td>\n",
       "      <td>NaN</td>\n",
       "      <td>NaN</td>\n",
       "      <td>NaN</td>\n",
       "      <td>NaN</td>\n",
       "      <td>NaN</td>\n",
       "      <td>NaN</td>\n",
       "      <td>NaN</td>\n",
       "    </tr>\n",
       "    <tr>\n",
       "      <th>280000</th>\n",
       "      <td>3387000</td>\n",
       "      <td>0</td>\n",
       "      <td>10091550</td>\n",
       "      <td>312.450</td>\n",
       "      <td>W</td>\n",
       "      <td>16632</td>\n",
       "      <td>215.0</td>\n",
       "      <td>150.0</td>\n",
       "      <td>mastercard</td>\n",
       "      <td>229.0</td>\n",
       "      <td>...</td>\n",
       "      <td>NaN</td>\n",
       "      <td>NaN</td>\n",
       "      <td>NaN</td>\n",
       "      <td>NaN</td>\n",
       "      <td>NaN</td>\n",
       "      <td>NaN</td>\n",
       "      <td>NaN</td>\n",
       "      <td>NaN</td>\n",
       "      <td>NaN</td>\n",
       "      <td>NaN</td>\n",
       "    </tr>\n",
       "  </tbody>\n",
       "</table>\n",
       "<p>280001 rows × 394 columns</p>\n",
       "</div>"
      ],
      "text/plain": [
       "        TransactionID  isFraud  TransactionDT  TransactionAmt ProductCD  \\\n",
       "0             2987000        0          86400          68.500         W   \n",
       "1             2987001        0          86401          29.000         W   \n",
       "2             2987002        0          86469          59.000         W   \n",
       "3             2987003        0          86499          50.000         W   \n",
       "4             2987004        0          86506          50.000         H   \n",
       "...               ...      ...            ...             ...       ...   \n",
       "279996        3386996        0       10091528         368.990         W   \n",
       "279997        3386997        0       10091533         445.330         W   \n",
       "279998        3386998        0       10091544          15.226         C   \n",
       "279999        3386999        0       10091549          34.742         C   \n",
       "280000        3387000        0       10091550         312.450         W   \n",
       "\n",
       "        card1  card2  card3       card4  card5  ... V330  V331  V332  V333  \\\n",
       "0       13926    NaN  150.0    discover  142.0  ...  NaN   NaN   NaN   NaN   \n",
       "1        2755  404.0  150.0  mastercard  102.0  ...  NaN   NaN   NaN   NaN   \n",
       "2        4663  490.0  150.0        visa  166.0  ...  NaN   NaN   NaN   NaN   \n",
       "3       18132  567.0  150.0  mastercard  117.0  ...  NaN   NaN   NaN   NaN   \n",
       "4        4497  514.0  150.0  mastercard  102.0  ...  0.0   0.0   0.0   0.0   \n",
       "...       ...    ...    ...         ...    ...  ...  ...   ...   ...   ...   \n",
       "279996  13964  496.0  150.0  mastercard  224.0  ...  NaN   NaN   NaN   NaN   \n",
       "279997  10616  583.0  150.0        visa  226.0  ...  NaN   NaN   NaN   NaN   \n",
       "279998   9803  583.0  150.0        visa  226.0  ...  NaN   NaN   NaN   NaN   \n",
       "279999  16062  500.0  185.0  mastercard  137.0  ...  NaN   NaN   NaN   NaN   \n",
       "280000  16632  215.0  150.0  mastercard  229.0  ...  NaN   NaN   NaN   NaN   \n",
       "\n",
       "        V334 V335 V336  V337  V338  V339  \n",
       "0        NaN  NaN  NaN   NaN   NaN   NaN  \n",
       "1        NaN  NaN  NaN   NaN   NaN   NaN  \n",
       "2        NaN  NaN  NaN   NaN   NaN   NaN  \n",
       "3        NaN  NaN  NaN   NaN   NaN   NaN  \n",
       "4        0.0  0.0  0.0   0.0   0.0   0.0  \n",
       "...      ...  ...  ...   ...   ...   ...  \n",
       "279996   NaN  NaN  NaN   NaN   NaN   NaN  \n",
       "279997   NaN  NaN  NaN   NaN   NaN   NaN  \n",
       "279998   NaN  NaN  NaN   NaN   NaN   NaN  \n",
       "279999   NaN  NaN  NaN   NaN   NaN   NaN  \n",
       "280000   NaN  NaN  NaN   NaN   NaN   NaN  \n",
       "\n",
       "[280001 rows x 394 columns]"
      ]
     },
     "execution_count": 53,
     "metadata": {},
     "output_type": "execute_result"
    }
   ],
   "source": [
    "X_adv"
   ]
  },
  {
   "cell_type": "code",
   "execution_count": 51,
   "metadata": {},
   "outputs": [
    {
     "name": "stdout",
     "output_type": "stream",
     "text": [
      "CV-score: nan\n",
      "CPU times: user 859 ms, sys: 196 ms, total: 1.06 s\n",
      "Wall time: 1.1 s\n"
     ]
    }
   ],
   "source": [
    "%%time\n",
    "# parameters = {\"max_depth\": 4, \"n_estimators\": 50, \"random_state\": 27, \"n_jobs\": 2}\n",
    "# model = xgb.XGBClassifier(**parameters)\n",
    "\n",
    "# cv = cross_val_score(\n",
    "#     estimator=model,\n",
    "#     X=X_adv, y=y_adv,\n",
    "#     scoring=\"roc_auc\",\n",
    "#     cv=KFold(n_splits=3, shuffle=True, random_state=27)\n",
    "# )\n",
    "# print(f\"CV-score: {round(np.mean(cv), 4)}\")"
   ]
  },
  {
   "cell_type": "code",
   "execution_count": null,
   "metadata": {},
   "outputs": [],
   "source": [
    "# params = {\n",
    "#     \"boosting_type\": \"gbdt\",\n",
    "#     \"objective\": \"binary\",\n",
    "#     \"metric\": \"auc\",\n",
    "#     \"learning_rate\": 0.1,\n",
    "#     \"n_estimators\": 100,\n",
    "#     # \"reg_lambda\": 50,\n",
    "#     # \"max_depth\": 4,\n",
    "#     \"n_jobs\": 6,\n",
    "#     \"seed\": 27\n",
    "# }"
   ]
  },
  {
   "cell_type": "code",
   "execution_count": null,
   "metadata": {},
   "outputs": [],
   "source": [
    "# lgb_model_3 = lgb.train(\n",
    "#     params=params,\n",
    "#     train_set=lgb_dtrain_3,\n",
    "#     num_boost_round=10000,\n",
    "#     valid_sets=[lgb_dtrain_3, lgb_dvalid_3],\n",
    "#     # feature_name=categorical,\n",
    "#     categorical_feature=categorical,\n",
    "#     early_stopping_rounds=50,\n",
    "#     verbose_eval=25\n",
    "# )"
   ]
  },
  {
   "cell_type": "code",
   "execution_count": 92,
   "metadata": {},
   "outputs": [],
   "source": [
    "params = {\n",
    "    \"booster\": \"gbtree\",\n",
    "    # \"objective\": \"binary:logistic\",\n",
    "    # 'subsample_for_bin':500,\n",
    "    \"eval_metric\": \"auc\",\n",
    "    \"learning_rate\": 0.1,\n",
    "    \"n_estimators\": 500,\n",
    "    # 'min_child_weight':0.001,\n",
    "    \"reg_lambda\": 50,\n",
    "    \"max_depth\": 4,\n",
    "    \"gamma\": 4,\n",
    "    # \"nthread\": 6,\n",
    "    # \"seed\": 27,\n",
    "    'random_state':1\n",
    "    \n",
    "}"
   ]
  },
  {
   "cell_type": "code",
   "execution_count": 93,
   "metadata": {},
   "outputs": [],
   "source": [
    "model = lgb.LGBMClassifier(**params)"
   ]
  },
  {
   "cell_type": "code",
   "execution_count": 94,
   "metadata": {},
   "outputs": [
    {
     "name": "stdout",
     "output_type": "stream",
     "text": [
      "[20]\ttraining's auc: 0.999993\ttraining's binary_logloss: 0.489408\n",
      "[40]\ttraining's auc: 0.999993\ttraining's binary_logloss: 0.377843\n",
      "[60]\ttraining's auc: 0.999993\ttraining's binary_logloss: 0.296632\n",
      "[80]\ttraining's auc: 0.999993\ttraining's binary_logloss: 0.235519\n",
      "[100]\ttraining's auc: 0.999994\ttraining's binary_logloss: 0.18853\n",
      "[120]\ttraining's auc: 0.999994\ttraining's binary_logloss: 0.151855\n",
      "[140]\ttraining's auc: 0.999994\ttraining's binary_logloss: 0.122926\n",
      "[160]\ttraining's auc: 0.999994\ttraining's binary_logloss: 0.0999242\n",
      "[180]\ttraining's auc: 0.999994\ttraining's binary_logloss: 0.0815245\n",
      "[200]\ttraining's auc: 0.999995\ttraining's binary_logloss: 0.066727\n",
      "[220]\ttraining's auc: 0.999995\ttraining's binary_logloss: 0.0547844\n",
      "[240]\ttraining's auc: 0.999995\ttraining's binary_logloss: 0.0451231\n",
      "[260]\ttraining's auc: 0.999995\ttraining's binary_logloss: 0.0372893\n",
      "[280]\ttraining's auc: 0.999995\ttraining's binary_logloss: 0.030925\n",
      "[300]\ttraining's auc: 0.999995\ttraining's binary_logloss: 0.0257465\n",
      "[320]\ttraining's auc: 0.999995\ttraining's binary_logloss: 0.0215279\n",
      "[340]\ttraining's auc: 0.999995\ttraining's binary_logloss: 0.0180875\n",
      "[360]\ttraining's auc: 0.999995\ttraining's binary_logloss: 0.0152791\n",
      "[380]\ttraining's auc: 0.999995\ttraining's binary_logloss: 0.0129837\n",
      "[400]\ttraining's auc: 0.999995\ttraining's binary_logloss: 0.0111084\n",
      "[420]\ttraining's auc: 0.999995\ttraining's binary_logloss: 0.00957384\n",
      "[440]\ttraining's auc: 0.999995\ttraining's binary_logloss: 0.00831679\n",
      "[460]\ttraining's auc: 0.999996\ttraining's binary_logloss: 0.00727967\n",
      "[480]\ttraining's auc: 0.999996\ttraining's binary_logloss: 0.00642616\n",
      "[500]\ttraining's auc: 0.999996\ttraining's binary_logloss: 0.0057246\n"
     ]
    },
    {
     "data": {
      "text/plain": [
       "LGBMClassifier(booster='gbtree', eval_metric='auc', gamma=4, learning_rate=0.01,\n",
       "               max_depth=4, n_estimators=500, nthread=6, random_state=1,\n",
       "               reg_lambda=50)"
      ]
     },
     "execution_count": 94,
     "metadata": {},
     "output_type": "execute_result"
    }
   ],
   "source": [
    "model.fit(\n",
    "    X=X_adv,\n",
    "    y=y_adv,\n",
    "    eval_set=[(X_adv, y_adv)], # (x_test, y_test)],\n",
    "    early_stopping_rounds=5,\n",
    "    categorical_feature=categorical,\n",
    "    \n",
    "    # num_boost_round=100,\n",
    "    eval_metric=\"auc\",\n",
    "    verbose=20\n",
    ")"
   ]
  },
  {
   "cell_type": "code",
   "execution_count": 95,
   "metadata": {},
   "outputs": [
    {
     "name": "stdout",
     "output_type": "stream",
     "text": [
      "[LightGBM] [Warning] Unknown parameter: booster\n",
      "[LightGBM] [Warning] Unknown parameter: eval_metric\n",
      "[LightGBM] [Warning] Unknown parameter: gamma\n",
      "[LightGBM] [Warning] num_threads is set with n_jobs=-1, nthread=6 will be ignored. Current value: num_threads=-1\n",
      "[LightGBM] [Warning] Unknown parameter: booster\n",
      "[LightGBM] [Warning] Unknown parameter: eval_metric\n",
      "[LightGBM] [Warning] Unknown parameter: gamma\n",
      "[LightGBM] [Warning] num_threads is set with n_jobs=-1, nthread=6 will be ignored. Current value: num_threads=-1\n",
      "CV-score: 1.0\n",
      "CPU times: user 7min 56s, sys: 7.65 s, total: 8min 4s\n",
      "Wall time: 1min 46s\n"
     ]
    }
   ],
   "source": [
    "%%time\n",
    "cv = cross_val_score(\n",
    "    estimator=model,\n",
    "    X=X_adv, y=y_adv,\n",
    "    scoring=\"roc_auc\",\n",
    "    cv=KFold(n_splits=3, shuffle=True, random_state=27)\n",
    ")\n",
    "print(f\"CV-score: {round(np.mean(cv), 4)}\")"
   ]
  },
  {
   "cell_type": "code",
   "execution_count": null,
   "metadata": {},
   "outputs": [],
   "source": [
    "# model.fit(\n",
    "#     X=X_adv,\n",
    "#     y=y_adv,\n",
    "#     # eval_set=[(x_train, y_train), (x_test, y_test)],\n",
    "#     early_stopping_rounds=25,\n",
    "#     categorical_feature=categorical,\n",
    "#     # num_boost_round=10000,\n",
    "#     eval_metric=\"auc\",\n",
    "#     verbose=20\n",
    "# )"
   ]
  },
  {
   "cell_type": "code",
   "execution_count": 96,
   "metadata": {},
   "outputs": [
    {
     "data": {
      "text/plain": [
       "Text(0.5, 1.0, 'Top Importance Features for Adversarial Validation (train vs test)')"
      ]
     },
     "execution_count": 96,
     "metadata": {},
     "output_type": "execute_result"
    },
    {
     "data": {
      "image/png": "[encoded data removed]",
      "text/plain": [
       "<Figure size 1440x360 with 1 Axes>"
      ]
     },
     "metadata": {
      "needs_background": "light"
     },
     "output_type": "display_data"
    }
   ],
   "source": [
    "# model.fit(X_adv, y_adv)\n",
    "\n",
    "importance = pd.DataFrame({\n",
    "    \"feature\": X_adv.columns,\n",
    "    \"adversarial_importance\": model.feature_importances_\n",
    "})\n",
    "importance = importance.sort_values(by=\"adversarial_importance\", ascending=False)\n",
    "importance = importance.head(n=10)\n",
    "\n",
    "plt.figure(figsize=(20, 5))\n",
    "sns.barplot(x=importance[\"feature\"], y=importance[\"adversarial_importance\"], palette=\"viridis\")\n",
    "plt.title(\"Top Importance Features for Adversarial Validation (train vs test)\", size=14)"
   ]
  },
  {
   "cell_type": "code",
   "execution_count": 104,
   "metadata": {},
   "outputs": [
    {
     "data": {
      "text/plain": [
       "array(['TransactionID', 'dist1', 'V43', 'D8', 'V127', 'V99', 'V203',\n",
       "       'TransactionAmt', 'V96', 'card5'], dtype=object)"
      ]
     },
     "execution_count": 104,
     "metadata": {},
     "output_type": "execute_result"
    }
   ],
   "source": [
    "importance[\"feature\"].values"
   ]
  },
  {
   "cell_type": "code",
   "execution_count": 107,
   "metadata": {},
   "outputs": [],
   "source": [
    "features = ['TransactionID', 'dist1', 'V43', 'D8', 'V127', 'V99', 'V203',\n",
    "       'TransactionAmt', 'V96', 'card5']"
   ]
  },
  {
   "cell_type": "code",
   "execution_count": 116,
   "metadata": {},
   "outputs": [
    {
     "data": {
      "image/png": "[encoded data removed]",
      "text/plain": [
       "<Figure size 1440x720 with 12 Axes>"
      ]
     },
     "metadata": {
      "needs_background": "light"
     },
     "output_type": "display_data"
    }
   ],
   "source": [
    "# Посмотрим. какое распределение имеют эти признаки. на графике.\n",
    "num_cols =4\n",
    "fig, axes = plt.subplots(3, num_cols, figsize=(20, 10))\n",
    "\n",
    "for num, feature in enumerate(features):\n",
    "    try:\n",
    "        train_data, test_data = public_df[feature].copy(), private_df[feature].copy()\n",
    "        sns.kdeplot(train_data, ax=axes[num//num_cols, num%num_cols], color=\"blue\", label=\"train\")\n",
    "        sns.kdeplot(test_data, ax=axes[num//num_cols, num%num_cols], color=\"green\", label=\"test\")\n",
    "    except RuntimeError:\n",
    "        pass\n",
    "    except KeyError:\n",
    "        train_data = public_df[feature].copy()\n",
    "        sns.kdeplot(train_data, ax=axes[num//num_cols, num%num_cols], color=\"blue\", label=\"train\")\n",
    "    # axes[num//num_cols, num%num_cols].set_title(feature, fontsize=14)"
   ]
  },
  {
   "cell_type": "code",
   "execution_count": null,
   "metadata": {},
   "outputs": [],
   "source": [
    "видно что объекты содержт выбросы. ==> их необходимо почистить. убрать лишние и обрезать. "
   ]
  },
  {
   "cell_type": "markdown",
   "metadata": {},
   "source": [
    "## Задание 5.\n",
    "\n",
    "Сделать KFold / StratifiedKFold валидацию (на ваше усмотрение), оценить получаемые качество и разброс по метрике качества. Сделать выводы об устойчивости кросс-валидации, сходимости оценки на кросс-валидации и отложенном наборе данных; Оценить качество на ЛБ, сделать выводы.\n"
   ]
  },
  {
   "cell_type": "code",
   "execution_count": 118,
   "metadata": {},
   "outputs": [],
   "source": [
    "def make_cross_validation(X: pd.DataFrame,\n",
    "                          y: pd.Series,\n",
    "                          estimator: object,\n",
    "                          metric: callable,\n",
    "                          cv_strategy):\n",
    "    \"\"\"\n",
    "    Кросс-валидация.\n",
    "\n",
    "    Parameters\n",
    "    ----------\n",
    "    X: pd.DataFrame\n",
    "        Матрица признаков.\n",
    "\n",
    "    y: pd.Series\n",
    "        Вектор целевой переменной.\n",
    "\n",
    "    estimator: callable\n",
    "        Объект модели для обучения.\n",
    "\n",
    "    metric: callable\n",
    "        Метрика для оценки качества решения.\n",
    "        Ожидается, что на вход будет передана функция,\n",
    "        которая принимает 2 аргумента: y_true, y_pred.\n",
    "\n",
    "    cv_strategy: cross-validation generator\n",
    "        Объект для описания стратегии кросс-валидации.\n",
    "        Ожидается, что на вход будет передан объект типа\n",
    "        KFold или StratifiedKFold.\n",
    "\n",
    "    Returns\n",
    "    -------\n",
    "    oof_score: float\n",
    "        Значение метрики качества на OOF-прогнозах.\n",
    "\n",
    "    fold_train_scores: List[float]\n",
    "        Значение метрики качества на каждом обучающем датасете кросс-валидации.\n",
    "\n",
    "    fold_valid_scores: List[float]\n",
    "        Значение метрики качества на каждом валидационном датасете кросс-валидации.\n",
    "\n",
    "    oof_predictions: np.array\n",
    "        Прогнозы на OOF.\n",
    "\n",
    "    \"\"\"\n",
    "    estimators, fold_train_scores, fold_valid_scores = [], [], []\n",
    "    oof_predictions = np.zeros(X.shape[0])\n",
    "\n",
    "    for fold_number, (train_idx, valid_idx) in enumerate(cv_strategy.split(X, y)):\n",
    "        x_train, x_valid = X.loc[train_idx], X.loc[valid_idx]\n",
    "        y_train, y_valid = y.loc[train_idx], y.loc[valid_idx]\n",
    "\n",
    "        estimator.fit(x_train, y_train)\n",
    "        y_train_pred = estimator.predict(x_train)\n",
    "        y_valid_pred = estimator.predict(x_valid)\n",
    "\n",
    "        fold_train_scores.append(metric(y_train, y_train_pred))\n",
    "        fold_valid_scores.append(metric(y_valid, y_valid_pred))\n",
    "        oof_predictions[valid_idx] = y_valid_pred\n",
    "\n",
    "        msg = (\n",
    "            f\"Fold: {fold_number+1}, train-observations = {len(train_idx)}, \"\n",
    "            f\"valid-observations = {len(valid_idx)}\\n\"\n",
    "            f\"train-score = {round(fold_train_scores[fold_number], 4)}, \"\n",
    "            f\"valid-score = {round(fold_valid_scores[fold_number], 4)}\" \n",
    "        )\n",
    "        print(msg)\n",
    "        print(\"=\"*69)\n",
    "        estimators.append(estimator)\n",
    "\n",
    "    oof_score = metric(y, oof_predictions)\n",
    "    print(f\"CV-results train: {round(np.mean(fold_train_scores), 4)} +/- {round(np.std(fold_train_scores), 3)}\")\n",
    "    print(f\"CV-results valid: {round(np.mean(fold_valid_scores), 4)} +/- {round(np.std(fold_valid_scores), 3)}\")\n",
    "    print(f\"OOF-score = {round(oof_score, 4)}\")\n",
    "\n",
    "    return estimators, oof_score, fold_train_scores, fold_valid_scores, oof_predictions"
   ]
  },
  {
   "cell_type": "code",
   "execution_count": 119,
   "metadata": {},
   "outputs": [
    {
     "name": "stdout",
     "output_type": "stream",
     "text": [
      "[LightGBM] [Warning] Unknown parameter: booster\n",
      "[LightGBM] [Warning] Unknown parameter: eval_metric\n",
      "[LightGBM] [Warning] Unknown parameter: gamma\n",
      "[LightGBM] [Warning] num_threads is set with n_jobs=-1, nthread=6 will be ignored. Current value: num_threads=-1\n",
      "Fold: 1, train-observations = 80000, valid-observations = 20001\n",
      "train-score = 0.6444, valid-score = 0.6398\n",
      "=====================================================================\n",
      "[LightGBM] [Warning] Unknown parameter: booster\n",
      "[LightGBM] [Warning] Unknown parameter: eval_metric\n",
      "[LightGBM] [Warning] Unknown parameter: gamma\n",
      "[LightGBM] [Warning] num_threads is set with n_jobs=-1, nthread=6 will be ignored. Current value: num_threads=-1\n",
      "Fold: 2, train-observations = 80001, valid-observations = 20000\n",
      "train-score = 0.6416, valid-score = 0.6293\n",
      "=====================================================================\n",
      "[LightGBM] [Warning] Unknown parameter: booster\n",
      "[LightGBM] [Warning] Unknown parameter: eval_metric\n",
      "[LightGBM] [Warning] Unknown parameter: gamma\n",
      "[LightGBM] [Warning] num_threads is set with n_jobs=-1, nthread=6 will be ignored. Current value: num_threads=-1\n",
      "Fold: 3, train-observations = 80001, valid-observations = 20000\n",
      "train-score = 0.6415, valid-score = 0.6418\n",
      "=====================================================================\n",
      "[LightGBM] [Warning] Unknown parameter: booster\n",
      "[LightGBM] [Warning] Unknown parameter: eval_metric\n",
      "[LightGBM] [Warning] Unknown parameter: gamma\n",
      "[LightGBM] [Warning] num_threads is set with n_jobs=-1, nthread=6 will be ignored. Current value: num_threads=-1\n",
      "Fold: 4, train-observations = 80001, valid-observations = 20000\n",
      "train-score = 0.6437, valid-score = 0.6506\n",
      "=====================================================================\n",
      "[LightGBM] [Warning] Unknown parameter: booster\n",
      "[LightGBM] [Warning] Unknown parameter: eval_metric\n",
      "[LightGBM] [Warning] Unknown parameter: gamma\n",
      "[LightGBM] [Warning] num_threads is set with n_jobs=-1, nthread=6 will be ignored. Current value: num_threads=-1\n",
      "Fold: 5, train-observations = 80001, valid-observations = 20000\n",
      "train-score = 0.6455, valid-score = 0.6326\n",
      "=====================================================================\n",
      "CV-results train: 0.6433 +/- 0.002\n",
      "CV-results valid: 0.6388 +/- 0.007\n",
      "OOF-score = 0.6389\n"
     ]
    }
   ],
   "source": [
    "cv_strategy = KFold(n_splits=5, random_state=1, shuffle=True)\n",
    "\n",
    "estimators, oof_score, fold_train_scores, fold_valid_scores, oof_predictions = make_cross_validation(\n",
    "   x_private, y_private, model, metric=roc_auc_score, cv_strategy=cv_strategy\n",
    ")"
   ]
  },
  {
   "cell_type": "code",
   "execution_count": 120,
   "metadata": {},
   "outputs": [
    {
     "name": "stdout",
     "output_type": "stream",
     "text": [
      "[LightGBM] [Warning] Unknown parameter: booster\n",
      "[LightGBM] [Warning] Unknown parameter: eval_metric\n",
      "[LightGBM] [Warning] Unknown parameter: gamma\n",
      "[LightGBM] [Warning] num_threads is set with n_jobs=-1, nthread=6 will be ignored. Current value: num_threads=-1\n",
      "Fold: 1, train-observations = 80000, valid-observations = 20001\n",
      "train-score = 0.6436, valid-score = 0.6413\n",
      "=====================================================================\n",
      "[LightGBM] [Warning] Unknown parameter: booster\n",
      "[LightGBM] [Warning] Unknown parameter: eval_metric\n",
      "[LightGBM] [Warning] Unknown parameter: gamma\n",
      "[LightGBM] [Warning] num_threads is set with n_jobs=-1, nthread=6 will be ignored. Current value: num_threads=-1\n",
      "Fold: 2, train-observations = 80001, valid-observations = 20000\n",
      "train-score = 0.6354, valid-score = 0.6557\n",
      "=====================================================================\n",
      "[LightGBM] [Warning] Unknown parameter: booster\n",
      "[LightGBM] [Warning] Unknown parameter: eval_metric\n",
      "[LightGBM] [Warning] Unknown parameter: gamma\n",
      "[LightGBM] [Warning] num_threads is set with n_jobs=-1, nthread=6 will be ignored. Current value: num_threads=-1\n",
      "Fold: 3, train-observations = 80001, valid-observations = 20000\n",
      "train-score = 0.6421, valid-score = 0.6321\n",
      "=====================================================================\n",
      "[LightGBM] [Warning] Unknown parameter: booster\n",
      "[LightGBM] [Warning] Unknown parameter: eval_metric\n",
      "[LightGBM] [Warning] Unknown parameter: gamma\n",
      "[LightGBM] [Warning] num_threads is set with n_jobs=-1, nthread=6 will be ignored. Current value: num_threads=-1\n",
      "Fold: 4, train-observations = 80001, valid-observations = 20000\n",
      "train-score = 0.6437, valid-score = 0.6375\n",
      "=====================================================================\n",
      "[LightGBM] [Warning] Unknown parameter: booster\n",
      "[LightGBM] [Warning] Unknown parameter: eval_metric\n",
      "[LightGBM] [Warning] Unknown parameter: gamma\n",
      "[LightGBM] [Warning] num_threads is set with n_jobs=-1, nthread=6 will be ignored. Current value: num_threads=-1\n",
      "Fold: 5, train-observations = 80001, valid-observations = 20000\n",
      "train-score = 0.6465, valid-score = 0.6237\n",
      "=====================================================================\n",
      "CV-results train: 0.6423 +/- 0.004\n",
      "CV-results valid: 0.6381 +/- 0.011\n",
      "OOF-score = 0.6381\n"
     ]
    }
   ],
   "source": [
    "cv_strategy = StratifiedKFold(n_splits=5, random_state=1, shuffle=True)\n",
    "\n",
    "estimators, oof_score, fold_train_scores, fold_valid_scores, oof_predictions = make_cross_validation(\n",
    "   x_private, y_private, model, metric=roc_auc_score, cv_strategy=cv_strategy\n",
    ")"
   ]
  },
  {
   "cell_type": "code",
   "execution_count": null,
   "metadata": {},
   "outputs": [],
   "source": []
  },
  {
   "cell_type": "code",
   "execution_count": null,
   "metadata": {},
   "outputs": [],
   "source": []
  },
  {
   "cell_type": "code",
   "execution_count": null,
   "metadata": {},
   "outputs": [],
   "source": []
  },
  {
   "cell_type": "code",
   "execution_count": null,
   "metadata": {},
   "outputs": [],
   "source": []
  },
  {
   "cell_type": "markdown",
   "metadata": {},
   "source": [
    "## Задание 6 (опциональное).\n",
    "\n",
    "Сделать Hold-Out валидацию по времени (`TransactionDT`), повторить процедуры из п.1 / п.2 (на ваш выбор). Построить доверительный интервал, сравнить качество на ЛБ выборке с полученным доверительным интервалом. Сделать выводы.\n"
   ]
  },
  {
   "cell_type": "code",
   "execution_count": null,
   "metadata": {},
   "outputs": [],
   "source": []
  },
  {
   "cell_type": "code",
   "execution_count": null,
   "metadata": {},
   "outputs": [],
   "source": []
  },
  {
   "cell_type": "code",
   "execution_count": null,
   "metadata": {},
   "outputs": [],
   "source": []
  },
  {
   "cell_type": "code",
   "execution_count": null,
   "metadata": {},
   "outputs": [],
   "source": []
  },
  {
   "cell_type": "markdown",
   "metadata": {},
   "source": [
    "## Задание 7 (совсем опциональное).\n",
    "\n",
    "В данном наборе данных у нас есть ID-транзакции (`TransactionID`) и время транзакции (`TransactionDT`), но отсутствует ID-клиента, который совершал транзакции. Кажется, что в этой задаче валидация по клиенту работала бы хорошо. Предложить критерий, по которому можно выделить клиентов и сделать п.5, используя созданное определение клиента, используя валидацию по клиенту (`GroupKFold`)."
   ]
  },
  {
   "cell_type": "code",
   "execution_count": null,
   "metadata": {},
   "outputs": [],
   "source": []
  },
  {
   "cell_type": "code",
   "execution_count": null,
   "metadata": {},
   "outputs": [],
   "source": []
  },
  {
   "cell_type": "code",
   "execution_count": null,
   "metadata": {},
   "outputs": [],
   "source": []
  }
 ],
 "metadata": {
  "interpreter": {
   "hash": "da538714de4b70115e547d177ba7403fcac2bb9e900966344e6205f669f7f42f"
  },
  "kernelspec": {
   "display_name": "Python 3.8.11 64-bit ('nlp_env': conda)",
   "name": "python3"
  },
  "language_info": {
   "codemirror_mode": {
    "name": "ipython",
    "version": 3
   },
   "file_extension": ".py",
   "mimetype": "text/x-python",
   "name": "python",
   "nbconvert_exporter": "python",
   "pygments_lexer": "ipython3",
   "version": "3.8.11"
  }
 },
 "nbformat": 4,
 "nbformat_minor": 2
}
